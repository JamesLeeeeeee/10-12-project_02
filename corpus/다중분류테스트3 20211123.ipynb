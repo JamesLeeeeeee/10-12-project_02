{
 "cells": [
  {
   "cell_type": "code",
   "execution_count": 4,
   "id": "77600962",
   "metadata": {},
   "outputs": [],
   "source": [
    "import json\n",
    "with open('c:\\IG\\TM.json', 'r') as f:\n",
    "    TM=json.load(f)\n",
    "with open('c:\\IG\\IF.json', 'r') as f:\n",
    "    IF=json.load(f)\n",
    "with open('c:\\IG\\IH.json', 'r') as f:\n",
    "    IH=json.load(f)\n",
    "with open('c:\\IG\\\\NA.json', 'r') as f:\n",
    "    NA=json.load(f)\n",
    "with open('c:\\IG\\\\NC.json', 'r') as f:\n",
    "    NC=json.load(f)\n",
    "with open('c:\\IG\\\\NP.json', 'r') as f:\n",
    "    NP=json.load(f)\n",
    "with open('c:\\IG\\\\NM.json', 'r') as f:\n",
    "    NM=json.load(f)\n",
    "with open('c:\\IG\\\\NF.json', 'r') as f:\n",
    "    NF=json.load(f)\n",
    "with open('c:\\IG\\\\IA1.json', 'r') as f:\n",
    "    IA=json.load(f)\n",
    "with open('c:\\IG\\\\IT1.json', 'r') as f:\n",
    "    IT=json.load(f)"
   ]
  },
  {
   "cell_type": "code",
   "execution_count": 5,
   "id": "edfbd736",
   "metadata": {},
   "outputs": [
    {
     "data": {
      "text/plain": [
       "242"
      ]
     },
     "execution_count": 5,
     "metadata": {},
     "output_type": "execute_result"
    },
    {
     "data": {
      "text/plain": [
       "242"
      ]
     },
     "execution_count": 5,
     "metadata": {},
     "output_type": "execute_result"
    },
    {
     "data": {
      "text/plain": [
       "242"
      ]
     },
     "execution_count": 5,
     "metadata": {},
     "output_type": "execute_result"
    }
   ],
   "source": [
    "len(IT)"
   ]
  },
  {
   "cell_type": "code",
   "execution_count": 6,
   "id": "6bfea90b",
   "metadata": {},
   "outputs": [],
   "source": [
    "import pandas as pd"
   ]
  },
  {
   "cell_type": "code",
   "execution_count": 7,
   "id": "1f3e4df6",
   "metadata": {},
   "outputs": [],
   "source": [
    "tm_text=[]\n",
    "if_text=[]\n",
    "ih_text=[]\n",
    "na_text=[]\n",
    "nc_text=[]\n",
    "nm_text=[]\n",
    "np_text=[]\n",
    "nf_text=[]\n",
    "ia_text=[]\n",
    "it_text=[]\n",
    "for i in TM:\n",
    "    tm_text.append(i['document']['content']['text'])\n",
    "for i in IF:\n",
    "    if_text.append(i['document']['content']['text'])\n",
    "for i in IH:\n",
    "    ih_text.append(i['document']['content']['text'])\n",
    "for i in NA:\n",
    "    na_text.append(i['document']['content']['text'])\n",
    "for i in NC:\n",
    "    nc_text.append(i['document']['content']['text'])\n",
    "for i in NM:\n",
    "    nm_text.append(i['document']['content']['text'])\n",
    "for i in NP:\n",
    "    np_text.append(i['document']['content']['text'])\n",
    "for i in NF:\n",
    "    nf_text.append(i['document']['content']['text'])\n",
    "for i in IA:\n",
    "    ia_text.append(i['document']['content']['text'])\n",
    "for i in IT:\n",
    "    it_text.append(i['document']['content']['text'])"
   ]
  },
  {
   "cell_type": "code",
   "execution_count": 8,
   "id": "6c9ecd6c",
   "metadata": {},
   "outputs": [],
   "source": [
    "df_tm=pd.DataFrame(tm_text,columns=['text'])\n",
    "df_if=pd.DataFrame(if_text,columns=['text'])\n",
    "df_ih=pd.DataFrame(ih_text,columns=['text'])\n",
    "df_na=pd.DataFrame(na_text,columns=['text'])\n",
    "df_nc=pd.DataFrame(nc_text,columns=['text'])\n",
    "df_nm=pd.DataFrame(nm_text,columns=['text'])\n",
    "df_np=pd.DataFrame(np_text,columns=['text'])\n",
    "df_nf=pd.DataFrame(nf_text,columns=['text'])\n",
    "df_ia=pd.DataFrame(ia_text,columns=['text'])\n",
    "df_it=pd.DataFrame(it_text,columns=['text'])"
   ]
  },
  {
   "cell_type": "code",
   "execution_count": 9,
   "id": "5b269edb",
   "metadata": {},
   "outputs": [],
   "source": [
    "df_tm.drop_duplicates(subset=['text'],inplace=True)\n",
    "df_if.drop_duplicates(subset=['text'],inplace=True)\n",
    "df_ih.drop_duplicates(subset=['text'],inplace=True)\n",
    "df_na.drop_duplicates(subset=['text'],inplace=True)\n",
    "df_nc.drop_duplicates(subset=['text'],inplace=True)\n",
    "df_nm.drop_duplicates(subset=['text'],inplace=True)\n",
    "df_np.drop_duplicates(subset=['text'],inplace=True)\n",
    "df_nf.drop_duplicates(subset=['text'],inplace=True)\n",
    "df_ia.drop_duplicates(subset=['text'],inplace=True)\n",
    "df_it.drop_duplicates(subset=['text'],inplace=True)"
   ]
  },
  {
   "cell_type": "code",
   "execution_count": 10,
   "id": "9ac3f0c1",
   "metadata": {},
   "outputs": [],
   "source": [
    "label=['박물관','음식','미용실','술집','카페','식물','연극']"
   ]
  },
  {
   "cell_type": "code",
   "execution_count": 11,
   "id": "ff2891d6",
   "metadata": {},
   "outputs": [],
   "source": [
    "df_tm['target']=0\n",
    "df_if['target']=1\n",
    "df_ih['target']=2\n",
    "df_na['target']=3\n",
    "df_nc['target']=4\n",
    "df_nm['target']=0\n",
    "df_np['target']=5\n",
    "df_nf['target']=1\n",
    "df_ia['target']=4\n",
    "df_it['target']=6"
   ]
  },
  {
   "cell_type": "code",
   "execution_count": 12,
   "id": "b260941d",
   "metadata": {},
   "outputs": [
    {
     "data": {
      "text/html": [
       "<div>\n",
       "<style scoped>\n",
       "    .dataframe tbody tr th:only-of-type {\n",
       "        vertical-align: middle;\n",
       "    }\n",
       "\n",
       "    .dataframe tbody tr th {\n",
       "        vertical-align: top;\n",
       "    }\n",
       "\n",
       "    .dataframe thead th {\n",
       "        text-align: right;\n",
       "    }\n",
       "</style>\n",
       "<table border=\"1\" class=\"dataframe\">\n",
       "  <thead>\n",
       "    <tr style=\"text-align: right;\">\n",
       "      <th></th>\n",
       "      <th>text</th>\n",
       "      <th>target</th>\n",
       "    </tr>\n",
       "  </thead>\n",
       "  <tbody>\n",
       "    <tr>\n",
       "      <th>0</th>\n",
       "      <td>[  ad ] ⁡ 대학로 하면 연극  연극 하면 대학로죠   대학로 인기 연극 중 ...</td>\n",
       "      <td>6</td>\n",
       "    </tr>\n",
       "    <tr>\n",
       "      <th>1</th>\n",
       "      <td>오랜만에 맘에드는 연극한다고해서 관람하고 왔습니다   좋아하는 김민교 배우님께서 연...</td>\n",
       "      <td>6</td>\n",
       "    </tr>\n",
       "    <tr>\n",
       "      <th>2</th>\n",
       "      <td>협찬 전 세계인들이 사랑하는 테네시 월리엄스 작품의 연극  욕망이라는 이름의 전차...</td>\n",
       "      <td>6</td>\n",
       "    </tr>\n",
       "    <tr>\n",
       "      <th>3</th>\n",
       "      <td>언플러그드  차시즌 배우 첫공 완료  고생하셨습니다♥️  대학로연극  언플러그드  많관부</td>\n",
       "      <td>6</td>\n",
       "    </tr>\n",
       "    <tr>\n",
       "      <th>4</th>\n",
       "      <td>극단 플레이규 일곱번째 레퍼토리   연극 “투머치브로”     월 일 수    월 ...</td>\n",
       "      <td>6</td>\n",
       "    </tr>\n",
       "    <tr>\n",
       "      <th>...</th>\n",
       "      <td>...</td>\n",
       "      <td>...</td>\n",
       "    </tr>\n",
       "    <tr>\n",
       "      <th>237</th>\n",
       "      <td>엄마지분 오랜만에  추억의 포토존  이렇게라도 나오니 숨통이 좀 트이네</td>\n",
       "      <td>6</td>\n",
       "    </tr>\n",
       "    <tr>\n",
       "      <th>238</th>\n",
       "      <td>게으른  관극기록    연극 [템플] 보편성에서 벗어난 사람에게 보편적인 답을 정해...</td>\n",
       "      <td>6</td>\n",
       "    </tr>\n",
       "    <tr>\n",
       "      <th>239</th>\n",
       "      <td>[수업 ]        일   시  막공 ‼️   극단솥귀  연극수업  외젠이오네스...</td>\n",
       "      <td>6</td>\n",
       "    </tr>\n",
       "    <tr>\n",
       "      <th>240</th>\n",
       "      <td>낼 나 출근 왜 하는지 아는 사람 왜 벌써 끝인지 아는 사람 바나 잠실새내점 폭파시...</td>\n",
       "      <td>6</td>\n",
       "    </tr>\n",
       "    <tr>\n",
       "      <th>241</th>\n",
       "      <td>웃으면 복이와요   운빨로맨스 연극 대학로연극 로맨스코미디</td>\n",
       "      <td>6</td>\n",
       "    </tr>\n",
       "  </tbody>\n",
       "</table>\n",
       "<p>215 rows × 2 columns</p>\n",
       "</div>"
      ],
      "text/plain": [
       "                                                  text  target\n",
       "0    [  ad ] ⁡ 대학로 하면 연극  연극 하면 대학로죠   대학로 인기 연극 중 ...       6\n",
       "1    오랜만에 맘에드는 연극한다고해서 관람하고 왔습니다   좋아하는 김민교 배우님께서 연...       6\n",
       "2     협찬 전 세계인들이 사랑하는 테네시 월리엄스 작품의 연극  욕망이라는 이름의 전차...       6\n",
       "3    언플러그드  차시즌 배우 첫공 완료  고생하셨습니다♥️  대학로연극  언플러그드  많관부       6\n",
       "4    극단 플레이규 일곱번째 레퍼토리   연극 “투머치브로”     월 일 수    월 ...       6\n",
       "..                                                 ...     ...\n",
       "237           엄마지분 오랜만에  추억의 포토존  이렇게라도 나오니 숨통이 좀 트이네        6\n",
       "238  게으른  관극기록    연극 [템플] 보편성에서 벗어난 사람에게 보편적인 답을 정해...       6\n",
       "239  [수업 ]        일   시  막공 ‼️   극단솥귀  연극수업  외젠이오네스...       6\n",
       "240  낼 나 출근 왜 하는지 아는 사람 왜 벌써 끝인지 아는 사람 바나 잠실새내점 폭파시...       6\n",
       "241                   웃으면 복이와요   운빨로맨스 연극 대학로연극 로맨스코미디       6\n",
       "\n",
       "[215 rows x 2 columns]"
      ]
     },
     "execution_count": 12,
     "metadata": {},
     "output_type": "execute_result"
    },
    {
     "data": {
      "text/html": [
       "<div>\n",
       "<style scoped>\n",
       "    .dataframe tbody tr th:only-of-type {\n",
       "        vertical-align: middle;\n",
       "    }\n",
       "\n",
       "    .dataframe tbody tr th {\n",
       "        vertical-align: top;\n",
       "    }\n",
       "\n",
       "    .dataframe thead th {\n",
       "        text-align: right;\n",
       "    }\n",
       "</style>\n",
       "<table border=\"1\" class=\"dataframe\">\n",
       "  <thead>\n",
       "    <tr style=\"text-align: right;\">\n",
       "      <th></th>\n",
       "      <th>text</th>\n",
       "      <th>target</th>\n",
       "    </tr>\n",
       "  </thead>\n",
       "  <tbody>\n",
       "    <tr>\n",
       "      <th>0</th>\n",
       "      <td>[  ad ] ⁡ 대학로 하면 연극  연극 하면 대학로죠   대학로 인기 연극 중 ...</td>\n",
       "      <td>6</td>\n",
       "    </tr>\n",
       "    <tr>\n",
       "      <th>1</th>\n",
       "      <td>오랜만에 맘에드는 연극한다고해서 관람하고 왔습니다   좋아하는 김민교 배우님께서 연...</td>\n",
       "      <td>6</td>\n",
       "    </tr>\n",
       "    <tr>\n",
       "      <th>2</th>\n",
       "      <td>협찬 전 세계인들이 사랑하는 테네시 월리엄스 작품의 연극  욕망이라는 이름의 전차...</td>\n",
       "      <td>6</td>\n",
       "    </tr>\n",
       "    <tr>\n",
       "      <th>3</th>\n",
       "      <td>언플러그드  차시즌 배우 첫공 완료  고생하셨습니다♥️  대학로연극  언플러그드  많관부</td>\n",
       "      <td>6</td>\n",
       "    </tr>\n",
       "    <tr>\n",
       "      <th>4</th>\n",
       "      <td>극단 플레이규 일곱번째 레퍼토리   연극 “투머치브로”     월 일 수    월 ...</td>\n",
       "      <td>6</td>\n",
       "    </tr>\n",
       "    <tr>\n",
       "      <th>...</th>\n",
       "      <td>...</td>\n",
       "      <td>...</td>\n",
       "    </tr>\n",
       "    <tr>\n",
       "      <th>237</th>\n",
       "      <td>엄마지분 오랜만에  추억의 포토존  이렇게라도 나오니 숨통이 좀 트이네</td>\n",
       "      <td>6</td>\n",
       "    </tr>\n",
       "    <tr>\n",
       "      <th>238</th>\n",
       "      <td>게으른  관극기록    연극 [템플] 보편성에서 벗어난 사람에게 보편적인 답을 정해...</td>\n",
       "      <td>6</td>\n",
       "    </tr>\n",
       "    <tr>\n",
       "      <th>239</th>\n",
       "      <td>[수업 ]        일   시  막공 ‼️   극단솥귀  연극수업  외젠이오네스...</td>\n",
       "      <td>6</td>\n",
       "    </tr>\n",
       "    <tr>\n",
       "      <th>240</th>\n",
       "      <td>낼 나 출근 왜 하는지 아는 사람 왜 벌써 끝인지 아는 사람 바나 잠실새내점 폭파시...</td>\n",
       "      <td>6</td>\n",
       "    </tr>\n",
       "    <tr>\n",
       "      <th>241</th>\n",
       "      <td>웃으면 복이와요   운빨로맨스 연극 대학로연극 로맨스코미디</td>\n",
       "      <td>6</td>\n",
       "    </tr>\n",
       "  </tbody>\n",
       "</table>\n",
       "<p>215 rows × 2 columns</p>\n",
       "</div>"
      ],
      "text/plain": [
       "                                                  text  target\n",
       "0    [  ad ] ⁡ 대학로 하면 연극  연극 하면 대학로죠   대학로 인기 연극 중 ...       6\n",
       "1    오랜만에 맘에드는 연극한다고해서 관람하고 왔습니다   좋아하는 김민교 배우님께서 연...       6\n",
       "2     협찬 전 세계인들이 사랑하는 테네시 월리엄스 작품의 연극  욕망이라는 이름의 전차...       6\n",
       "3    언플러그드  차시즌 배우 첫공 완료  고생하셨습니다♥️  대학로연극  언플러그드  많관부       6\n",
       "4    극단 플레이규 일곱번째 레퍼토리   연극 “투머치브로”     월 일 수    월 ...       6\n",
       "..                                                 ...     ...\n",
       "237           엄마지분 오랜만에  추억의 포토존  이렇게라도 나오니 숨통이 좀 트이네        6\n",
       "238  게으른  관극기록    연극 [템플] 보편성에서 벗어난 사람에게 보편적인 답을 정해...       6\n",
       "239  [수업 ]        일   시  막공 ‼️   극단솥귀  연극수업  외젠이오네스...       6\n",
       "240  낼 나 출근 왜 하는지 아는 사람 왜 벌써 끝인지 아는 사람 바나 잠실새내점 폭파시...       6\n",
       "241                   웃으면 복이와요   운빨로맨스 연극 대학로연극 로맨스코미디       6\n",
       "\n",
       "[215 rows x 2 columns]"
      ]
     },
     "execution_count": 12,
     "metadata": {},
     "output_type": "execute_result"
    },
    {
     "data": {
      "text/html": [
       "<div>\n",
       "<style scoped>\n",
       "    .dataframe tbody tr th:only-of-type {\n",
       "        vertical-align: middle;\n",
       "    }\n",
       "\n",
       "    .dataframe tbody tr th {\n",
       "        vertical-align: top;\n",
       "    }\n",
       "\n",
       "    .dataframe thead th {\n",
       "        text-align: right;\n",
       "    }\n",
       "</style>\n",
       "<table border=\"1\" class=\"dataframe\">\n",
       "  <thead>\n",
       "    <tr style=\"text-align: right;\">\n",
       "      <th></th>\n",
       "      <th>text</th>\n",
       "      <th>target</th>\n",
       "    </tr>\n",
       "  </thead>\n",
       "  <tbody>\n",
       "    <tr>\n",
       "      <th>0</th>\n",
       "      <td>[  ad ] ⁡ 대학로 하면 연극  연극 하면 대학로죠   대학로 인기 연극 중 ...</td>\n",
       "      <td>6</td>\n",
       "    </tr>\n",
       "    <tr>\n",
       "      <th>1</th>\n",
       "      <td>오랜만에 맘에드는 연극한다고해서 관람하고 왔습니다   좋아하는 김민교 배우님께서 연...</td>\n",
       "      <td>6</td>\n",
       "    </tr>\n",
       "    <tr>\n",
       "      <th>2</th>\n",
       "      <td>협찬 전 세계인들이 사랑하는 테네시 월리엄스 작품의 연극  욕망이라는 이름의 전차...</td>\n",
       "      <td>6</td>\n",
       "    </tr>\n",
       "    <tr>\n",
       "      <th>3</th>\n",
       "      <td>언플러그드  차시즌 배우 첫공 완료  고생하셨습니다♥️  대학로연극  언플러그드  많관부</td>\n",
       "      <td>6</td>\n",
       "    </tr>\n",
       "    <tr>\n",
       "      <th>4</th>\n",
       "      <td>극단 플레이규 일곱번째 레퍼토리   연극 “투머치브로”     월 일 수    월 ...</td>\n",
       "      <td>6</td>\n",
       "    </tr>\n",
       "    <tr>\n",
       "      <th>...</th>\n",
       "      <td>...</td>\n",
       "      <td>...</td>\n",
       "    </tr>\n",
       "    <tr>\n",
       "      <th>237</th>\n",
       "      <td>엄마지분 오랜만에  추억의 포토존  이렇게라도 나오니 숨통이 좀 트이네</td>\n",
       "      <td>6</td>\n",
       "    </tr>\n",
       "    <tr>\n",
       "      <th>238</th>\n",
       "      <td>게으른  관극기록    연극 [템플] 보편성에서 벗어난 사람에게 보편적인 답을 정해...</td>\n",
       "      <td>6</td>\n",
       "    </tr>\n",
       "    <tr>\n",
       "      <th>239</th>\n",
       "      <td>[수업 ]        일   시  막공 ‼️   극단솥귀  연극수업  외젠이오네스...</td>\n",
       "      <td>6</td>\n",
       "    </tr>\n",
       "    <tr>\n",
       "      <th>240</th>\n",
       "      <td>낼 나 출근 왜 하는지 아는 사람 왜 벌써 끝인지 아는 사람 바나 잠실새내점 폭파시...</td>\n",
       "      <td>6</td>\n",
       "    </tr>\n",
       "    <tr>\n",
       "      <th>241</th>\n",
       "      <td>웃으면 복이와요   운빨로맨스 연극 대학로연극 로맨스코미디</td>\n",
       "      <td>6</td>\n",
       "    </tr>\n",
       "  </tbody>\n",
       "</table>\n",
       "<p>215 rows × 2 columns</p>\n",
       "</div>"
      ],
      "text/plain": [
       "                                                  text  target\n",
       "0    [  ad ] ⁡ 대학로 하면 연극  연극 하면 대학로죠   대학로 인기 연극 중 ...       6\n",
       "1    오랜만에 맘에드는 연극한다고해서 관람하고 왔습니다   좋아하는 김민교 배우님께서 연...       6\n",
       "2     협찬 전 세계인들이 사랑하는 테네시 월리엄스 작품의 연극  욕망이라는 이름의 전차...       6\n",
       "3    언플러그드  차시즌 배우 첫공 완료  고생하셨습니다♥️  대학로연극  언플러그드  많관부       6\n",
       "4    극단 플레이규 일곱번째 레퍼토리   연극 “투머치브로”     월 일 수    월 ...       6\n",
       "..                                                 ...     ...\n",
       "237           엄마지분 오랜만에  추억의 포토존  이렇게라도 나오니 숨통이 좀 트이네        6\n",
       "238  게으른  관극기록    연극 [템플] 보편성에서 벗어난 사람에게 보편적인 답을 정해...       6\n",
       "239  [수업 ]        일   시  막공 ‼️   극단솥귀  연극수업  외젠이오네스...       6\n",
       "240  낼 나 출근 왜 하는지 아는 사람 왜 벌써 끝인지 아는 사람 바나 잠실새내점 폭파시...       6\n",
       "241                   웃으면 복이와요   운빨로맨스 연극 대학로연극 로맨스코미디       6\n",
       "\n",
       "[215 rows x 2 columns]"
      ]
     },
     "execution_count": 12,
     "metadata": {},
     "output_type": "execute_result"
    }
   ],
   "source": [
    "df_it"
   ]
  },
  {
   "cell_type": "code",
   "execution_count": 13,
   "id": "0336325e",
   "metadata": {},
   "outputs": [],
   "source": [
    "df_tm=df_tm.dropna(how='any')"
   ]
  },
  {
   "cell_type": "code",
   "execution_count": 14,
   "id": "c6e279db",
   "metadata": {
    "scrolled": true
   },
   "outputs": [
    {
     "data": {
      "text/html": [
       "<div>\n",
       "<style scoped>\n",
       "    .dataframe tbody tr th:only-of-type {\n",
       "        vertical-align: middle;\n",
       "    }\n",
       "\n",
       "    .dataframe tbody tr th {\n",
       "        vertical-align: top;\n",
       "    }\n",
       "\n",
       "    .dataframe thead th {\n",
       "        text-align: right;\n",
       "    }\n",
       "</style>\n",
       "<table border=\"1\" class=\"dataframe\">\n",
       "  <thead>\n",
       "    <tr style=\"text-align: right;\">\n",
       "      <th></th>\n",
       "      <th>target</th>\n",
       "    </tr>\n",
       "  </thead>\n",
       "  <tbody>\n",
       "    <tr>\n",
       "      <th>count</th>\n",
       "      <td>891.0</td>\n",
       "    </tr>\n",
       "    <tr>\n",
       "      <th>mean</th>\n",
       "      <td>0.0</td>\n",
       "    </tr>\n",
       "    <tr>\n",
       "      <th>std</th>\n",
       "      <td>0.0</td>\n",
       "    </tr>\n",
       "    <tr>\n",
       "      <th>min</th>\n",
       "      <td>0.0</td>\n",
       "    </tr>\n",
       "    <tr>\n",
       "      <th>25%</th>\n",
       "      <td>0.0</td>\n",
       "    </tr>\n",
       "    <tr>\n",
       "      <th>50%</th>\n",
       "      <td>0.0</td>\n",
       "    </tr>\n",
       "    <tr>\n",
       "      <th>75%</th>\n",
       "      <td>0.0</td>\n",
       "    </tr>\n",
       "    <tr>\n",
       "      <th>max</th>\n",
       "      <td>0.0</td>\n",
       "    </tr>\n",
       "  </tbody>\n",
       "</table>\n",
       "</div>"
      ],
      "text/plain": [
       "       target\n",
       "count   891.0\n",
       "mean      0.0\n",
       "std       0.0\n",
       "min       0.0\n",
       "25%       0.0\n",
       "50%       0.0\n",
       "75%       0.0\n",
       "max       0.0"
      ]
     },
     "execution_count": 14,
     "metadata": {},
     "output_type": "execute_result"
    },
    {
     "data": {
      "text/html": [
       "<div>\n",
       "<style scoped>\n",
       "    .dataframe tbody tr th:only-of-type {\n",
       "        vertical-align: middle;\n",
       "    }\n",
       "\n",
       "    .dataframe tbody tr th {\n",
       "        vertical-align: top;\n",
       "    }\n",
       "\n",
       "    .dataframe thead th {\n",
       "        text-align: right;\n",
       "    }\n",
       "</style>\n",
       "<table border=\"1\" class=\"dataframe\">\n",
       "  <thead>\n",
       "    <tr style=\"text-align: right;\">\n",
       "      <th></th>\n",
       "      <th>target</th>\n",
       "    </tr>\n",
       "  </thead>\n",
       "  <tbody>\n",
       "    <tr>\n",
       "      <th>count</th>\n",
       "      <td>891.0</td>\n",
       "    </tr>\n",
       "    <tr>\n",
       "      <th>mean</th>\n",
       "      <td>0.0</td>\n",
       "    </tr>\n",
       "    <tr>\n",
       "      <th>std</th>\n",
       "      <td>0.0</td>\n",
       "    </tr>\n",
       "    <tr>\n",
       "      <th>min</th>\n",
       "      <td>0.0</td>\n",
       "    </tr>\n",
       "    <tr>\n",
       "      <th>25%</th>\n",
       "      <td>0.0</td>\n",
       "    </tr>\n",
       "    <tr>\n",
       "      <th>50%</th>\n",
       "      <td>0.0</td>\n",
       "    </tr>\n",
       "    <tr>\n",
       "      <th>75%</th>\n",
       "      <td>0.0</td>\n",
       "    </tr>\n",
       "    <tr>\n",
       "      <th>max</th>\n",
       "      <td>0.0</td>\n",
       "    </tr>\n",
       "  </tbody>\n",
       "</table>\n",
       "</div>"
      ],
      "text/plain": [
       "       target\n",
       "count   891.0\n",
       "mean      0.0\n",
       "std       0.0\n",
       "min       0.0\n",
       "25%       0.0\n",
       "50%       0.0\n",
       "75%       0.0\n",
       "max       0.0"
      ]
     },
     "execution_count": 14,
     "metadata": {},
     "output_type": "execute_result"
    },
    {
     "data": {
      "text/html": [
       "<div>\n",
       "<style scoped>\n",
       "    .dataframe tbody tr th:only-of-type {\n",
       "        vertical-align: middle;\n",
       "    }\n",
       "\n",
       "    .dataframe tbody tr th {\n",
       "        vertical-align: top;\n",
       "    }\n",
       "\n",
       "    .dataframe thead th {\n",
       "        text-align: right;\n",
       "    }\n",
       "</style>\n",
       "<table border=\"1\" class=\"dataframe\">\n",
       "  <thead>\n",
       "    <tr style=\"text-align: right;\">\n",
       "      <th></th>\n",
       "      <th>target</th>\n",
       "    </tr>\n",
       "  </thead>\n",
       "  <tbody>\n",
       "    <tr>\n",
       "      <th>count</th>\n",
       "      <td>891.0</td>\n",
       "    </tr>\n",
       "    <tr>\n",
       "      <th>mean</th>\n",
       "      <td>0.0</td>\n",
       "    </tr>\n",
       "    <tr>\n",
       "      <th>std</th>\n",
       "      <td>0.0</td>\n",
       "    </tr>\n",
       "    <tr>\n",
       "      <th>min</th>\n",
       "      <td>0.0</td>\n",
       "    </tr>\n",
       "    <tr>\n",
       "      <th>25%</th>\n",
       "      <td>0.0</td>\n",
       "    </tr>\n",
       "    <tr>\n",
       "      <th>50%</th>\n",
       "      <td>0.0</td>\n",
       "    </tr>\n",
       "    <tr>\n",
       "      <th>75%</th>\n",
       "      <td>0.0</td>\n",
       "    </tr>\n",
       "    <tr>\n",
       "      <th>max</th>\n",
       "      <td>0.0</td>\n",
       "    </tr>\n",
       "  </tbody>\n",
       "</table>\n",
       "</div>"
      ],
      "text/plain": [
       "       target\n",
       "count   891.0\n",
       "mean      0.0\n",
       "std       0.0\n",
       "min       0.0\n",
       "25%       0.0\n",
       "50%       0.0\n",
       "75%       0.0\n",
       "max       0.0"
      ]
     },
     "execution_count": 14,
     "metadata": {},
     "output_type": "execute_result"
    }
   ],
   "source": [
    "df_tm.describe()"
   ]
  },
  {
   "cell_type": "code",
   "execution_count": 15,
   "id": "bd2279ed",
   "metadata": {},
   "outputs": [],
   "source": [
    "df=pd.concat([df_tm,df_if,df_ih,df_na,df_nc,df_nm,df_np,df_nf,df_ia,df_it])"
   ]
  },
  {
   "cell_type": "code",
   "execution_count": 16,
   "id": "a1ade4f1",
   "metadata": {},
   "outputs": [
    {
     "data": {
      "text/plain": [
       "28610"
      ]
     },
     "execution_count": 16,
     "metadata": {},
     "output_type": "execute_result"
    },
    {
     "data": {
      "text/plain": [
       "28610"
      ]
     },
     "execution_count": 16,
     "metadata": {},
     "output_type": "execute_result"
    },
    {
     "data": {
      "text/plain": [
       "28610"
      ]
     },
     "execution_count": 16,
     "metadata": {},
     "output_type": "execute_result"
    }
   ],
   "source": [
    "len(df)"
   ]
  },
  {
   "cell_type": "code",
   "execution_count": 17,
   "id": "d51bff89",
   "metadata": {},
   "outputs": [
    {
     "name": "stdout",
     "output_type": "stream",
     "text": [
      "28569\n",
      "28569\n",
      "28569\n"
     ]
    }
   ],
   "source": [
    "df.drop_duplicates(subset=['text'],inplace=True)\n",
    "print(df['text'].nunique())"
   ]
  },
  {
   "cell_type": "code",
   "execution_count": 18,
   "id": "d049bbda",
   "metadata": {},
   "outputs": [
    {
     "name": "stdout",
     "output_type": "stream",
     "text": [
      "text      0\n",
      "target    0\n",
      "dtype: int64\n",
      "text      0\n",
      "target    0\n",
      "dtype: int64\n",
      "text      0\n",
      "target    0\n",
      "dtype: int64\n"
     ]
    }
   ],
   "source": [
    "#빈칸인 행 제거.\n",
    "df=df.dropna(how='any')\n",
    "print(df.isnull().sum())"
   ]
  },
  {
   "cell_type": "code",
   "execution_count": 19,
   "id": "a2a3f3fe",
   "metadata": {},
   "outputs": [
    {
     "name": "stderr",
     "output_type": "stream",
     "text": [
      "<ipython-input-19-9591e5d2858e>:2: FutureWarning: The default value of regex will change from True to False in a future version.\n",
      "  df['text']=df['text'].str.replace(\"[^가-힣 ]\", \" \")\n",
      "<ipython-input-19-9591e5d2858e>:2: FutureWarning: The default value of regex will change from True to False in a future version.\n",
      "  df['text']=df['text'].str.replace(\"[^가-힣 ]\", \" \")\n",
      "<ipython-input-19-9591e5d2858e>:2: FutureWarning: The default value of regex will change from True to False in a future version.\n",
      "  df['text']=df['text'].str.replace(\"[^가-힣 ]\", \" \")\n"
     ]
    },
    {
     "data": {
      "text/html": [
       "<div>\n",
       "<style scoped>\n",
       "    .dataframe tbody tr th:only-of-type {\n",
       "        vertical-align: middle;\n",
       "    }\n",
       "\n",
       "    .dataframe tbody tr th {\n",
       "        vertical-align: top;\n",
       "    }\n",
       "\n",
       "    .dataframe thead th {\n",
       "        text-align: right;\n",
       "    }\n",
       "</style>\n",
       "<table border=\"1\" class=\"dataframe\">\n",
       "  <thead>\n",
       "    <tr style=\"text-align: right;\">\n",
       "      <th></th>\n",
       "      <th>text</th>\n",
       "      <th>target</th>\n",
       "    </tr>\n",
       "  </thead>\n",
       "  <tbody>\n",
       "    <tr>\n",
       "      <th>0</th>\n",
       "      <td>남편이 드디어 코로나백신 접종을 완료했어요 모더나접종했어요   제가 한국에 있을때 ...</td>\n",
       "      <td>0</td>\n",
       "    </tr>\n",
       "    <tr>\n",
       "      <th>1</th>\n",
       "      <td>광교 신도시는     년에 내가 잠깐 파견 근무를 했던 곳으로 그때부터 이미 살기 ...</td>\n",
       "      <td>0</td>\n",
       "    </tr>\n",
       "    <tr>\n",
       "      <th>2</th>\n",
       "      <td>수요일  토요일               입장마감       화  목  금  일  ...</td>\n",
       "      <td>0</td>\n",
       "    </tr>\n",
       "    <tr>\n",
       "      <th>3</th>\n",
       "      <td>뉴욕주 여행 중에 빨간색 하트 가 콕 박힌아이 러브 뉴욕 표지판이 눈에 들어왔어요 ...</td>\n",
       "      <td>0</td>\n",
       "    </tr>\n",
       "    <tr>\n",
       "      <th>4</th>\n",
       "      <td>날 좋았던 어느 날 처음 다녀왔던 국립민속박물관어딘가 이상한 것 같은 건물의 정체는...</td>\n",
       "      <td>0</td>\n",
       "    </tr>\n",
       "    <tr>\n",
       "      <th>...</th>\n",
       "      <td>...</td>\n",
       "      <td>...</td>\n",
       "    </tr>\n",
       "    <tr>\n",
       "      <th>236</th>\n",
       "      <td>죽어야사는남자  대학로연극    금연극  우리형  꿀잼</td>\n",
       "      <td>6</td>\n",
       "    </tr>\n",
       "    <tr>\n",
       "      <th>237</th>\n",
       "      <td>엄마지분 오랜만에  추억의 포토존  이렇게라도 나오니 숨통이 좀 트이네</td>\n",
       "      <td>6</td>\n",
       "    </tr>\n",
       "    <tr>\n",
       "      <th>238</th>\n",
       "      <td>게으른  관극기록    연극  템플  보편성에서 벗어난 사람에게 보편적인 답을 정해...</td>\n",
       "      <td>6</td>\n",
       "    </tr>\n",
       "    <tr>\n",
       "      <th>239</th>\n",
       "      <td>수업          일   시  막공      극단솥귀  연극수업  외젠이오네스...</td>\n",
       "      <td>6</td>\n",
       "    </tr>\n",
       "    <tr>\n",
       "      <th>240</th>\n",
       "      <td>낼 나 출근 왜 하는지 아는 사람 왜 벌써 끝인지 아는 사람 바나 잠실새내점 폭파시...</td>\n",
       "      <td>6</td>\n",
       "    </tr>\n",
       "  </tbody>\n",
       "</table>\n",
       "<p>28568 rows × 2 columns</p>\n",
       "</div>"
      ],
      "text/plain": [
       "                                                  text  target\n",
       "0    남편이 드디어 코로나백신 접종을 완료했어요 모더나접종했어요   제가 한국에 있을때 ...       0\n",
       "1    광교 신도시는     년에 내가 잠깐 파견 근무를 했던 곳으로 그때부터 이미 살기 ...       0\n",
       "2    수요일  토요일               입장마감       화  목  금  일  ...       0\n",
       "3    뉴욕주 여행 중에 빨간색 하트 가 콕 박힌아이 러브 뉴욕 표지판이 눈에 들어왔어요 ...       0\n",
       "4    날 좋았던 어느 날 처음 다녀왔던 국립민속박물관어딘가 이상한 것 같은 건물의 정체는...       0\n",
       "..                                                 ...     ...\n",
       "236                     죽어야사는남자  대학로연극    금연극  우리형  꿀잼       6\n",
       "237           엄마지분 오랜만에  추억의 포토존  이렇게라도 나오니 숨통이 좀 트이네        6\n",
       "238  게으른  관극기록    연극  템플  보편성에서 벗어난 사람에게 보편적인 답을 정해...       6\n",
       "239   수업          일   시  막공      극단솥귀  연극수업  외젠이오네스...       6\n",
       "240  낼 나 출근 왜 하는지 아는 사람 왜 벌써 끝인지 아는 사람 바나 잠실새내점 폭파시...       6\n",
       "\n",
       "[28568 rows x 2 columns]"
      ]
     },
     "execution_count": 19,
     "metadata": {},
     "output_type": "execute_result"
    },
    {
     "data": {
      "text/html": [
       "<div>\n",
       "<style scoped>\n",
       "    .dataframe tbody tr th:only-of-type {\n",
       "        vertical-align: middle;\n",
       "    }\n",
       "\n",
       "    .dataframe tbody tr th {\n",
       "        vertical-align: top;\n",
       "    }\n",
       "\n",
       "    .dataframe thead th {\n",
       "        text-align: right;\n",
       "    }\n",
       "</style>\n",
       "<table border=\"1\" class=\"dataframe\">\n",
       "  <thead>\n",
       "    <tr style=\"text-align: right;\">\n",
       "      <th></th>\n",
       "      <th>text</th>\n",
       "      <th>target</th>\n",
       "    </tr>\n",
       "  </thead>\n",
       "  <tbody>\n",
       "    <tr>\n",
       "      <th>0</th>\n",
       "      <td>남편이 드디어 코로나백신 접종을 완료했어요 모더나접종했어요   제가 한국에 있을때 ...</td>\n",
       "      <td>0</td>\n",
       "    </tr>\n",
       "    <tr>\n",
       "      <th>1</th>\n",
       "      <td>광교 신도시는     년에 내가 잠깐 파견 근무를 했던 곳으로 그때부터 이미 살기 ...</td>\n",
       "      <td>0</td>\n",
       "    </tr>\n",
       "    <tr>\n",
       "      <th>2</th>\n",
       "      <td>수요일  토요일               입장마감       화  목  금  일  ...</td>\n",
       "      <td>0</td>\n",
       "    </tr>\n",
       "    <tr>\n",
       "      <th>3</th>\n",
       "      <td>뉴욕주 여행 중에 빨간색 하트 가 콕 박힌아이 러브 뉴욕 표지판이 눈에 들어왔어요 ...</td>\n",
       "      <td>0</td>\n",
       "    </tr>\n",
       "    <tr>\n",
       "      <th>4</th>\n",
       "      <td>날 좋았던 어느 날 처음 다녀왔던 국립민속박물관어딘가 이상한 것 같은 건물의 정체는...</td>\n",
       "      <td>0</td>\n",
       "    </tr>\n",
       "    <tr>\n",
       "      <th>...</th>\n",
       "      <td>...</td>\n",
       "      <td>...</td>\n",
       "    </tr>\n",
       "    <tr>\n",
       "      <th>236</th>\n",
       "      <td>죽어야사는남자  대학로연극    금연극  우리형  꿀잼</td>\n",
       "      <td>6</td>\n",
       "    </tr>\n",
       "    <tr>\n",
       "      <th>237</th>\n",
       "      <td>엄마지분 오랜만에  추억의 포토존  이렇게라도 나오니 숨통이 좀 트이네</td>\n",
       "      <td>6</td>\n",
       "    </tr>\n",
       "    <tr>\n",
       "      <th>238</th>\n",
       "      <td>게으른  관극기록    연극  템플  보편성에서 벗어난 사람에게 보편적인 답을 정해...</td>\n",
       "      <td>6</td>\n",
       "    </tr>\n",
       "    <tr>\n",
       "      <th>239</th>\n",
       "      <td>수업          일   시  막공      극단솥귀  연극수업  외젠이오네스...</td>\n",
       "      <td>6</td>\n",
       "    </tr>\n",
       "    <tr>\n",
       "      <th>240</th>\n",
       "      <td>낼 나 출근 왜 하는지 아는 사람 왜 벌써 끝인지 아는 사람 바나 잠실새내점 폭파시...</td>\n",
       "      <td>6</td>\n",
       "    </tr>\n",
       "  </tbody>\n",
       "</table>\n",
       "<p>28568 rows × 2 columns</p>\n",
       "</div>"
      ],
      "text/plain": [
       "                                                  text  target\n",
       "0    남편이 드디어 코로나백신 접종을 완료했어요 모더나접종했어요   제가 한국에 있을때 ...       0\n",
       "1    광교 신도시는     년에 내가 잠깐 파견 근무를 했던 곳으로 그때부터 이미 살기 ...       0\n",
       "2    수요일  토요일               입장마감       화  목  금  일  ...       0\n",
       "3    뉴욕주 여행 중에 빨간색 하트 가 콕 박힌아이 러브 뉴욕 표지판이 눈에 들어왔어요 ...       0\n",
       "4    날 좋았던 어느 날 처음 다녀왔던 국립민속박물관어딘가 이상한 것 같은 건물의 정체는...       0\n",
       "..                                                 ...     ...\n",
       "236                     죽어야사는남자  대학로연극    금연극  우리형  꿀잼       6\n",
       "237           엄마지분 오랜만에  추억의 포토존  이렇게라도 나오니 숨통이 좀 트이네        6\n",
       "238  게으른  관극기록    연극  템플  보편성에서 벗어난 사람에게 보편적인 답을 정해...       6\n",
       "239   수업          일   시  막공      극단솥귀  연극수업  외젠이오네스...       6\n",
       "240  낼 나 출근 왜 하는지 아는 사람 왜 벌써 끝인지 아는 사람 바나 잠실새내점 폭파시...       6\n",
       "\n",
       "[28568 rows x 2 columns]"
      ]
     },
     "execution_count": 19,
     "metadata": {},
     "output_type": "execute_result"
    },
    {
     "data": {
      "text/html": [
       "<div>\n",
       "<style scoped>\n",
       "    .dataframe tbody tr th:only-of-type {\n",
       "        vertical-align: middle;\n",
       "    }\n",
       "\n",
       "    .dataframe tbody tr th {\n",
       "        vertical-align: top;\n",
       "    }\n",
       "\n",
       "    .dataframe thead th {\n",
       "        text-align: right;\n",
       "    }\n",
       "</style>\n",
       "<table border=\"1\" class=\"dataframe\">\n",
       "  <thead>\n",
       "    <tr style=\"text-align: right;\">\n",
       "      <th></th>\n",
       "      <th>text</th>\n",
       "      <th>target</th>\n",
       "    </tr>\n",
       "  </thead>\n",
       "  <tbody>\n",
       "    <tr>\n",
       "      <th>0</th>\n",
       "      <td>남편이 드디어 코로나백신 접종을 완료했어요 모더나접종했어요   제가 한국에 있을때 ...</td>\n",
       "      <td>0</td>\n",
       "    </tr>\n",
       "    <tr>\n",
       "      <th>1</th>\n",
       "      <td>광교 신도시는     년에 내가 잠깐 파견 근무를 했던 곳으로 그때부터 이미 살기 ...</td>\n",
       "      <td>0</td>\n",
       "    </tr>\n",
       "    <tr>\n",
       "      <th>2</th>\n",
       "      <td>수요일  토요일               입장마감       화  목  금  일  ...</td>\n",
       "      <td>0</td>\n",
       "    </tr>\n",
       "    <tr>\n",
       "      <th>3</th>\n",
       "      <td>뉴욕주 여행 중에 빨간색 하트 가 콕 박힌아이 러브 뉴욕 표지판이 눈에 들어왔어요 ...</td>\n",
       "      <td>0</td>\n",
       "    </tr>\n",
       "    <tr>\n",
       "      <th>4</th>\n",
       "      <td>날 좋았던 어느 날 처음 다녀왔던 국립민속박물관어딘가 이상한 것 같은 건물의 정체는...</td>\n",
       "      <td>0</td>\n",
       "    </tr>\n",
       "    <tr>\n",
       "      <th>...</th>\n",
       "      <td>...</td>\n",
       "      <td>...</td>\n",
       "    </tr>\n",
       "    <tr>\n",
       "      <th>236</th>\n",
       "      <td>죽어야사는남자  대학로연극    금연극  우리형  꿀잼</td>\n",
       "      <td>6</td>\n",
       "    </tr>\n",
       "    <tr>\n",
       "      <th>237</th>\n",
       "      <td>엄마지분 오랜만에  추억의 포토존  이렇게라도 나오니 숨통이 좀 트이네</td>\n",
       "      <td>6</td>\n",
       "    </tr>\n",
       "    <tr>\n",
       "      <th>238</th>\n",
       "      <td>게으른  관극기록    연극  템플  보편성에서 벗어난 사람에게 보편적인 답을 정해...</td>\n",
       "      <td>6</td>\n",
       "    </tr>\n",
       "    <tr>\n",
       "      <th>239</th>\n",
       "      <td>수업          일   시  막공      극단솥귀  연극수업  외젠이오네스...</td>\n",
       "      <td>6</td>\n",
       "    </tr>\n",
       "    <tr>\n",
       "      <th>240</th>\n",
       "      <td>낼 나 출근 왜 하는지 아는 사람 왜 벌써 끝인지 아는 사람 바나 잠실새내점 폭파시...</td>\n",
       "      <td>6</td>\n",
       "    </tr>\n",
       "  </tbody>\n",
       "</table>\n",
       "<p>28568 rows × 2 columns</p>\n",
       "</div>"
      ],
      "text/plain": [
       "                                                  text  target\n",
       "0    남편이 드디어 코로나백신 접종을 완료했어요 모더나접종했어요   제가 한국에 있을때 ...       0\n",
       "1    광교 신도시는     년에 내가 잠깐 파견 근무를 했던 곳으로 그때부터 이미 살기 ...       0\n",
       "2    수요일  토요일               입장마감       화  목  금  일  ...       0\n",
       "3    뉴욕주 여행 중에 빨간색 하트 가 콕 박힌아이 러브 뉴욕 표지판이 눈에 들어왔어요 ...       0\n",
       "4    날 좋았던 어느 날 처음 다녀왔던 국립민속박물관어딘가 이상한 것 같은 건물의 정체는...       0\n",
       "..                                                 ...     ...\n",
       "236                     죽어야사는남자  대학로연극    금연극  우리형  꿀잼       6\n",
       "237           엄마지분 오랜만에  추억의 포토존  이렇게라도 나오니 숨통이 좀 트이네        6\n",
       "238  게으른  관극기록    연극  템플  보편성에서 벗어난 사람에게 보편적인 답을 정해...       6\n",
       "239   수업          일   시  막공      극단솥귀  연극수업  외젠이오네스...       6\n",
       "240  낼 나 출근 왜 하는지 아는 사람 왜 벌써 끝인지 아는 사람 바나 잠실새내점 폭파시...       6\n",
       "\n",
       "[28568 rows x 2 columns]"
      ]
     },
     "execution_count": 19,
     "metadata": {},
     "output_type": "execute_result"
    }
   ],
   "source": [
    "#한글을 제외한 글자 제거\n",
    "df['text']=df['text'].str.replace(\"[^가-힣 ]\", \" \")\n",
    "df[:-1]"
   ]
  },
  {
   "cell_type": "code",
   "execution_count": 20,
   "id": "877eb144",
   "metadata": {},
   "outputs": [
    {
     "name": "stdout",
     "output_type": "stream",
     "text": [
      "28569\n",
      "text      1\n",
      "target    0\n",
      "dtype: int64\n",
      "28569\n",
      "text      1\n",
      "target    0\n",
      "dtype: int64\n",
      "28569\n",
      "text      1\n",
      "target    0\n",
      "dtype: int64\n"
     ]
    }
   ],
   "source": [
    "#빈칸인 행 제거.\n",
    "import numpy as np\n",
    "df['text'].replace('',np.nan, inplace=True)\n",
    "print(len(df))\n",
    "print(df.isnull().sum())"
   ]
  },
  {
   "cell_type": "code",
   "execution_count": 21,
   "id": "8f9b509d",
   "metadata": {},
   "outputs": [
    {
     "name": "stdout",
     "output_type": "stream",
     "text": [
      "28568\n",
      "28568\n",
      "28568\n"
     ]
    }
   ],
   "source": [
    "#전체 수 확인\n",
    "df= df.dropna(how='any')\n",
    "print(len(df))"
   ]
  },
  {
   "cell_type": "code",
   "execution_count": 22,
   "id": "39b9b998",
   "metadata": {},
   "outputs": [],
   "source": [
    "#분석에 불필요한 데이터 지정\n",
    "stopwords=['을','는','이가','께서','것','의','가','이','은','들','는','좀','잘','걍','과','도','를','으로','자','에','와','한','하다','문의','전화','주문','예약','프로필','카톡','하단','링크','클릭','채널','댓글','및','아녹플라워','물량이2월의','이벤트안녕하세요']"
   ]
  },
  {
   "cell_type": "code",
   "execution_count": 23,
   "id": "8faf3b4b",
   "metadata": {},
   "outputs": [],
   "source": [
    "from transformers import ElectraModel, ElectraTokenizer\n",
    "tokenizer = ElectraTokenizer.from_pretrained(\"monologg/koelectra-small-v3-discriminator\")"
   ]
  },
  {
   "cell_type": "code",
   "execution_count": 35,
   "id": "9485a6bf",
   "metadata": {},
   "outputs": [],
   "source": [
    "#형태소 분석을 한 자료 정제과정\n",
    "train_input=[]\n",
    "for sentence in df['text']:\n",
    "    train_input.append([word for word in tokenizer.tokenize(sentence) if word not in stopwords])"
   ]
  },
  {
   "cell_type": "code",
   "execution_count": 36,
   "id": "d15e53aa",
   "metadata": {},
   "outputs": [],
   "source": [
    "#토큰화\n",
    "train_input_token=[]\n",
    "for i in train_input:\n",
    "    train_input_token.append(tokenizer.convert_tokens_to_ids(i))"
   ]
  },
  {
   "cell_type": "code",
   "execution_count": 301,
   "id": "baaa2ef3",
   "metadata": {},
   "outputs": [
    {
     "name": "stdout",
     "output_type": "stream",
     "text": [
      "전체 단어 수:85486\n",
      "빈도가 2 이하인 단어수 : 30631\n",
      "희귀 단어 비율: 34%\n",
      "희귀 단어 등장 빈도 비율: 0\n"
     ]
    }
   ],
   "source": [
    "# threshold=3\n",
    "# word_cnt=len(tokenizer.word_index)\n",
    "# rare_cnt=0\n",
    "# words_freq=0\n",
    "# rare_freq=0\n",
    "\n",
    "# for key, value in tokenizer.word_counts.items():\n",
    "#     words_freq=words_freq+value\n",
    "#     if value< threshold:\n",
    "#         rare_cnt+=1\n",
    "#         rare_freq= rare_freq+value\n",
    "# print('전체 단어 수:{}'.format(word_cnt))\n",
    "# print(f'빈도가 {threshold-1} 이하인 단어수 : {rare_cnt}')\n",
    "# print(f'희귀 단어 비율: {round((rare_cnt/words_cnt)*100)}%')\n",
    "# print(f'희귀 단어 등장 빈도 비율: {round((rare_freq/words_freq)*100)}')\n",
    "      "
   ]
  },
  {
   "cell_type": "code",
   "execution_count": 302,
   "id": "f25a9bc7",
   "metadata": {},
   "outputs": [
    {
     "name": "stdout",
     "output_type": "stream",
     "text": [
      "60356\n"
     ]
    }
   ],
   "source": [
    "# vocab_size=words_cnt-rare_cnt+2\n",
    "# print(vocab_size)"
   ]
  },
  {
   "cell_type": "code",
   "execution_count": 303,
   "id": "033be954",
   "metadata": {},
   "outputs": [],
   "source": [
    "# tokenizer=Tokenizer(vocab_size, oov_token='OOV') #토큰에 없는 단어는 oov(out of vocabulary)\n",
    "# tokenizer.fit_on_texts(train_input)\n",
    "# train_input= tokenizer.texts_to_sequences(train_input)"
   ]
  },
  {
   "cell_type": "code",
   "execution_count": 37,
   "id": "b2607f3d",
   "metadata": {},
   "outputs": [
    {
     "name": "stdout",
     "output_type": "stream",
     "text": [
      "(28568,)\n",
      "28568\n",
      "(28568,)\n",
      "28568\n",
      "(28568,)\n",
      "28568\n"
     ]
    }
   ],
   "source": [
    "#자료 배열화\n",
    "train_target=np.array(df['target'])\n",
    "print(train_target.shape)\n",
    "print(len(train_input))"
   ]
  },
  {
   "cell_type": "code",
   "execution_count": 38,
   "id": "d33a481b",
   "metadata": {},
   "outputs": [
    {
     "name": "stdout",
     "output_type": "stream",
     "text": [
      "28568\n",
      "28568\n"
     ]
    },
    {
     "name": "stderr",
     "output_type": "stream",
     "text": [
      "C:\\Users\\USER\\anaconda3\\lib\\site-packages\\numpy\\core\\_asarray.py:83: VisibleDeprecationWarning: Creating an ndarray from ragged nested sequences (which is a list-or-tuple of lists-or-tuples-or ndarrays with different lengths or shapes) is deprecated. If you meant to do this, you must specify 'dtype=object' when creating the ndarray\n",
      "  return array(a, dtype, copy=False, order=order)\n"
     ]
    },
    {
     "name": "stdout",
     "output_type": "stream",
     "text": [
      "28568\n",
      "28568\n",
      "28568\n",
      "28568\n"
     ]
    },
    {
     "name": "stderr",
     "output_type": "stream",
     "text": [
      "C:\\Users\\USER\\anaconda3\\lib\\site-packages\\numpy\\core\\_asarray.py:83: VisibleDeprecationWarning: Creating an ndarray from ragged nested sequences (which is a list-or-tuple of lists-or-tuples-or ndarrays with different lengths or shapes) is deprecated. If you meant to do this, you must specify 'dtype=object' when creating the ndarray\n",
      "  return array(a, dtype, copy=False, order=order)\n",
      "C:\\Users\\USER\\anaconda3\\lib\\site-packages\\numpy\\core\\_asarray.py:83: VisibleDeprecationWarning: Creating an ndarray from ragged nested sequences (which is a list-or-tuple of lists-or-tuples-or ndarrays with different lengths or shapes) is deprecated. If you meant to do this, you must specify 'dtype=object' when creating the ndarray\n",
      "  return array(a, dtype, copy=False, order=order)\n"
     ]
    }
   ],
   "source": [
    "#토큰화 된 자료가 없는 행 제거\n",
    "drop_train=[sentence for sentence in (train_input_token) if len(sentence)<1]\n",
    "\n",
    "train_input=np.delete(train_input, drop_train, axis=0)\n",
    "train_target=np.delete(train_target,drop_train, axis=0)\n",
    "print(len(train_input))\n",
    "print(len(train_target))"
   ]
  },
  {
   "cell_type": "code",
   "execution_count": 39,
   "id": "18db1889",
   "metadata": {},
   "outputs": [],
   "source": [
    "# print('최대길이: ', max(len(i) for i in train_input))\n",
    "# print('평균길이: ', sum(map(len, train_input))/len(train_input))\n",
    "# print('최소길이: ', min(len(i) for i in train_input))"
   ]
  },
  {
   "cell_type": "code",
   "execution_count": 40,
   "id": "5fc9a565",
   "metadata": {},
   "outputs": [
    {
     "data": {
      "image/png": "[encoded data removed]",
      "text/plain": [
       "<Figure size 432x288 with 1 Axes>"
      ]
     },
     "metadata": {
      "needs_background": "light"
     },
     "output_type": "display_data"
    },
    {
     "data": {
      "image/png": "[encoded data removed]",
      "text/plain": [
       "<Figure size 432x288 with 1 Axes>"
      ]
     },
     "metadata": {
      "needs_background": "light"
     },
     "output_type": "display_data"
    },
    {
     "data": {
      "image/png": "[encoded data removed]",
      "text/plain": [
       "<Figure size 432x288 with 1 Axes>"
      ]
     },
     "metadata": {
      "needs_background": "light"
     },
     "output_type": "display_data"
    }
   ],
   "source": [
    "#자료의 길이 시각화\n",
    "import matplotlib.pyplot as plt\n",
    "plt.hist([len(s) for s in train_input_token], bins=100)\n",
    "plt.xlabel('Length of Samples')\n",
    "plt.ylabel('Number of Samples')\n",
    "plt.show()"
   ]
  },
  {
   "cell_type": "code",
   "execution_count": 41,
   "id": "d86f6a8a",
   "metadata": {},
   "outputs": [],
   "source": [
    "#자료길이 최댓값 설정\n",
    "max_len=3000"
   ]
  },
  {
   "cell_type": "code",
   "execution_count": 42,
   "id": "77d9f7c4",
   "metadata": {},
   "outputs": [],
   "source": [
    "#패딩을 주어 최댓값에 맞게 맞춤.\n",
    "from tensorflow.keras.preprocessing.sequence import pad_sequences\n",
    "train_input= pad_sequences(train_input_token, maxlen=max_len)"
   ]
  },
  {
   "cell_type": "code",
   "execution_count": 43,
   "id": "c2601b00",
   "metadata": {},
   "outputs": [],
   "source": [
    "from sklearn.model_selection import train_test_split"
   ]
  },
  {
   "cell_type": "code",
   "execution_count": 44,
   "id": "e41e8898",
   "metadata": {},
   "outputs": [],
   "source": [
    "train_input, test_input, train_target, test_target= train_test_split(\n",
    "train_input, train_target, test_size=0.1)"
   ]
  },
  {
   "cell_type": "code",
   "execution_count": 46,
   "id": "a812544f",
   "metadata": {},
   "outputs": [
    {
     "name": "stdout",
     "output_type": "stream",
     "text": [
      "(25711, 3000) (2857, 3000)\n",
      "(25711, 3000) (2857, 3000)\n",
      "(25711, 3000) (2857, 3000)\n"
     ]
    }
   ],
   "source": [
    "print(train_input.shape, test_input.shape)"
   ]
  },
  {
   "cell_type": "code",
   "execution_count": 47,
   "id": "86c98a9d",
   "metadata": {},
   "outputs": [],
   "source": [
    "from torch.nn import CrossEntropyLoss, Dropout, Embedding, Softmax\n",
    "\n",
    "import torch"
   ]
  },
  {
   "cell_type": "code",
   "execution_count": 48,
   "id": "024c13ae",
   "metadata": {},
   "outputs": [],
   "source": [
    "from tensorflow.keras.layers import Embedding, Dense, LSTM, GRU, Dropout\n",
    "from tensorflow.keras.models import Sequential\n",
    "from tensorflow.keras.callbacks import EarlyStopping, ModelCheckpoint"
   ]
  },
  {
   "cell_type": "code",
   "execution_count": 58,
   "id": "8a7ae498",
   "metadata": {},
   "outputs": [
    {
     "name": "stdout",
     "output_type": "stream",
     "text": [
      "Epoch 1/100\n",
      " 29/857 [>.............................] - ETA: 12:05:47 - loss: 1.6718 - accuracy: 0.3333"
     ]
    },
    {
     "ename": "KeyboardInterrupt",
     "evalue": "",
     "output_type": "error",
     "traceback": [
      "\u001b[1;31m---------------------------------------------------------------------------\u001b[0m",
      "\u001b[1;31mKeyboardInterrupt\u001b[0m                         Traceback (most recent call last)",
      "\u001b[1;32m<ipython-input-58-8aa1a2d0fce4>\u001b[0m in \u001b[0;36m<module>\u001b[1;34m\u001b[0m\n\u001b[0;32m      8\u001b[0m \u001b[0mcheckpoint\u001b[0m\u001b[1;33m=\u001b[0m\u001b[0mModelCheckpoint\u001b[0m\u001b[1;33m(\u001b[0m\u001b[1;34m'best_model.h5'\u001b[0m\u001b[1;33m,\u001b[0m \u001b[0mmonitor\u001b[0m\u001b[1;33m=\u001b[0m\u001b[1;34m'val_acc'\u001b[0m\u001b[1;33m,\u001b[0m \u001b[0mmode\u001b[0m\u001b[1;33m=\u001b[0m\u001b[1;34m'max'\u001b[0m\u001b[1;33m,\u001b[0m \u001b[0mverbose\u001b[0m\u001b[1;33m=\u001b[0m\u001b[1;36m2\u001b[0m\u001b[1;33m,\u001b[0m \u001b[0msave_best_only\u001b[0m\u001b[1;33m=\u001b[0m\u001b[1;32mTrue\u001b[0m\u001b[1;33m)\u001b[0m\u001b[1;33m\u001b[0m\u001b[1;33m\u001b[0m\u001b[0m\n\u001b[0;32m      9\u001b[0m \u001b[0mmodel\u001b[0m\u001b[1;33m.\u001b[0m\u001b[0mcompile\u001b[0m\u001b[1;33m(\u001b[0m\u001b[0moptimizer\u001b[0m\u001b[1;33m=\u001b[0m\u001b[1;34m'adam'\u001b[0m\u001b[1;33m,\u001b[0m \u001b[0mloss\u001b[0m\u001b[1;33m=\u001b[0m\u001b[1;34m'sparse_categorical_crossentropy'\u001b[0m\u001b[1;33m,\u001b[0m \u001b[0mmetrics\u001b[0m\u001b[1;33m=\u001b[0m\u001b[1;33m[\u001b[0m\u001b[1;34m'accuracy'\u001b[0m\u001b[1;33m]\u001b[0m\u001b[1;33m)\u001b[0m\u001b[1;33m\u001b[0m\u001b[1;33m\u001b[0m\u001b[0m\n\u001b[1;32m---> 10\u001b[1;33m \u001b[0mhistory\u001b[0m\u001b[1;33m=\u001b[0m\u001b[0mmodel\u001b[0m\u001b[1;33m.\u001b[0m\u001b[0mfit\u001b[0m\u001b[1;33m(\u001b[0m\u001b[0mtrain_input\u001b[0m\u001b[1;33m,\u001b[0m \u001b[0mtrain_target\u001b[0m\u001b[1;33m,\u001b[0m \u001b[0mepochs\u001b[0m\u001b[1;33m=\u001b[0m\u001b[1;36m100\u001b[0m\u001b[1;33m,\u001b[0m \u001b[0mcallbacks\u001b[0m\u001b[1;33m=\u001b[0m\u001b[1;33m[\u001b[0m\u001b[0mearlystop\u001b[0m\u001b[1;33m,\u001b[0m \u001b[0mcheckpoint\u001b[0m\u001b[1;33m]\u001b[0m\u001b[1;33m,\u001b[0m \u001b[0mbatch_size\u001b[0m\u001b[1;33m=\u001b[0m\u001b[1;36m24\u001b[0m\u001b[1;33m,\u001b[0m \u001b[0mvalidation_split\u001b[0m\u001b[1;33m=\u001b[0m\u001b[1;36m0.2\u001b[0m\u001b[1;33m)\u001b[0m\u001b[1;33m\u001b[0m\u001b[1;33m\u001b[0m\u001b[0m\n\u001b[0m",
      "\u001b[1;32m~\\anaconda3\\lib\\site-packages\\tensorflow\\python\\keras\\engine\\training.py\u001b[0m in \u001b[0;36mfit\u001b[1;34m(self, x, y, batch_size, epochs, verbose, callbacks, validation_split, validation_data, shuffle, class_weight, sample_weight, initial_epoch, steps_per_epoch, validation_steps, validation_batch_size, validation_freq, max_queue_size, workers, use_multiprocessing)\u001b[0m\n\u001b[0;32m   1181\u001b[0m                 _r=1):\n\u001b[0;32m   1182\u001b[0m               \u001b[0mcallbacks\u001b[0m\u001b[1;33m.\u001b[0m\u001b[0mon_train_batch_begin\u001b[0m\u001b[1;33m(\u001b[0m\u001b[0mstep\u001b[0m\u001b[1;33m)\u001b[0m\u001b[1;33m\u001b[0m\u001b[1;33m\u001b[0m\u001b[0m\n\u001b[1;32m-> 1183\u001b[1;33m               \u001b[0mtmp_logs\u001b[0m \u001b[1;33m=\u001b[0m \u001b[0mself\u001b[0m\u001b[1;33m.\u001b[0m\u001b[0mtrain_function\u001b[0m\u001b[1;33m(\u001b[0m\u001b[0miterator\u001b[0m\u001b[1;33m)\u001b[0m\u001b[1;33m\u001b[0m\u001b[1;33m\u001b[0m\u001b[0m\n\u001b[0m\u001b[0;32m   1184\u001b[0m               \u001b[1;32mif\u001b[0m \u001b[0mdata_handler\u001b[0m\u001b[1;33m.\u001b[0m\u001b[0mshould_sync\u001b[0m\u001b[1;33m:\u001b[0m\u001b[1;33m\u001b[0m\u001b[1;33m\u001b[0m\u001b[0m\n\u001b[0;32m   1185\u001b[0m                 \u001b[0mcontext\u001b[0m\u001b[1;33m.\u001b[0m\u001b[0masync_wait\u001b[0m\u001b[1;33m(\u001b[0m\u001b[1;33m)\u001b[0m\u001b[1;33m\u001b[0m\u001b[1;33m\u001b[0m\u001b[0m\n",
      "\u001b[1;32m~\\anaconda3\\lib\\site-packages\\tensorflow\\python\\eager\\def_function.py\u001b[0m in \u001b[0;36m__call__\u001b[1;34m(self, *args, **kwds)\u001b[0m\n\u001b[0;32m    887\u001b[0m \u001b[1;33m\u001b[0m\u001b[0m\n\u001b[0;32m    888\u001b[0m       \u001b[1;32mwith\u001b[0m \u001b[0mOptionalXlaContext\u001b[0m\u001b[1;33m(\u001b[0m\u001b[0mself\u001b[0m\u001b[1;33m.\u001b[0m\u001b[0m_jit_compile\u001b[0m\u001b[1;33m)\u001b[0m\u001b[1;33m:\u001b[0m\u001b[1;33m\u001b[0m\u001b[1;33m\u001b[0m\u001b[0m\n\u001b[1;32m--> 889\u001b[1;33m         \u001b[0mresult\u001b[0m \u001b[1;33m=\u001b[0m \u001b[0mself\u001b[0m\u001b[1;33m.\u001b[0m\u001b[0m_call\u001b[0m\u001b[1;33m(\u001b[0m\u001b[1;33m*\u001b[0m\u001b[0margs\u001b[0m\u001b[1;33m,\u001b[0m \u001b[1;33m**\u001b[0m\u001b[0mkwds\u001b[0m\u001b[1;33m)\u001b[0m\u001b[1;33m\u001b[0m\u001b[1;33m\u001b[0m\u001b[0m\n\u001b[0m\u001b[0;32m    890\u001b[0m \u001b[1;33m\u001b[0m\u001b[0m\n\u001b[0;32m    891\u001b[0m       \u001b[0mnew_tracing_count\u001b[0m \u001b[1;33m=\u001b[0m \u001b[0mself\u001b[0m\u001b[1;33m.\u001b[0m\u001b[0mexperimental_get_tracing_count\u001b[0m\u001b[1;33m(\u001b[0m\u001b[1;33m)\u001b[0m\u001b[1;33m\u001b[0m\u001b[1;33m\u001b[0m\u001b[0m\n",
      "\u001b[1;32m~\\anaconda3\\lib\\site-packages\\tensorflow\\python\\eager\\def_function.py\u001b[0m in \u001b[0;36m_call\u001b[1;34m(self, *args, **kwds)\u001b[0m\n\u001b[0;32m    915\u001b[0m       \u001b[1;31m# In this case we have created variables on the first call, so we run the\u001b[0m\u001b[1;33m\u001b[0m\u001b[1;33m\u001b[0m\u001b[1;33m\u001b[0m\u001b[0m\n\u001b[0;32m    916\u001b[0m       \u001b[1;31m# defunned version which is guaranteed to never create variables.\u001b[0m\u001b[1;33m\u001b[0m\u001b[1;33m\u001b[0m\u001b[1;33m\u001b[0m\u001b[0m\n\u001b[1;32m--> 917\u001b[1;33m       \u001b[1;32mreturn\u001b[0m \u001b[0mself\u001b[0m\u001b[1;33m.\u001b[0m\u001b[0m_stateless_fn\u001b[0m\u001b[1;33m(\u001b[0m\u001b[1;33m*\u001b[0m\u001b[0margs\u001b[0m\u001b[1;33m,\u001b[0m \u001b[1;33m**\u001b[0m\u001b[0mkwds\u001b[0m\u001b[1;33m)\u001b[0m  \u001b[1;31m# pylint: disable=not-callable\u001b[0m\u001b[1;33m\u001b[0m\u001b[1;33m\u001b[0m\u001b[0m\n\u001b[0m\u001b[0;32m    918\u001b[0m     \u001b[1;32melif\u001b[0m \u001b[0mself\u001b[0m\u001b[1;33m.\u001b[0m\u001b[0m_stateful_fn\u001b[0m \u001b[1;32mis\u001b[0m \u001b[1;32mnot\u001b[0m \u001b[1;32mNone\u001b[0m\u001b[1;33m:\u001b[0m\u001b[1;33m\u001b[0m\u001b[1;33m\u001b[0m\u001b[0m\n\u001b[0;32m    919\u001b[0m       \u001b[1;31m# Release the lock early so that multiple threads can perform the call\u001b[0m\u001b[1;33m\u001b[0m\u001b[1;33m\u001b[0m\u001b[1;33m\u001b[0m\u001b[0m\n",
      "\u001b[1;32m~\\anaconda3\\lib\\site-packages\\tensorflow\\python\\eager\\function.py\u001b[0m in \u001b[0;36m__call__\u001b[1;34m(self, *args, **kwargs)\u001b[0m\n\u001b[0;32m   3021\u001b[0m       (graph_function,\n\u001b[0;32m   3022\u001b[0m        filtered_flat_args) = self._maybe_define_function(args, kwargs)\n\u001b[1;32m-> 3023\u001b[1;33m     return graph_function._call_flat(\n\u001b[0m\u001b[0;32m   3024\u001b[0m         filtered_flat_args, captured_inputs=graph_function.captured_inputs)  # pylint: disable=protected-access\n\u001b[0;32m   3025\u001b[0m \u001b[1;33m\u001b[0m\u001b[0m\n",
      "\u001b[1;32m~\\anaconda3\\lib\\site-packages\\tensorflow\\python\\eager\\function.py\u001b[0m in \u001b[0;36m_call_flat\u001b[1;34m(self, args, captured_inputs, cancellation_manager)\u001b[0m\n\u001b[0;32m   1958\u001b[0m         and executing_eagerly):\n\u001b[0;32m   1959\u001b[0m       \u001b[1;31m# No tape is watching; skip to running the function.\u001b[0m\u001b[1;33m\u001b[0m\u001b[1;33m\u001b[0m\u001b[1;33m\u001b[0m\u001b[0m\n\u001b[1;32m-> 1960\u001b[1;33m       return self._build_call_outputs(self._inference_function.call(\n\u001b[0m\u001b[0;32m   1961\u001b[0m           ctx, args, cancellation_manager=cancellation_manager))\n\u001b[0;32m   1962\u001b[0m     forward_backward = self._select_forward_and_backward_functions(\n",
      "\u001b[1;32m~\\anaconda3\\lib\\site-packages\\tensorflow\\python\\eager\\function.py\u001b[0m in \u001b[0;36mcall\u001b[1;34m(self, ctx, args, cancellation_manager)\u001b[0m\n\u001b[0;32m    589\u001b[0m       \u001b[1;32mwith\u001b[0m \u001b[0m_InterpolateFunctionError\u001b[0m\u001b[1;33m(\u001b[0m\u001b[0mself\u001b[0m\u001b[1;33m)\u001b[0m\u001b[1;33m:\u001b[0m\u001b[1;33m\u001b[0m\u001b[1;33m\u001b[0m\u001b[0m\n\u001b[0;32m    590\u001b[0m         \u001b[1;32mif\u001b[0m \u001b[0mcancellation_manager\u001b[0m \u001b[1;32mis\u001b[0m \u001b[1;32mNone\u001b[0m\u001b[1;33m:\u001b[0m\u001b[1;33m\u001b[0m\u001b[1;33m\u001b[0m\u001b[0m\n\u001b[1;32m--> 591\u001b[1;33m           outputs = execute.execute(\n\u001b[0m\u001b[0;32m    592\u001b[0m               \u001b[0mstr\u001b[0m\u001b[1;33m(\u001b[0m\u001b[0mself\u001b[0m\u001b[1;33m.\u001b[0m\u001b[0msignature\u001b[0m\u001b[1;33m.\u001b[0m\u001b[0mname\u001b[0m\u001b[1;33m)\u001b[0m\u001b[1;33m,\u001b[0m\u001b[1;33m\u001b[0m\u001b[1;33m\u001b[0m\u001b[0m\n\u001b[0;32m    593\u001b[0m               \u001b[0mnum_outputs\u001b[0m\u001b[1;33m=\u001b[0m\u001b[0mself\u001b[0m\u001b[1;33m.\u001b[0m\u001b[0m_num_outputs\u001b[0m\u001b[1;33m,\u001b[0m\u001b[1;33m\u001b[0m\u001b[1;33m\u001b[0m\u001b[0m\n",
      "\u001b[1;32m~\\anaconda3\\lib\\site-packages\\tensorflow\\python\\eager\\execute.py\u001b[0m in \u001b[0;36mquick_execute\u001b[1;34m(op_name, num_outputs, inputs, attrs, ctx, name)\u001b[0m\n\u001b[0;32m     57\u001b[0m   \u001b[1;32mtry\u001b[0m\u001b[1;33m:\u001b[0m\u001b[1;33m\u001b[0m\u001b[1;33m\u001b[0m\u001b[0m\n\u001b[0;32m     58\u001b[0m     \u001b[0mctx\u001b[0m\u001b[1;33m.\u001b[0m\u001b[0mensure_initialized\u001b[0m\u001b[1;33m(\u001b[0m\u001b[1;33m)\u001b[0m\u001b[1;33m\u001b[0m\u001b[1;33m\u001b[0m\u001b[0m\n\u001b[1;32m---> 59\u001b[1;33m     tensors = pywrap_tfe.TFE_Py_Execute(ctx._handle, device_name, op_name,\n\u001b[0m\u001b[0;32m     60\u001b[0m                                         inputs, attrs, num_outputs)\n\u001b[0;32m     61\u001b[0m   \u001b[1;32mexcept\u001b[0m \u001b[0mcore\u001b[0m\u001b[1;33m.\u001b[0m\u001b[0m_NotOkStatusException\u001b[0m \u001b[1;32mas\u001b[0m \u001b[0me\u001b[0m\u001b[1;33m:\u001b[0m\u001b[1;33m\u001b[0m\u001b[1;33m\u001b[0m\u001b[0m\n",
      "\u001b[1;31mKeyboardInterrupt\u001b[0m: "
     ]
    }
   ],
   "source": [
    "model= Sequential()\n",
    "model.add(Embedding(35495, 3000))\n",
    "model.add(Dropout(0.1))\n",
    "model.add(LSTM(128))\n",
    "model.add(Dropout(0.1))\n",
    "model.add(Dense(7,activation='softmax'))\n",
    "earlystop=EarlyStopping(monitor='val_loss',mode='min', verbose=1, patience=4)\n",
    "checkpoint=ModelCheckpoint('best_model.h5', monitor='val_acc', mode='max', verbose=2, save_best_only=True)\n",
    "model.compile(optimizer='adam', loss='sparse_categorical_crossentropy', metrics=['accuracy'])\n",
    "history=model.fit(train_input, train_target, epochs=100, callbacks=[earlystop, checkpoint], batch_size=24, validation_split=0.2)"
   ]
  },
  {
   "cell_type": "code",
   "execution_count": 105,
   "id": "d8d32519",
   "metadata": {},
   "outputs": [
    {
     "name": "stdout",
     "output_type": "stream",
     "text": [
      "65/65 [==============================] - 32s 497ms/step - loss: 0.3549 - accuracy: 0.8890\n"
     ]
    },
    {
     "data": {
      "text/plain": [
       "[0.3549342751502991, 0.8889966011047363]"
      ]
     },
     "execution_count": 105,
     "metadata": {},
     "output_type": "execute_result"
    }
   ],
   "source": [
    "model.evaluate(test_input, test_target)"
   ]
  },
  {
   "cell_type": "code",
   "execution_count": 287,
   "id": "570e941b",
   "metadata": {},
   "outputs": [],
   "source": [
    "\n",
    "    \n",
    "def predict_(sentence):\n",
    "    new_token=[word for word in mecab.morphs(sentence) if word not in stopwords]\n",
    "    new_sequences= tokenizer.texts_to_sequences([new_token])\n",
    "    new_pad= pad_sequences(new_sequences, maxlen=max_len)\n",
    "    score=(model.predict(new_pad))\n",
    "    label=['박물관','음식','미용실','술집','카페','식물']\n",
    "    for i in score:\n",
    "        \n",
    "        j=[round(x*100,2) for x in i]\n",
    "        for i in j:\n",
    "            if i >20:\n",
    "                print(label[j.index(i)], f'{i}%')\n",
    "        print(label)\n",
    "        print(j)\n",
    "    \n",
    "    "
   ]
  },
  {
   "cell_type": "code",
   "execution_count": 288,
   "id": "054750c9",
   "metadata": {},
   "outputs": [
    {
     "name": "stdout",
     "output_type": "stream",
     "text": [
      "술집 21.28%\n",
      "카페 77.04%\n",
      "['박물관', '음식', '미용실', '술집', '카페', '식물']\n",
      "[0.93, 0.36, 0.02, 21.28, 77.04, 0.37]\n"
     ]
    }
   ],
   "source": [
    "predict_('''메인토핑과 소스도 고를수 있어요!\n",
    "\n",
    "저는 훈제오리와 불고기로 선택하구 소스는 사장님 \n",
    "\n",
    "추천으로 주문했했어용\n",
    "\n",
    "과연 광교 샐러드맛집 일지 궁금합니다''')"
   ]
  },
  {
   "cell_type": "code",
   "execution_count": 289,
   "id": "8e102602",
   "metadata": {},
   "outputs": [
    {
     "name": "stdout",
     "output_type": "stream",
     "text": [
      "술집 99.92%\n",
      "['박물관', '음식', '미용실', '술집', '카페', '식물']\n",
      "[0.0, 0.07, 0.0, 99.92, 0.0, 0.0]\n"
     ]
    }
   ],
   "source": [
    "predict_('맥주 와인 막걸리 양주 칵테일')"
   ]
  },
  {
   "cell_type": "code",
   "execution_count": 293,
   "id": "c89190e3",
   "metadata": {},
   "outputs": [
    {
     "name": "stdout",
     "output_type": "stream",
     "text": [
      "음식 97.76%\n",
      "['박물관', '음식', '미용실', '술집', '카페', '식물']\n",
      "[0.05, 97.76, 0.24, 1.67, 0.2, 0.09]\n"
     ]
    }
   ],
   "source": [
    "predict_(''' 와인 \n",
    "''') "
   ]
  },
  {
   "cell_type": "code",
   "execution_count": 278,
   "id": "c866a5a5",
   "metadata": {},
   "outputs": [],
   "source": [
    "c=[0.93, 0.36, 0.02, 21.28, 77.04, 0.37]"
   ]
  },
  {
   "cell_type": "code",
   "execution_count": 282,
   "id": "3c0f7e77",
   "metadata": {},
   "outputs": [
    {
     "name": "stdout",
     "output_type": "stream",
     "text": [
      "[0.93, 0.36, 0.02, 21.28, 77.04, 0.37]\n",
      "술집 21.28%\n",
      "카페 77.04%\n"
     ]
    }
   ],
   "source": [
    "print(c)\n",
    "max(c)\n",
    "label=['박물관','음식','미용실','술집','카페','식물']\n",
    "for i in c:\n",
    "    if i >20:\n",
    "        print(label[c.index(i)], f'{i}%')"
   ]
  },
  {
   "cell_type": "code",
   "execution_count": 268,
   "id": "ab9478a8",
   "metadata": {},
   "outputs": [],
   "source": [
    "b=[1,3]"
   ]
  },
  {
   "cell_type": "code",
   "execution_count": 269,
   "id": "c1ed2b9e",
   "metadata": {},
   "outputs": [
    {
     "ename": "IndexError",
     "evalue": "pop index out of range",
     "output_type": "error",
     "traceback": [
      "\u001b[1;31m---------------------------------------------------------------------------\u001b[0m",
      "\u001b[1;31mIndexError\u001b[0m                                Traceback (most recent call last)",
      "\u001b[1;32m<ipython-input-269-1055dfd65d7c>\u001b[0m in \u001b[0;36m<module>\u001b[1;34m\u001b[0m\n\u001b[1;32m----> 1\u001b[1;33m \u001b[0mb\u001b[0m\u001b[1;33m.\u001b[0m\u001b[0mpop\u001b[0m\u001b[1;33m(\u001b[0m\u001b[1;36m3\u001b[0m\u001b[1;33m)\u001b[0m\u001b[1;33m\u001b[0m\u001b[1;33m\u001b[0m\u001b[0m\n\u001b[0m",
      "\u001b[1;31mIndexError\u001b[0m: pop index out of range"
     ]
    }
   ],
   "source": [
    "b.pop(3)"
   ]
  },
  {
   "cell_type": "code",
   "execution_count": null,
   "id": "d16403a9",
   "metadata": {},
   "outputs": [],
   "source": []
  },
  {
   "cell_type": "code",
   "execution_count": null,
   "id": "ec938db2",
   "metadata": {},
   "outputs": [],
   "source": []
  }
 ],
 "metadata": {
  "kernelspec": {
   "display_name": "Python 3",
   "language": "python",
   "name": "python3"
  }
 },
 "nbformat": 4,
 "nbformat_minor": 5
}
