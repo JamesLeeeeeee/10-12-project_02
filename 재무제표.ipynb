from bs4 import BeautifulSoup
from selenium import webdriver
import pandas as pd
import time
# import sys
# from selenium.webdriver.common.keys import Keys
# import math
# import os

#실행 프로그램 경로및 실행페이지
path='C:\python_temp\chromedriver_win32\chromedriver.exe'
driver=webdriver.Chrome(path)
driver.get("https://finance.naver.com/sise/sise_market_sum.naver") 

path='C:\python_temp\chromedriver_win32\chromedriver.exe'
url='https://navercomp.wisereport.co.kr/v2/company/c1040001.aspx?cmp_cd={}'.format('005930')
driver=webdriver.Chrome(path)
driver.get(url)


# profit=driver.find_element_by_css_selector('#val_tab1')
# growth=driver.find_element_by_css_selector('#val_tab2')
stability=driver.find_element_by_css_selector('#val_tab3')
# activity=driver.find_element_by_css_selector('#val_tab4')

df_all=[]

stability.click()
html=driver.page_source
soup=BeautifulSoup(html,'html.parser')
table=soup.select('table')
table2=str(table)
table3=pd.read_html(table2)
df=table3[6]
df=df.iloc[:,:7]
df.columns=['항목','2016','2017','2018','2019','2020','전년대비']
df=df.replace({'항목':'펼치기'},{'항목':''},regex=True)
df_all.append(df)

df_concat=pd.concat(df_all)

# driver.close()
df_concat.T
