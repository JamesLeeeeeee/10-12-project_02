{
 "cells": [
  {
   "cell_type": "code",
   "execution_count": 192,
   "id": "71164fff",
   "metadata": {
    "scrolled": true
   },
   "outputs": [],
   "source": [
    "import json\n",
    "import pandas as pd\n",
    "\n",
    "with open('c:\\IG\\혜화역1번출구_.json','r') as f:\n",
    "    insta_dict1=json.load(f)\n",
    "with open('c:\\IG\\혜화역2번출구_.json','r') as f:\n",
    "    insta_dict2=json.load(f)\n",
    "with open('c:\\IG\\혜화역3번출구_.json','r') as f:\n",
    "    insta_dict3=json.load(f)\n",
    "with open('c:\\IG\\혜화역4번출구_.json','r') as f:\n",
    "    insta_dict4=json.load(f)\n",
    "with open('c:\\IG\\혜화역출구전체_.json','r') as f:\n",
    "    insta_dict=json.load(f)"
   ]
  },
  {
   "cell_type": "code",
   "execution_count": 193,
   "id": "7b2db95c",
   "metadata": {},
   "outputs": [],
   "source": [
    "from collections import Counter\n",
    "import collections\n",
    "import re"
   ]
  },
  {
   "cell_type": "code",
   "execution_count": 108,
   "id": "278d8193",
   "metadata": {
    "scrolled": true
   },
   "outputs": [
    {
     "name": "stdout",
     "output_type": "stream",
     "text": [
      "id\n",
      "date\n",
      "like\n",
      "text\n",
      "hashtag\n",
      "img\n"
     ]
    }
   ],
   "source": [
    "#데이터 키값\n",
    "for i in insta_dict.keys():\n",
    "    print(i)"
   ]
  },
  {
   "cell_type": "code",
   "execution_count": 15,
   "id": "5ac2a420",
   "metadata": {},
   "outputs": [],
   "source": [
    "#데이터 통합과정\n",
    " insta_dict = {'id':[],\n",
    "              'date': [],\n",
    "              'like': [],\n",
    "              'text': [],\n",
    "              'hashtag': [],\n",
    "              'img': []}\n",
    "for i in insta_dict.keys():\n",
    "    insta_dict[i] = insta_dict1[i] + insta_dict2[i] + insta_dict3[i]+ insta_dict4[i]\n",
    "    \n",
    "with open('c:\\IG\\혜화역출구전체_.json', 'w') as f:\n",
    "    json.dump(insta_dict, f, indent=4)"
   ]
  },
  {
   "cell_type": "code",
   "execution_count": 194,
   "id": "86a8fb63",
   "metadata": {
    "scrolled": true
   },
   "outputs": [
    {
     "name": "stdout",
     "output_type": "stream",
     "text": [
      "['sjssou12', 14, ['대학로(혜화역1번출구) 예약문의 010 9966 3252'], ['#채플린꽃집', '#해바라기꽃다발', '#채플린꽃집꽃다발', '#대학로꽃집', '#대학로채플린꽃집', '#혜화꽃집', '#혜화역꽃집', '#이화동꽃집', '#명륜동꽃집', '#혜화동로터리', '#혜화역1번출구', '#한양레퍼토리씨어터꽃집', '#혜화아트센터', '#민송아트홀꽃집', '#동양예술극장꽃집', '#동덕여대공연예술센터꽃집', '#서경대학교공연예술센터', '#홍익아트센터꽃집', '#방송통신대학교꽃집', '#서울대병원꽃집', '#성균관대꽃집', '#공연축하꽃다발', '#연극축하꽃다발', '#뮤지컬축하꽃다발', '#꽃선물', '#미니꽃다발', '#간단한선물']]\n"
     ]
    }
   ],
   "source": [
    "insta_dicts=[insta_dict1, insta_dict2, insta_dict3, insta_dict4, insta_dict]\n",
    "list1=[]\n",
    "list2=[]\n",
    "list3=[]\n",
    "list4=[]\n",
    "list_=[]\n",
    "for q in insta_dicts:  \n",
    "    for w in range(len(q['id'])):\n",
    "        try:\n",
    "            num=int(re.sub('[^0-9]','',str(q['like'][w])))\n",
    "        except:\n",
    "            num=0\n",
    "        \n",
    "        if q== insta_dict1:\n",
    "            list1.append([q['id'][w],(num),q['text'][w],q['hashtag'][w]])\n",
    "        elif q== insta_dict2:           \n",
    "            list2.append([q['id'][w],num,q['text'][w],q['hashtag'][w]])\n",
    "        elif q== insta_dict3:           \n",
    "            list3.append([q['id'][w],num,q['text'][w],q['hashtag'][w]])\n",
    "        elif q== insta_dict4:           \n",
    "            list4.append([q['id'][w],num,q['text'][w],q['hashtag'][w]])\n",
    "        elif q==insta_dict:\n",
    "            list_.append([q['id'][w],num,q['text'][w],q['hashtag'][w]])\n",
    "\n",
    "print(list[500])"
   ]
  },
  {
   "cell_type": "code",
   "execution_count": 195,
   "id": "8a8ad8d0",
   "metadata": {},
   "outputs": [],
   "source": [
    "column=['id','like','text','hashtag']\n",
    "list_df1=pd.DataFrame(list1,columns=column)\n",
    "list_df2=pd.DataFrame(list2,columns=column)\n",
    "list_df3=pd.DataFrame(list3,columns=column)\n",
    "list_df4=pd.DataFrame(list4,columns=column)\n",
    "list_df=pd.DataFrame(list_,columns=column)"
   ]
  },
  {
   "cell_type": "code",
   "execution_count": 160,
   "id": "92147854",
   "metadata": {
    "scrolled": true
   },
   "outputs": [
    {
     "data": {
      "text/plain": [
       "Index(['id', 'like', 'text', 'hashtag'], dtype='object')"
      ]
     },
     "execution_count": 160,
     "metadata": {},
     "output_type": "execute_result"
    }
   ],
   "source": [
    "list_df1.keys()"
   ]
  },
  {
   "cell_type": "code",
   "execution_count": 162,
   "id": "b8b075cd",
   "metadata": {},
   "outputs": [
    {
     "data": {
      "text/html": [
       "<div>\n",
       "<style scoped>\n",
       "    .dataframe tbody tr th:only-of-type {\n",
       "        vertical-align: middle;\n",
       "    }\n",
       "\n",
       "    .dataframe tbody tr th {\n",
       "        vertical-align: top;\n",
       "    }\n",
       "\n",
       "    .dataframe thead th {\n",
       "        text-align: right;\n",
       "    }\n",
       "</style>\n",
       "<table border=\"1\" class=\"dataframe\">\n",
       "  <thead>\n",
       "    <tr style=\"text-align: right;\">\n",
       "      <th></th>\n",
       "      <th>like</th>\n",
       "    </tr>\n",
       "  </thead>\n",
       "  <tbody>\n",
       "    <tr>\n",
       "      <th>count</th>\n",
       "      <td>2435.000000</td>\n",
       "    </tr>\n",
       "    <tr>\n",
       "      <th>mean</th>\n",
       "      <td>200.375770</td>\n",
       "    </tr>\n",
       "    <tr>\n",
       "      <th>std</th>\n",
       "      <td>4775.719538</td>\n",
       "    </tr>\n",
       "    <tr>\n",
       "      <th>min</th>\n",
       "      <td>0.000000</td>\n",
       "    </tr>\n",
       "    <tr>\n",
       "      <th>25%</th>\n",
       "      <td>15.000000</td>\n",
       "    </tr>\n",
       "    <tr>\n",
       "      <th>50%</th>\n",
       "      <td>26.000000</td>\n",
       "    </tr>\n",
       "    <tr>\n",
       "      <th>75%</th>\n",
       "      <td>56.000000</td>\n",
       "    </tr>\n",
       "    <tr>\n",
       "      <th>max</th>\n",
       "      <td>216310.000000</td>\n",
       "    </tr>\n",
       "  </tbody>\n",
       "</table>\n",
       "</div>"
      ],
      "text/plain": [
       "                like\n",
       "count    2435.000000\n",
       "mean      200.375770\n",
       "std      4775.719538\n",
       "min         0.000000\n",
       "25%        15.000000\n",
       "50%        26.000000\n",
       "75%        56.000000\n",
       "max    216310.000000"
      ]
     },
     "execution_count": 162,
     "metadata": {},
     "output_type": "execute_result"
    }
   ],
   "source": [
    "list_df1.describe()"
   ]
  },
  {
   "cell_type": "code",
   "execution_count": 196,
   "id": "c073cf4d",
   "metadata": {},
   "outputs": [],
   "source": [
    "#like top5 id\n",
    "top5_id1=list_df1.groupby(list_df1['id'],as_index=False)['like'].sum().sort_values(by='like',ascending=False)[:5]['id']\n",
    "top5_id2=list_df2.groupby(list_df2['id'],as_index=False)['like'].sum().sort_values(by='like',ascending=False)[:5]['id']\n",
    "top5_id3=list_df3.groupby(list_df3['id'],as_index=False)['like'].sum().sort_values(by='like',ascending=False)[:5]['id']\n",
    "top5_id4=list_df4.groupby(list_df4['id'],as_index=False)['like'].sum().sort_values(by='like',ascending=False)[:5]['id']"
   ]
  },
  {
   "cell_type": "code",
   "execution_count": 197,
   "id": "d200414d",
   "metadata": {
    "scrolled": true
   },
   "outputs": [
    {
     "data": {
      "text/html": [
       "<div>\n",
       "<style scoped>\n",
       "    .dataframe tbody tr th:only-of-type {\n",
       "        vertical-align: middle;\n",
       "    }\n",
       "\n",
       "    .dataframe tbody tr th {\n",
       "        vertical-align: top;\n",
       "    }\n",
       "\n",
       "    .dataframe thead th {\n",
       "        text-align: right;\n",
       "    }\n",
       "</style>\n",
       "<table border=\"1\" class=\"dataframe\">\n",
       "  <thead>\n",
       "    <tr style=\"text-align: right;\">\n",
       "      <th></th>\n",
       "      <th>id</th>\n",
       "      <th>like</th>\n",
       "    </tr>\n",
       "  </thead>\n",
       "  <tbody>\n",
       "    <tr>\n",
       "      <th>243</th>\n",
       "      <td>hyeji900505</td>\n",
       "      <td>340221</td>\n",
       "    </tr>\n",
       "    <tr>\n",
       "      <th>586</th>\n",
       "      <td>the.wook_luv</td>\n",
       "      <td>45177</td>\n",
       "    </tr>\n",
       "    <tr>\n",
       "      <th>176</th>\n",
       "      <td>from_instar</td>\n",
       "      <td>11924</td>\n",
       "    </tr>\n",
       "    <tr>\n",
       "      <th>381</th>\n",
       "      <td>luscious__scoops</td>\n",
       "      <td>9313</td>\n",
       "    </tr>\n",
       "    <tr>\n",
       "      <th>219</th>\n",
       "      <td>hema_tearoom7222</td>\n",
       "      <td>3785</td>\n",
       "    </tr>\n",
       "  </tbody>\n",
       "</table>\n",
       "</div>"
      ],
      "text/plain": [
       "                   id    like\n",
       "243       hyeji900505  340221\n",
       "586      the.wook_luv   45177\n",
       "176       from_instar   11924\n",
       "381  luscious__scoops    9313\n",
       "219  hema_tearoom7222    3785"
      ]
     },
     "execution_count": 197,
     "metadata": {},
     "output_type": "execute_result"
    }
   ],
   "source": [
    "#top 5 id와 like\n",
    "list_df1.groupby(list_df1['id'],as_index=False)['like'].sum().sort_values(by='like',ascending=False)[:5]"
   ]
  },
  {
   "cell_type": "code",
   "execution_count": 198,
   "id": "e50e1f1b",
   "metadata": {},
   "outputs": [
    {
     "name": "stdout",
     "output_type": "stream",
     "text": [
      "20\n"
     ]
    }
   ],
   "source": [
    "top20_ids=[]\n",
    "for i in top5_id1:\n",
    "    top20_ids.append(i)\n",
    "for i in top5_id2:\n",
    "    top20_ids.append(i)\n",
    "for i in top5_id3:\n",
    "    top20_ids.append(i)\n",
    "for i in top5_id4:\n",
    "    top20_ids.append(i)\n",
    "print(len(top20_ids))"
   ]
  },
  {
   "cell_type": "code",
   "execution_count": 200,
   "id": "23e054bf",
   "metadata": {},
   "outputs": [
    {
     "name": "stdout",
     "output_type": "stream",
     "text": [
      "2530\n",
      "2530\n"
     ]
    }
   ],
   "source": [
    "top20_text=[]\n",
    "top20_tags=[]\n",
    "for i in top20_ids:\n",
    "    for j in range(len(insta_dict['id'])):\n",
    "        if i==insta_dict['id'][j]:\n",
    "            top20_text.append(insta_dict['text'][j])\n",
    "            top20_tags.append(insta_dict['hashtag'][j])\n",
    "                              \n",
    "print(len(top20_text))\n",
    "print(len(top20_tags))"
   ]
  },
  {
   "cell_type": "code",
   "execution_count": 202,
   "id": "541db4c5",
   "metadata": {},
   "outputs": [],
   "source": [
    "from eunjeon import Mecab\n",
    "import eunjeon"
   ]
  },
  {
   "cell_type": "code",
   "execution_count": 203,
   "id": "e480fd6f",
   "metadata": {},
   "outputs": [],
   "source": [
    "m=Mecab()"
   ]
  },
  {
   "cell_type": "code",
   "execution_count": 227,
   "id": "ac7b9cef",
   "metadata": {},
   "outputs": [],
   "source": [
    "text_noun=[]\n",
    "for i in top20_text:\n",
    "    for j in i:\n",
    "        text_noun.append(j)\n",
    "        "
   ]
  },
  {
   "cell_type": "code",
   "execution_count": 248,
   "id": "ea994801",
   "metadata": {},
   "outputs": [],
   "source": [
    "top20_noun={}\n",
    "noun=[]\n",
    "for i in text_noun:\n",
    "    for j in m.nouns(i):\n",
    "        noun.append(j)\n",
    "top20_noun['noun']=noun"
   ]
  },
  {
   "cell_type": "code",
   "execution_count": 262,
   "id": "c4389410",
   "metadata": {},
   "outputs": [
    {
     "data": {
      "text/plain": [
       "[('분', 910),\n",
       " ('거리', 762),\n",
       " ('위치', 374),\n",
       " ('초', 372),\n",
       " ('오늘', 340),\n",
       " ('공연', 317),\n",
       " ('시', 299),\n",
       " ('월', 292),\n",
       " ('일', 272),\n",
       " ('수', 269),\n",
       " ('문의', 235),\n",
       " ('원', 233),\n",
       " ('중', 199),\n",
       " ('카펠라', 190),\n",
       " ('것', 161),\n",
       " ('너', 160),\n",
       " ('나', 154),\n",
       " ('날', 150),\n",
       " ('스타', 149),\n",
       " ('시간', 141),\n",
       " ('판매', 138),\n",
       " ('룸', 138),\n",
       " ('맛', 130),\n",
       " ('기록', 127),\n",
       " ('메뉴', 126),\n",
       " ('카페', 123),\n",
       " ('예약', 119),\n",
       " ('방문', 116),\n",
       " ('쿠키', 114),\n",
       " ('빠', 110),\n",
       " ('감사', 110),\n",
       " ('거', 109),\n",
       " ('주', 108),\n",
       " ('후', 107),\n",
       " ('아이스크림', 105),\n",
       " ('년', 101),\n",
       " ('내', 98),\n",
       " ('주말', 98),\n",
       " ('차', 98),\n",
       " ('예매', 97),\n",
       " ('스콘', 97),\n",
       " ('하루', 96),\n",
       " ('영화', 96),\n",
       " ('때', 96),\n",
       " ('주문', 96),\n",
       " ('티', 95),\n",
       " ('번', 94),\n",
       " ('그레이', 94),\n",
       " ('얼', 91),\n",
       " ('할인', 91)]"
      ]
     },
     "execution_count": 262,
     "metadata": {},
     "output_type": "execute_result"
    }
   ],
   "source": [
    "c=(Counter(top20_noun['noun']))\n",
    "c.most_common()[:50]"
   ]
  },
  {
   "cell_type": "code",
   "execution_count": null,
   "id": "913e3f56",
   "metadata": {},
   "outputs": [],
   "source": [
    "'''출구별 상위5개의 id의 글의 명사 분석 결과 시간과 위치, 문의, 주차 등 공연과 관련된 글이 많은 것으로 확인이 되었고\n",
    "다음으로는 맛, 메뉴, 판매, 주문, 티 등 카페를 찾는 고객들이 주로 이용하는 것을 확인했습니다.'''"
   ]
  },
  {
   "cell_type": "code",
   "execution_count": 264,
   "id": "d5499ee7",
   "metadata": {},
   "outputs": [],
   "source": [
    "toptag={}\n",
    "tags=[]\n",
    "for i in top20_tags:\n",
    "    for j in i:\n",
    "        tags.append(j)\n",
    "toptag['tag']=tags"
   ]
  },
  {
   "cell_type": "code",
   "execution_count": 268,
   "id": "ae2b23df",
   "metadata": {},
   "outputs": [
    {
     "data": {
      "text/plain": [
       "[('#혜화역2번출구', 988),\n",
       " ('#대학로', 973),\n",
       " ('#마로니에공원', 762),\n",
       " ('#대학로디저트', 754),\n",
       " ('#낙산공원', 724),\n",
       " ('#대학로카페', 697),\n",
       " ('#혜화카페', 688),\n",
       " ('#대학로맛집', 614),\n",
       " ('#혜화역1번출구', 606),\n",
       " ('#대학로테라스', 602),\n",
       " ('#대학로데이트', 589),\n",
       " ('#자몽', 560),\n",
       " ('#동숭동카페', 559),\n",
       " ('#취향저격', 537),\n",
       " ('#여심저격', 537),\n",
       " ('#성대', 495),\n",
       " ('#grapefruit', 491),\n",
       " ('#한성대', 482),\n",
       " ('#방통대', 480),\n",
       " ('#グレープフルーツ', 448),\n",
       " ('#대학로브런치', 446),\n",
       " ('#꿀자몽', 446),\n",
       " ('#드라이플라워', 427),\n",
       " ('#혜화맛집', 407),\n",
       " ('#루프탑', 398),\n",
       " ('#혜화역', 392),\n",
       " ('#평균', 368),\n",
       " ('#연습실도시락#서포트도시락#수제도시락', 367),\n",
       " ('#포장실대여#스터디룸대여', 367),\n",
       " ('#대학로극장', 367),\n",
       " ('#대학로카페추천', 364),\n",
       " ('#아이돌도시락#아이돌서포트', 356),\n",
       " ('#뮤지컬도시락#뮤지컬서포트#음방도시락', 355),\n",
       " ('#샴도시락#서포트#조공', 354),\n",
       " ('#혜화역맛집', 348),\n",
       " ('#이화동', 331),\n",
       " ('#카톡id', 318),\n",
       " ('#대학로공연', 313),\n",
       " ('#퇴근길선물#배우선물', 313),\n",
       " ('#맛스타그램', 307),\n",
       " ('#꿀자몽퐁당티', 304),\n",
       " ('#서울대병원', 301),\n",
       " ('#혜화역4번출구', 301),\n",
       " ('#혜화역3번출구', 296),\n",
       " ('#러셔스스쿱스', 289),\n",
       " ('#홈메이드아이스크림', 288),\n",
       " ('#핵존맛', 285),\n",
       " ('#대학로소나무길', 283),\n",
       " ('#취저카페', 280),\n",
       " ('#나몰라패밀리핫쇼', 273)]"
      ]
     },
     "execution_count": 268,
     "metadata": {},
     "output_type": "execute_result"
    }
   ],
   "source": [
    "b=Counter(toptag['tag'])\n",
    "b.most_common()[:50]"
   ]
  },
  {
   "cell_type": "code",
   "execution_count": null,
   "id": "cfe864f6",
   "metadata": {},
   "outputs": [],
   "source": [
    "'''해쉬태그들을 분석결과 마로니에 공원, 낙산공원, 서울대병원 등 주변 지역이름을 주로 태그했고\n",
    "뮤지컬, 연극 등 즐길거리와\n",
    "카페, 루프탑의 경우 메뉴의 아이템들이 주로 태그 됨.'''"
   ]
  }
 ],
 "metadata": {
  "kernelspec": {
   "display_name": "Python 3",
   "language": "python",
   "name": "python3"
  },
  "language_info": {
   "codemirror_mode": {
    "name": "ipython",
    "version": 3
   },
   "file_extension": ".py",
   "mimetype": "text/x-python",
   "name": "python",
   "nbconvert_exporter": "python",
   "pygments_lexer": "ipython3",
   "version": "3.8.8"
  }
 },
 "nbformat": 4,
 "nbformat_minor": 5
}
