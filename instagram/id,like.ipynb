{
 "cells": [
  {
   "cell_type": "code",
   "execution_count": 191,
   "id": "71164fff",
   "metadata": {
    "scrolled": true
   },
   "outputs": [
    {
     "ename": "SyntaxError",
     "evalue": "invalid syntax (<ipython-input-191-8ab30eab56a2>, line 3)",
     "output_type": "error",
     "traceback": [
      "\u001b[1;36m  File \u001b[1;32m\"<ipython-input-191-8ab30eab56a2>\"\u001b[1;36m, line \u001b[1;32m3\u001b[0m\n\u001b[1;33m    import collections import Counter\u001b[0m\n\u001b[1;37m                       ^\u001b[0m\n\u001b[1;31mSyntaxError\u001b[0m\u001b[1;31m:\u001b[0m invalid syntax\n"
     ]
    }
   ],
   "source": [
    "import json\n",
    "import pandas as pd\n",
    "\n",
    "with open('c:\\IG\\혜화역3번출구_461','r') as f:\n",
    "    json_file=json.load(f)"
   ]
  },
  {
   "cell_type": "code",
   "execution_count": 192,
   "id": "7b2db95c",
   "metadata": {},
   "outputs": [],
   "source": [
    "from collections import Counter"
   ]
  },
  {
   "cell_type": "code",
   "execution_count": 7,
   "id": "5ac2a420",
   "metadata": {},
   "outputs": [],
   "source": [
    "ids = json_file['id']"
   ]
  },
  {
   "cell_type": "code",
   "execution_count": 13,
   "id": "6380a4a6",
   "metadata": {},
   "outputs": [],
   "source": [
    "id_=[]\n",
    "for i in ids:\n",
    "    if i not in id_:\n",
    "        id_.append(i)"
   ]
  },
  {
   "cell_type": "code",
   "execution_count": 15,
   "id": "a349ed82",
   "metadata": {},
   "outputs": [],
   "source": [
    "import collections"
   ]
  },
  {
   "cell_type": "code",
   "execution_count": 54,
   "id": "9720221a",
   "metadata": {
    "scrolled": true
   },
   "outputs": [
    {
     "name": "stdout",
     "output_type": "stream",
     "text": [
      "['yunju._.luda', 'j_hees3', 'hyuni47', 'brave.kary', 'jinyoung0918', 'eun.ko99', 'the_side_table', 'wwwvitaminnet', 'illust_sungho', 'jeonheebog', 'jiguin_donggyu', 'snyper0103', 'seoyeon1796', 'inwoo_1108', 'aeri12222', 'dsj__7027', 'hyehwa_leejoo', 'songi_k', 'dadam_da', 'katja_gruenewald95', 'wkks_', 'jungnam_woo', 'goodhope70_books', 'yangsook_park', 'h__ghwa9309', 'peaberry_88', 'seoul_muksoonee', 'lym1004567', '203.page', 'eunyeong7979', 'kone1304', 'myhero00', 'hyehwa_pharmacy', 'dnlwkgus', 'jakjung_2012', 'joojamanru', 'kim4u23', 'metro_masjib', 'new_jeuni', 'imkyeong7751', 'gnar_s2', 'sida.or.kr', 'ggxn_chelin', 'cityeobbu', 'kd9040', 'kyung_s90', 'thealchan01', 'dmswjd2196224', '_musicalholic', 'ssuvely_94', 'kainos2011', 'jhp_15', 'kim_valentino21', 'piddam33', 'yuri7962', 'vom.ardently', 'leejin_suk', 'sihyoojjang', 'thx_er', 'sunnyside529', 'grassland1980', 'windstarlit', 'hicomfunny1015', 'jhnm_in_star', '88_12_25', 'dalwoori', 'the_guiding_of_the_real_estate', 'limseongheekorea', 'zoo2hi', 'leeyoonmi7', 'snlfls28', 'james.bang.754', 'redplum02', 'koojihee', 'srfnsj', 'daehanbeer00', 'yinssam_life', 'elkkgj415', 'san01love', 'na_____rong', 'hivervent', 'caffe_slowstep', 'eeeeedin_', '122_l22', 'goodhope70', 'lee_yu_kyung_', 'mystikotita', 'comma_atelier', 'hisshe', 'jinogram', 'huiya12100', 'pur_mir', 'totorobus_', 'cafetravelsisters', 'junykuku', 'g.won_55', 'calli.hwa_i', 'ny_summer', 'nyanyang_e', 'y_y_mini', 'vitanim_minativ', 'han.harley', 'stella_mjm', 'midmidosirag', 'jungtnmh07', 'changsukjin', 'meisterflorist_academy', 'jungminroh77', 'together1001999', 'hi_jykm_', 'do_it_acappella', 'ds_gggbbb', 'ha_jing.jing', 'menyasandaime_hyehwa', 'mong_aal', 'hyeins', 'tigger3269', 'donghunss', 'jesus_clive', 'shalom_df', 'clara_nyangee', 'kmjin226', 'winsome_yudini', 'ggomenni_0', 'seon_sunny_estelle', 'faghfkfk', 'bk.luv.0918', 'isabella_mijin', 'slowstep_hongdae', 'oh.debbie', 'leegune', 'jabari.jh', 'areutemireuseu', 'only__j_na', 'mssy0512', 'baeke_hina', 'youngjoon2908', 'ohby.ne', 'ma___ng2', 'ryu_daily.autumn21', 'im.jjeen___', 'sianlee86', 'kweon_hyuk', 'metalhead_the_dog', 'shine_sohee', 'ydajae83', 'eunmi__diary', 'wool_s', 'bly_ldh.88', '2yeoli', 'hamacompany', 'jh.stagram', 'jby1021', 'ho.neylover', 'sini.krpl', 'yein_so', 'song_myungjung', 'emotionalholic', 'joshbaek']\n"
     ]
    }
   ],
   "source": [
    "print((id_))"
   ]
  },
  {
   "cell_type": "code",
   "execution_count": 21,
   "id": "e5d2ed18",
   "metadata": {},
   "outputs": [
    {
     "data": {
      "text/plain": [
       "Counter({'yunju._.luda': 1,\n",
       "         'j_hees3': 1,\n",
       "         'hyuni47': 1,\n",
       "         'brave.kary': 1,\n",
       "         'jinyoung0918': 1,\n",
       "         'eun.ko99': 1,\n",
       "         'the_side_table': 1,\n",
       "         'wwwvitaminnet': 1,\n",
       "         'illust_sungho': 1,\n",
       "         'jeonheebog': 1,\n",
       "         'jiguin_donggyu': 1,\n",
       "         'snyper0103': 1,\n",
       "         'seoyeon1796': 1,\n",
       "         'inwoo_1108': 1,\n",
       "         'aeri12222': 1,\n",
       "         'dsj__7027': 1,\n",
       "         'hyehwa_leejoo': 4,\n",
       "         'songi_k': 1,\n",
       "         'dadam_da': 1,\n",
       "         'katja_gruenewald95': 1,\n",
       "         'wkks_': 1,\n",
       "         'jungnam_woo': 1,\n",
       "         'goodhope70_books': 1,\n",
       "         'yangsook_park': 1,\n",
       "         'h__ghwa9309': 1,\n",
       "         'peaberry_88': 1,\n",
       "         'seoul_muksoonee': 1,\n",
       "         'lym1004567': 1,\n",
       "         '203.page': 2,\n",
       "         'eunyeong7979': 1,\n",
       "         'kone1304': 1,\n",
       "         'myhero00': 1,\n",
       "         'hyehwa_pharmacy': 1,\n",
       "         'dnlwkgus': 2,\n",
       "         'jakjung_2012': 1,\n",
       "         'joojamanru': 1,\n",
       "         'kim4u23': 1,\n",
       "         'metro_masjib': 1,\n",
       "         'new_jeuni': 1,\n",
       "         'imkyeong7751': 1,\n",
       "         'gnar_s2': 1,\n",
       "         'sida.or.kr': 1,\n",
       "         'ggxn_chelin': 1,\n",
       "         'cityeobbu': 1,\n",
       "         'kd9040': 1,\n",
       "         'kyung_s90': 1,\n",
       "         'thealchan01': 1,\n",
       "         'dmswjd2196224': 1,\n",
       "         '_musicalholic': 1,\n",
       "         'ssuvely_94': 1,\n",
       "         'kainos2011': 1,\n",
       "         'jhp_15': 1,\n",
       "         'kim_valentino21': 13,\n",
       "         'piddam33': 7,\n",
       "         'yuri7962': 1,\n",
       "         'vom.ardently': 1,\n",
       "         'leejin_suk': 1,\n",
       "         'sihyoojjang': 1,\n",
       "         'thx_er': 1,\n",
       "         'sunnyside529': 1,\n",
       "         'grassland1980': 241,\n",
       "         'windstarlit': 1,\n",
       "         'hicomfunny1015': 1,\n",
       "         'jhnm_in_star': 1,\n",
       "         '88_12_25': 1,\n",
       "         'dalwoori': 1,\n",
       "         'the_guiding_of_the_real_estate': 1,\n",
       "         'limseongheekorea': 1,\n",
       "         'zoo2hi': 1,\n",
       "         'leeyoonmi7': 1,\n",
       "         'snlfls28': 1,\n",
       "         'james.bang.754': 1,\n",
       "         'redplum02': 1,\n",
       "         'koojihee': 1,\n",
       "         'srfnsj': 1,\n",
       "         'daehanbeer00': 1,\n",
       "         'yinssam_life': 1,\n",
       "         'elkkgj415': 1,\n",
       "         'san01love': 1,\n",
       "         'na_____rong': 1,\n",
       "         'hivervent': 2,\n",
       "         'caffe_slowstep': 21,\n",
       "         'eeeeedin_': 1,\n",
       "         '122_l22': 1,\n",
       "         'goodhope70': 1,\n",
       "         'lee_yu_kyung_': 1,\n",
       "         'mystikotita': 1,\n",
       "         'comma_atelier': 1,\n",
       "         'hisshe': 1,\n",
       "         'jinogram': 1,\n",
       "         'huiya12100': 1,\n",
       "         'pur_mir': 1,\n",
       "         'totorobus_': 1,\n",
       "         'cafetravelsisters': 1,\n",
       "         'junykuku': 4,\n",
       "         'g.won_55': 1,\n",
       "         'calli.hwa_i': 1,\n",
       "         'ny_summer': 1,\n",
       "         'nyanyang_e': 1,\n",
       "         'y_y_mini': 1,\n",
       "         'vitanim_minativ': 1,\n",
       "         'han.harley': 1,\n",
       "         'stella_mjm': 1,\n",
       "         'midmidosirag': 1,\n",
       "         'jungtnmh07': 1,\n",
       "         'changsukjin': 1,\n",
       "         'meisterflorist_academy': 2,\n",
       "         'jungminroh77': 1,\n",
       "         'together1001999': 2,\n",
       "         'hi_jykm_': 3,\n",
       "         'do_it_acappella': 1,\n",
       "         'ds_gggbbb': 1,\n",
       "         'ha_jing.jing': 1,\n",
       "         'menyasandaime_hyehwa': 3,\n",
       "         'mong_aal': 1,\n",
       "         'hyeins': 1,\n",
       "         'tigger3269': 1,\n",
       "         'donghunss': 1,\n",
       "         'jesus_clive': 1,\n",
       "         'shalom_df': 1,\n",
       "         'clara_nyangee': 2,\n",
       "         'kmjin226': 1,\n",
       "         'winsome_yudini': 1,\n",
       "         'ggomenni_0': 1,\n",
       "         'seon_sunny_estelle': 1,\n",
       "         'faghfkfk': 1,\n",
       "         'bk.luv.0918': 4,\n",
       "         'isabella_mijin': 1,\n",
       "         'slowstep_hongdae': 2,\n",
       "         'oh.debbie': 1,\n",
       "         'leegune': 1,\n",
       "         'jabari.jh': 1,\n",
       "         'areutemireuseu': 1,\n",
       "         'only__j_na': 1,\n",
       "         'mssy0512': 1,\n",
       "         'baeke_hina': 1,\n",
       "         'youngjoon2908': 1,\n",
       "         'ohby.ne': 1,\n",
       "         'ma___ng2': 1,\n",
       "         'ryu_daily.autumn21': 1,\n",
       "         'im.jjeen___': 1,\n",
       "         'sianlee86': 1,\n",
       "         'kweon_hyuk': 1,\n",
       "         'metalhead_the_dog': 1,\n",
       "         'shine_sohee': 1,\n",
       "         'ydajae83': 1,\n",
       "         'eunmi__diary': 1,\n",
       "         'wool_s': 2,\n",
       "         'bly_ldh.88': 1,\n",
       "         '2yeoli': 1,\n",
       "         'hamacompany': 2,\n",
       "         'jh.stagram': 1,\n",
       "         'jby1021': 1,\n",
       "         'ho.neylover': 1,\n",
       "         'sini.krpl': 1,\n",
       "         'yein_so': 1,\n",
       "         'song_myungjung': 2,\n",
       "         'emotionalholic': 2,\n",
       "         'joshbaek': 1})"
      ]
     },
     "execution_count": 21,
     "metadata": {},
     "output_type": "execute_result"
    }
   ],
   "source": [
    "collections.Counter(json_file['id'])"
   ]
  },
  {
   "cell_type": "code",
   "execution_count": 34,
   "id": "9e11e452",
   "metadata": {
    "scrolled": true
   },
   "outputs": [
    {
     "name": "stdout",
     "output_type": "stream",
     "text": [
      "['127', '86', '38', '28', '20', '161', '116', '129', '72', '9', '9', '22', '31', '37', '15', '24', '15', '129', '14', '47', '14', '10', '6', '20', '7', '48', '16', '8', '17', '19', '368', '24', '74', '2', '31', '9', '25', '22', '525', '21', '9', '19', '42', '14', '9', '7', '1', '18', '62', '36', '55', '246', '10', '50', '12', '5', '19', '13', '17', '35', '20', '20', '162', '173', '26', '80', '6', '17', '17', '52', '4', '15', '82', '72', '17', '17', '17', '23', '13', '10', '13', '19', '30', '9', '23', '15', '15', '24', '34', '143', '100', '5', '4', '88', '31', '145', '122', '27', '138', '61', '72', '119', '90', '125', '82', '62', '93', '115', '11', '148', '74', '14', '8', '129', '140', '34', '99', '12', '13', '95', '158', '75', '91', '66', '131', '93', '146', '70', '84', '88', '139', '83', '77', '102', '54', '84', '151', '95', '105', '96', '97', '123', '138', '87', '85', '100', '184', '89', '110', '116', '131', '129', '76', '55', '21', '259', '102', '93', '9', '117', '162', '639', '162', '153', '156', '142', '132', '116', '101', '119', '370', '50', '221', '106', '137', '124', '154', '144', '107', '124', '139', '29', '123', '119', '121', '93', '109', '116', '17', '208', '171', '80', '131', '96', '120', '144', '112', '98', '23', '146', '14', '144', '146', '147', '120', '146', '111', '106', '85', '118', '81', '131', '134', '205', '38', '166', '32', '144', '78', '20', '175', '126', '22', '112', '290', '134', '155', '134', '152', '295', '109', '148', '28', '11', '34', '13', '178', '179', '46', '209', '237', '206', '155', '198', '108', '129', '108', '137', '12', '174', '251', '19', '199', '189', '33', '25', '10', '194', '7', '189', '19', '184', '404', '349', '117', '245', '244', '140', '198', '146', '117', '149', '162', '224', '273', '326', '263', '186', '139', '159', '115', '165', '157', '147', '342', '204', '187', '130', '11', '9', '178', '18', '160', '14', '165', '230', '105', '199', '126', '148', '128', '26', '158', '157', '129', '83', '107', '82', '68', '143', '136', '173', '254', '184', '105', '116', '25', '97', '24', '121', '95', '101', '160', '35', '199', '143', '395', '222', '283', '10', '116', '130', '155', '73', '176', '158', '247', '52', '178', '2036', '99', '169', '114', '116', '214', '1929', '206', '186', '2110', '139', '24', '123', '114', '84', '240', '179', '138', '116', '118', '66', '8', '33', '45', '47', '85', '17', '50', '43', '33', '46', '21', '64', '13', '26', '54', '13', '3', '39', '38', '52', '30', '53', '1', '77', '39', '13', '54', '36', '13', '147', '12', '11', '37', '12', '44', '64', '43', '98', '40', '25', '31', '55', '2', '95', '51', '41', '47', '77', '31', '52', '44', '41', '30', '43', '48', '32', '169', '53', '58', '20', '72', '45', '184', '15', '50', '33', '19', '25', '47', '29', '50', '40', '39', '52', '18', '103', '25', '10', '36', '27', '11', '29', '17', '30', '21', '17', '7', '8', '6', '42', '11', '24', '17', '14', '16', '8', '3', '2', '16', '16', '101']\n",
      "[127, 86, 38, 28, 20, 161, 116, 129, 72, 9, 9, 22, 31, 37, 15, 24, 15, 129, 14, 47, 14, 10, 6, 20, 7, 48, 16, 8, 17, 19, 368, 24, 74, 2, 31, 9, 25, 22, 525, 21, 9, 19, 42, 14, 9, 7, 1, 18, 62, 36, 55, 246, 10, 50, 12, 5, 19, 13, 17, 35, 20, 20, 162, 173, 26, 80, 6, 17, 17, 52, 4, 15, 82, 72, 17, 17, 17, 23, 13, 10, 13, 19, 30, 9, 23, 15, 15, 24, 34, 143, 100, 5, 4, 88, 31, 145, 122, 27, 138, 61, 72, 119, 90, 125, 82, 62, 93, 115, 11, 148, 74, 14, 8, 129, 140, 34, 99, 12, 13, 95, 158, 75, 91, 66, 131, 93, 146, 70, 84, 88, 139, 83, 77, 102, 54, 84, 151, 95, 105, 96, 97, 123, 138, 87, 85, 100, 184, 89, 110, 116, 131, 129, 76, 55, 21, 259, 102, 93, 9, 117, 162, 639, 162, 153, 156, 142, 132, 116, 101, 119, 370, 50, 221, 106, 137, 124, 154, 144, 107, 124, 139, 29, 123, 119, 121, 93, 109, 116, 17, 208, 171, 80, 131, 96, 120, 144, 112, 98, 23, 146, 14, 144, 146, 147, 120, 146, 111, 106, 85, 118, 81, 131, 134, 205, 38, 166, 32, 144, 78, 20, 175, 126, 22, 112, 290, 134, 155, 134, 152, 295, 109, 148, 28, 11, 34, 13, 178, 179, 46, 209, 237, 206, 155, 198, 108, 129, 108, 137, 12, 174, 251, 19, 199, 189, 33, 25, 10, 194, 7, 189, 19, 184, 404, 349, 117, 245, 244, 140, 198, 146, 117, 149, 162, 224, 273, 326, 263, 186, 139, 159, 115, 165, 157, 147, 342, 204, 187, 130, 11, 9, 178, 18, 160, 14, 165, 230, 105, 199, 126, 148, 128, 26, 158, 157, 129, 83, 107, 82, 68, 143, 136, 173, 254, 184, 105, 116, 25, 97, 24, 121, 95, 101, 160, 35, 199, 143, 395, 222, 283, 10, 116, 130, 155, 73, 176, 158, 247, 52, 178, 2036, 99, 169, 114, 116, 214, 1929, 206, 186, 2110, 139, 24, 123, 114, 84, 240, 179, 138, 116, 118, 66, 8, 33, 45, 47, 85, 17, 50, 43, 33, 46, 21, 64, 13, 26, 54, 13, 3, 39, 38, 52, 30, 53, 1, 77, 39, 13, 54, 36, 13, 147, 12, 11, 37, 12, 44, 64, 43, 98, 40, 25, 31, 55, 2, 95, 51, 41, 47, 77, 31, 52, 44, 41, 30, 43, 48, 32, 169, 53, 58, 20, 72, 45, 184, 15, 50, 33, 19, 25, 47, 29, 50, 40, 39, 52, 18, 103, 25, 10, 36, 27, 11, 29, 17, 30, 21, 17, 7, 8, 6, 42, 11, 24, 17, 14, 16, 8, 3, 2, 16, 16, 101]\n"
     ]
    }
   ],
   "source": [
    "print(json_file['like'])\n",
    "like=[]\n",
    "for i in json_file['like']:\n",
    "    like.append(int(i))\n",
    "    \n",
    "print(like)"
   ]
  },
  {
   "cell_type": "code",
   "execution_count": 35,
   "id": "86a8fb63",
   "metadata": {
    "scrolled": true
   },
   "outputs": [
    {
     "name": "stdout",
     "output_type": "stream",
     "text": [
      "[['yunju._.luda', 127], ['j_hees3', 86], ['hyuni47', 38], ['brave.kary', 28], ['jinyoung0918', 20], ['eun.ko99', 161], ['the_side_table', 116], ['wwwvitaminnet', 129], ['illust_sungho', 72], ['jeonheebog', 9], ['jiguin_donggyu', 9], ['snyper0103', 22], ['seoyeon1796', 31], ['inwoo_1108', 37], ['aeri12222', 15], ['dsj__7027', 24], ['hyehwa_leejoo', 15], ['songi_k', 129], ['hyehwa_leejoo', 14], ['dadam_da', 47], ['katja_gruenewald95', 14], ['hyehwa_leejoo', 10], ['hyehwa_leejoo', 6], ['wkks_', 20], ['jungnam_woo', 7], ['goodhope70_books', 48], ['yangsook_park', 16], ['h__ghwa9309', 8], ['peaberry_88', 17], ['seoul_muksoonee', 19], ['lym1004567', 368], ['203.page', 24], ['eunyeong7979', 74], ['kone1304', 2], ['myhero00', 31], ['hyehwa_pharmacy', 9], ['dnlwkgus', 25], ['jakjung_2012', 22], ['joojamanru', 525], ['kim4u23', 21], ['metro_masjib', 9], ['new_jeuni', 19], ['imkyeong7751', 42], ['gnar_s2', 14], ['sida.or.kr', 9], ['ggxn_chelin', 7], ['cityeobbu', 1], ['203.page', 18], ['kd9040', 62], ['kyung_s90', 36], ['thealchan01', 55], ['dnlwkgus', 246], ['dmswjd2196224', 10], ['_musicalholic', 50], ['ssuvely_94', 12], ['kainos2011', 5], ['jhp_15', 19], ['kim_valentino21', 13], ['piddam33', 17], ['yuri7962', 35], ['vom.ardently', 20], ['leejin_suk', 20], ['sihyoojjang', 162], ['thx_er', 173], ['sunnyside529', 26], ['grassland1980', 80], ['windstarlit', 6], ['hicomfunny1015', 17], ['jhnm_in_star', 17], ['88_12_25', 52], ['dalwoori', 4], ['the_guiding_of_the_real_estate', 15], ['limseongheekorea', 82], ['zoo2hi', 72], ['kim_valentino21', 17], ['kim_valentino21', 17], ['piddam33', 17], ['piddam33', 23], ['kim_valentino21', 13], ['kim_valentino21', 10], ['piddam33', 13], ['kim_valentino21', 19], ['piddam33', 30], ['leeyoonmi7', 9], ['snlfls28', 23], ['james.bang.754', 15], ['redplum02', 15], ['koojihee', 24], ['srfnsj', 34], ['daehanbeer00', 143], ['grassland1980', 100], ['yinssam_life', 5], ['elkkgj415', 4], ['grassland1980', 88], ['san01love', 31], ['grassland1980', 145], ['grassland1980', 122], ['na_____rong', 27], ['grassland1980', 138], ['grassland1980', 61], ['grassland1980', 72], ['grassland1980', 119], ['grassland1980', 90], ['grassland1980', 125], ['grassland1980', 82], ['grassland1980', 62], ['grassland1980', 93], ['grassland1980', 115], ['hivervent', 11], ['caffe_slowstep', 148], ['eeeeedin_', 74], ['piddam33', 14], ['kim_valentino21', 8], ['grassland1980', 129], ['grassland1980', 140], ['122_l22', 34], ['grassland1980', 99], ['kim_valentino21', 12], ['piddam33', 13], ['grassland1980', 95], ['grassland1980', 158], ['grassland1980', 75], ['grassland1980', 91], ['grassland1980', 66], ['grassland1980', 131], ['grassland1980', 93], ['grassland1980', 146], ['grassland1980', 70], ['grassland1980', 84], ['grassland1980', 88], ['grassland1980', 139], ['grassland1980', 83], ['grassland1980', 77], ['grassland1980', 102], ['grassland1980', 54], ['grassland1980', 84], ['grassland1980', 151], ['grassland1980', 95], ['grassland1980', 105], ['grassland1980', 96], ['grassland1980', 97], ['grassland1980', 123], ['grassland1980', 138], ['grassland1980', 87], ['grassland1980', 85], ['grassland1980', 100], ['grassland1980', 184], ['grassland1980', 89], ['grassland1980', 110], ['grassland1980', 116], ['grassland1980', 131], ['grassland1980', 129], ['grassland1980', 76], ['goodhope70', 55], ['lee_yu_kyung_', 21], ['grassland1980', 259], ['grassland1980', 102], ['grassland1980', 93], ['hivervent', 9], ['caffe_slowstep', 117], ['grassland1980', 162], ['mystikotita', 639], ['grassland1980', 162], ['grassland1980', 153], ['grassland1980', 156], ['grassland1980', 142], ['grassland1980', 132], ['grassland1980', 116], ['grassland1980', 101], ['grassland1980', 119], ['grassland1980', 370], ['comma_atelier', 50], ['hisshe', 221], ['grassland1980', 106], ['grassland1980', 137], ['grassland1980', 124], ['caffe_slowstep', 154], ['grassland1980', 144], ['grassland1980', 107], ['grassland1980', 124], ['grassland1980', 139], ['jinogram', 29], ['grassland1980', 123], ['grassland1980', 119], ['grassland1980', 121], ['grassland1980', 93], ['grassland1980', 109], ['grassland1980', 116], ['kim_valentino21', 17], ['grassland1980', 208], ['grassland1980', 171], ['grassland1980', 80], ['grassland1980', 131], ['grassland1980', 96], ['grassland1980', 120], ['grassland1980', 144], ['grassland1980', 112], ['grassland1980', 98], ['kim_valentino21', 23], ['grassland1980', 146], ['kim_valentino21', 14], ['grassland1980', 144], ['grassland1980', 146], ['grassland1980', 147], ['grassland1980', 120], ['grassland1980', 146], ['grassland1980', 111], ['grassland1980', 106], ['grassland1980', 85], ['grassland1980', 118], ['grassland1980', 81], ['grassland1980', 131], ['grassland1980', 134], ['grassland1980', 205], ['huiya12100', 38], ['grassland1980', 166], ['kim_valentino21', 32], ['grassland1980', 144], ['grassland1980', 78], ['kim_valentino21', 20], ['grassland1980', 175], ['grassland1980', 126], ['pur_mir', 22], ['grassland1980', 112], ['grassland1980', 290], ['grassland1980', 134], ['grassland1980', 155], ['totorobus_', 134], ['grassland1980', 152], ['grassland1980', 295], ['caffe_slowstep', 109], ['grassland1980', 148], ['cafetravelsisters', 28], ['junykuku', 11], ['g.won_55', 34], ['calli.hwa_i', 13], ['grassland1980', 178], ['caffe_slowstep', 179], ['ny_summer', 46], ['caffe_slowstep', 209], ['grassland1980', 237], ['grassland1980', 206], ['grassland1980', 155], ['grassland1980', 198], ['grassland1980', 108], ['grassland1980', 129], ['grassland1980', 108], ['grassland1980', 137], ['nyanyang_e', 12], ['grassland1980', 174], ['grassland1980', 251], ['y_y_mini', 19], ['caffe_slowstep', 199], ['caffe_slowstep', 189], ['vitanim_minativ', 33], ['han.harley', 25], ['stella_mjm', 10], ['grassland1980', 194], ['midmidosirag', 7], ['grassland1980', 189], ['jungtnmh07', 19], ['grassland1980', 184], ['grassland1980', 404], ['grassland1980', 349], ['changsukjin', 117], ['grassland1980', 245], ['grassland1980', 244], ['caffe_slowstep', 140], ['grassland1980', 198], ['grassland1980', 146], ['grassland1980', 117], ['grassland1980', 149], ['caffe_slowstep', 162], ['grassland1980', 224], ['meisterflorist_academy', 273], ['grassland1980', 326], ['grassland1980', 263], ['grassland1980', 186], ['grassland1980', 139], ['caffe_slowstep', 159], ['caffe_slowstep', 115], ['grassland1980', 165], ['grassland1980', 157], ['grassland1980', 147], ['caffe_slowstep', 342], ['grassland1980', 204], ['grassland1980', 187], ['caffe_slowstep', 130], ['junykuku', 11], ['junykuku', 9], ['grassland1980', 178], ['jungminroh77', 18], ['grassland1980', 160], ['junykuku', 14], ['grassland1980', 165], ['grassland1980', 230], ['grassland1980', 105], ['grassland1980', 199], ['grassland1980', 126], ['grassland1980', 148], ['grassland1980', 128], ['together1001999', 26], ['grassland1980', 158], ['grassland1980', 157], ['grassland1980', 129], ['grassland1980', 83], ['grassland1980', 107], ['grassland1980', 82], ['grassland1980', 68], ['grassland1980', 143], ['grassland1980', 136], ['grassland1980', 173], ['caffe_slowstep', 254], ['caffe_slowstep', 184], ['caffe_slowstep', 105], ['grassland1980', 116], ['together1001999', 25], ['grassland1980', 97], ['hi_jykm_', 24], ['grassland1980', 121], ['grassland1980', 95], ['grassland1980', 101], ['caffe_slowstep', 160], ['do_it_acappella', 35], ['grassland1980', 199], ['grassland1980', 143], ['grassland1980', 395], ['grassland1980', 222], ['grassland1980', 283], ['ds_gggbbb', 10], ['caffe_slowstep', 116], ['caffe_slowstep', 130], ['grassland1980', 155], ['grassland1980', 73], ['grassland1980', 176], ['grassland1980', 158], ['grassland1980', 247], ['ha_jing.jing', 52], ['grassland1980', 178], ['menyasandaime_hyehwa', 2036], ['grassland1980', 99], ['grassland1980', 169], ['grassland1980', 114], ['grassland1980', 116], ['grassland1980', 214], ['menyasandaime_hyehwa', 1929], ['grassland1980', 206], ['grassland1980', 186], ['menyasandaime_hyehwa', 2110], ['grassland1980', 139], ['mong_aal', 24], ['grassland1980', 123], ['grassland1980', 114], ['caffe_slowstep', 84], ['grassland1980', 240], ['grassland1980', 179], ['grassland1980', 138], ['hyeins', 116], ['grassland1980', 118], ['grassland1980', 66], ['tigger3269', 8], ['grassland1980', 33], ['grassland1980', 45], ['donghunss', 47], ['jesus_clive', 85], ['hi_jykm_', 17], ['shalom_df', 50], ['grassland1980', 43], ['clara_nyangee', 33], ['clara_nyangee', 46], ['hi_jykm_', 21], ['kmjin226', 64], ['winsome_yudini', 13], ['grassland1980', 26], ['grassland1980', 54], ['ggomenni_0', 13], ['seon_sunny_estelle', 3], ['grassland1980', 39], ['grassland1980', 38], ['grassland1980', 52], ['faghfkfk', 30], ['grassland1980', 53], ['bk.luv.0918', 1], ['grassland1980', 77], ['grassland1980', 39], ['isabella_mijin', 13], ['grassland1980', 54], ['slowstep_hongdae', 36], ['oh.debbie', 13], ['leegune', 147], ['bk.luv.0918', 12], ['bk.luv.0918', 11], ['jabari.jh', 37], ['areutemireuseu', 12], ['slowstep_hongdae', 44], ['grassland1980', 64], ['grassland1980', 43], ['only__j_na', 98], ['grassland1980', 40], ['grassland1980', 25], ['grassland1980', 31], ['grassland1980', 55], ['bk.luv.0918', 2], ['grassland1980', 95], ['grassland1980', 51], ['grassland1980', 41], ['grassland1980', 47], ['grassland1980', 77], ['mssy0512', 31], ['grassland1980', 52], ['grassland1980', 44], ['grassland1980', 41], ['grassland1980', 30], ['grassland1980', 43], ['grassland1980', 48], ['grassland1980', 32], ['meisterflorist_academy', 169], ['grassland1980', 53], ['grassland1980', 58], ['baeke_hina', 20], ['grassland1980', 72], ['grassland1980', 45], ['youngjoon2908', 184], ['ohby.ne', 15], ['grassland1980', 50], ['grassland1980', 33], ['ma___ng2', 19], ['grassland1980', 25], ['grassland1980', 47], ['grassland1980', 29], ['grassland1980', 50], ['grassland1980', 40], ['grassland1980', 39], ['grassland1980', 52], ['ryu_daily.autumn21', 18], ['im.jjeen___', 103], ['sianlee86', 25], ['kweon_hyuk', 10], ['grassland1980', 36], ['grassland1980', 27], ['metalhead_the_dog', 11], ['grassland1980', 29], ['shine_sohee', 17], ['ydajae83', 30], ['eunmi__diary', 21], ['wool_s', 17], ['wool_s', 7], ['bly_ldh.88', 8], ['2yeoli', 6], ['hamacompany', 42], ['hamacompany', 11], ['jh.stagram', 24], ['jby1021', 17], ['ho.neylover', 14], ['sini.krpl', 16], ['yein_so', 8], ['song_myungjung', 3], ['song_myungjung', 2], ['emotionalholic', 16], ['emotionalholic', 16], ['joshbaek', 101]]\n"
     ]
    }
   ],
   "source": [
    "list=[]\n",
    "for x in range(len(json_file['id'])):\n",
    "    list.append([json_file['id'][x],like[x]])\n",
    "print(list)"
   ]
  },
  {
   "cell_type": "code",
   "execution_count": 144,
   "id": "8a8ad8d0",
   "metadata": {},
   "outputs": [],
   "source": [
    "column=['id','like']\n",
    "list_df=pd.DataFrame(list,columns=column)"
   ]
  },
  {
   "cell_type": "code",
   "execution_count": 195,
   "id": "92147854",
   "metadata": {
    "scrolled": true
   },
   "outputs": [
    {
     "data": {
      "text/plain": [
       "Counter({127: 1,\n",
       "         86: 1,\n",
       "         38: 3,\n",
       "         28: 2,\n",
       "         20: 6,\n",
       "         161: 1,\n",
       "         116: 8,\n",
       "         129: 6,\n",
       "         72: 4,\n",
       "         9: 8,\n",
       "         22: 3,\n",
       "         31: 5,\n",
       "         37: 2,\n",
       "         15: 6,\n",
       "         24: 6,\n",
       "         14: 7,\n",
       "         47: 4,\n",
       "         10: 6,\n",
       "         6: 3,\n",
       "         7: 4,\n",
       "         48: 2,\n",
       "         16: 4,\n",
       "         8: 5,\n",
       "         17: 12,\n",
       "         19: 7,\n",
       "         368: 1,\n",
       "         74: 2,\n",
       "         2: 3,\n",
       "         25: 6,\n",
       "         525: 1,\n",
       "         21: 4,\n",
       "         42: 2,\n",
       "         1: 2,\n",
       "         18: 3,\n",
       "         62: 2,\n",
       "         36: 3,\n",
       "         55: 3,\n",
       "         246: 1,\n",
       "         50: 5,\n",
       "         12: 5,\n",
       "         5: 2,\n",
       "         13: 9,\n",
       "         35: 2,\n",
       "         162: 4,\n",
       "         173: 2,\n",
       "         26: 3,\n",
       "         80: 2,\n",
       "         52: 5,\n",
       "         4: 2,\n",
       "         82: 3,\n",
       "         23: 3,\n",
       "         30: 4,\n",
       "         34: 3,\n",
       "         143: 3,\n",
       "         100: 2,\n",
       "         88: 2,\n",
       "         145: 1,\n",
       "         122: 1,\n",
       "         27: 2,\n",
       "         138: 3,\n",
       "         61: 1,\n",
       "         119: 3,\n",
       "         90: 1,\n",
       "         125: 1,\n",
       "         93: 4,\n",
       "         115: 2,\n",
       "         11: 6,\n",
       "         148: 3,\n",
       "         140: 2,\n",
       "         99: 2,\n",
       "         95: 4,\n",
       "         158: 3,\n",
       "         75: 1,\n",
       "         91: 1,\n",
       "         66: 2,\n",
       "         131: 4,\n",
       "         146: 5,\n",
       "         70: 1,\n",
       "         84: 3,\n",
       "         139: 4,\n",
       "         83: 2,\n",
       "         77: 3,\n",
       "         102: 2,\n",
       "         54: 3,\n",
       "         151: 1,\n",
       "         105: 3,\n",
       "         96: 2,\n",
       "         97: 2,\n",
       "         123: 3,\n",
       "         87: 1,\n",
       "         85: 3,\n",
       "         184: 4,\n",
       "         89: 1,\n",
       "         110: 1,\n",
       "         76: 1,\n",
       "         259: 1,\n",
       "         117: 3,\n",
       "         639: 1,\n",
       "         153: 1,\n",
       "         156: 1,\n",
       "         142: 1,\n",
       "         132: 1,\n",
       "         101: 3,\n",
       "         370: 1,\n",
       "         221: 1,\n",
       "         106: 2,\n",
       "         137: 2,\n",
       "         124: 2,\n",
       "         154: 1,\n",
       "         144: 4,\n",
       "         107: 2,\n",
       "         29: 3,\n",
       "         121: 2,\n",
       "         109: 2,\n",
       "         208: 1,\n",
       "         171: 1,\n",
       "         120: 2,\n",
       "         112: 2,\n",
       "         98: 2,\n",
       "         147: 3,\n",
       "         111: 1,\n",
       "         118: 2,\n",
       "         81: 1,\n",
       "         134: 3,\n",
       "         205: 1,\n",
       "         166: 1,\n",
       "         32: 2,\n",
       "         78: 1,\n",
       "         175: 1,\n",
       "         126: 2,\n",
       "         290: 1,\n",
       "         155: 3,\n",
       "         152: 1,\n",
       "         295: 1,\n",
       "         178: 3,\n",
       "         179: 2,\n",
       "         46: 2,\n",
       "         209: 1,\n",
       "         237: 1,\n",
       "         206: 2,\n",
       "         198: 2,\n",
       "         108: 2,\n",
       "         174: 1,\n",
       "         251: 1,\n",
       "         199: 3,\n",
       "         189: 2,\n",
       "         33: 4,\n",
       "         194: 1,\n",
       "         404: 1,\n",
       "         349: 1,\n",
       "         245: 1,\n",
       "         244: 1,\n",
       "         149: 1,\n",
       "         224: 1,\n",
       "         273: 1,\n",
       "         326: 1,\n",
       "         263: 1,\n",
       "         186: 2,\n",
       "         159: 1,\n",
       "         165: 2,\n",
       "         157: 2,\n",
       "         342: 1,\n",
       "         204: 1,\n",
       "         187: 1,\n",
       "         130: 2,\n",
       "         160: 2,\n",
       "         230: 1,\n",
       "         128: 1,\n",
       "         68: 1,\n",
       "         136: 1,\n",
       "         254: 1,\n",
       "         395: 1,\n",
       "         222: 1,\n",
       "         283: 1,\n",
       "         73: 1,\n",
       "         176: 1,\n",
       "         247: 1,\n",
       "         2036: 1,\n",
       "         169: 2,\n",
       "         114: 2,\n",
       "         214: 1,\n",
       "         1929: 1,\n",
       "         2110: 1,\n",
       "         240: 1,\n",
       "         45: 2,\n",
       "         43: 3,\n",
       "         64: 2,\n",
       "         3: 2,\n",
       "         39: 3,\n",
       "         53: 2,\n",
       "         44: 2,\n",
       "         40: 2,\n",
       "         51: 1,\n",
       "         41: 2,\n",
       "         58: 1,\n",
       "         103: 1})"
      ]
     },
     "execution_count": 195,
     "metadata": {},
     "output_type": "execute_result"
    }
   ],
   "source": []
  },
  {
   "cell_type": "code",
   "execution_count": 68,
   "id": "b8b075cd",
   "metadata": {},
   "outputs": [
    {
     "data": {
      "text/html": [
       "<div>\n",
       "<style scoped>\n",
       "    .dataframe tbody tr th:only-of-type {\n",
       "        vertical-align: middle;\n",
       "    }\n",
       "\n",
       "    .dataframe tbody tr th {\n",
       "        vertical-align: top;\n",
       "    }\n",
       "\n",
       "    .dataframe thead th {\n",
       "        text-align: right;\n",
       "    }\n",
       "</style>\n",
       "<table border=\"1\" class=\"dataframe\">\n",
       "  <thead>\n",
       "    <tr style=\"text-align: right;\">\n",
       "      <th></th>\n",
       "      <th>좋아요</th>\n",
       "    </tr>\n",
       "  </thead>\n",
       "  <tbody>\n",
       "    <tr>\n",
       "      <th>count</th>\n",
       "      <td>461.000000</td>\n",
       "    </tr>\n",
       "    <tr>\n",
       "      <th>mean</th>\n",
       "      <td>104.271150</td>\n",
       "    </tr>\n",
       "    <tr>\n",
       "      <th>std</th>\n",
       "      <td>175.719954</td>\n",
       "    </tr>\n",
       "    <tr>\n",
       "      <th>min</th>\n",
       "      <td>1.000000</td>\n",
       "    </tr>\n",
       "    <tr>\n",
       "      <th>25%</th>\n",
       "      <td>24.000000</td>\n",
       "    </tr>\n",
       "    <tr>\n",
       "      <th>50%</th>\n",
       "      <td>81.000000</td>\n",
       "    </tr>\n",
       "    <tr>\n",
       "      <th>75%</th>\n",
       "      <td>139.000000</td>\n",
       "    </tr>\n",
       "    <tr>\n",
       "      <th>max</th>\n",
       "      <td>2110.000000</td>\n",
       "    </tr>\n",
       "  </tbody>\n",
       "</table>\n",
       "</div>"
      ],
      "text/plain": [
       "               좋아요\n",
       "count   461.000000\n",
       "mean    104.271150\n",
       "std     175.719954\n",
       "min       1.000000\n",
       "25%      24.000000\n",
       "50%      81.000000\n",
       "75%     139.000000\n",
       "max    2110.000000"
      ]
     },
     "execution_count": 68,
     "metadata": {},
     "output_type": "execute_result"
    }
   ],
   "source": [
    "list_df.describe()"
   ]
  },
  {
   "cell_type": "code",
   "execution_count": 188,
   "id": "c073cf4d",
   "metadata": {},
   "outputs": [
    {
     "name": "stdout",
     "output_type": "stream",
     "text": [
      "               like\n",
      "id                 \n",
      "122_l22          34\n",
      "203.page         42\n",
      "2yeoli            6\n",
      "88_12_25         52\n",
      "_musicalholic    50\n",
      "...             ...\n",
      "yinssam_life      5\n",
      "youngjoon2908   184\n",
      "yunju._.luda    127\n",
      "yuri7962         35\n",
      "zoo2hi           72\n",
      "\n",
      "[159 rows x 1 columns]\n"
     ]
    }
   ],
   "source": [
    "print(list_df.groupby(list_df['id']).sum())"
   ]
  },
  {
   "cell_type": "code",
   "execution_count": 190,
   "id": "d200414d",
   "metadata": {},
   "outputs": [
    {
     "data": {
      "text/html": [
       "<div>\n",
       "<style scoped>\n",
       "    .dataframe tbody tr th:only-of-type {\n",
       "        vertical-align: middle;\n",
       "    }\n",
       "\n",
       "    .dataframe tbody tr th {\n",
       "        vertical-align: top;\n",
       "    }\n",
       "\n",
       "    .dataframe thead th {\n",
       "        text-align: right;\n",
       "    }\n",
       "</style>\n",
       "<table border=\"1\" class=\"dataframe\">\n",
       "  <thead>\n",
       "    <tr style=\"text-align: right;\">\n",
       "      <th></th>\n",
       "      <th>like</th>\n",
       "    </tr>\n",
       "    <tr>\n",
       "      <th>id</th>\n",
       "      <th></th>\n",
       "    </tr>\n",
       "  </thead>\n",
       "  <tbody>\n",
       "    <tr>\n",
       "      <th>grassland1980</th>\n",
       "      <td>30042</td>\n",
       "    </tr>\n",
       "    <tr>\n",
       "      <th>menyasandaime_hyehwa</th>\n",
       "      <td>6075</td>\n",
       "    </tr>\n",
       "    <tr>\n",
       "      <th>caffe_slowstep</th>\n",
       "      <td>3385</td>\n",
       "    </tr>\n",
       "    <tr>\n",
       "      <th>mystikotita</th>\n",
       "      <td>639</td>\n",
       "    </tr>\n",
       "    <tr>\n",
       "      <th>joojamanru</th>\n",
       "      <td>525</td>\n",
       "    </tr>\n",
       "    <tr>\n",
       "      <th>...</th>\n",
       "      <td>...</td>\n",
       "    </tr>\n",
       "    <tr>\n",
       "      <th>dalwoori</th>\n",
       "      <td>4</td>\n",
       "    </tr>\n",
       "    <tr>\n",
       "      <th>elkkgj415</th>\n",
       "      <td>4</td>\n",
       "    </tr>\n",
       "    <tr>\n",
       "      <th>seon_sunny_estelle</th>\n",
       "      <td>3</td>\n",
       "    </tr>\n",
       "    <tr>\n",
       "      <th>kone1304</th>\n",
       "      <td>2</td>\n",
       "    </tr>\n",
       "    <tr>\n",
       "      <th>cityeobbu</th>\n",
       "      <td>1</td>\n",
       "    </tr>\n",
       "  </tbody>\n",
       "</table>\n",
       "<p>159 rows × 1 columns</p>\n",
       "</div>"
      ],
      "text/plain": [
       "                       like\n",
       "id                         \n",
       "grassland1980         30042\n",
       "menyasandaime_hyehwa   6075\n",
       "caffe_slowstep         3385\n",
       "mystikotita             639\n",
       "joojamanru              525\n",
       "...                     ...\n",
       "dalwoori                  4\n",
       "elkkgj415                 4\n",
       "seon_sunny_estelle        3\n",
       "kone1304                  2\n",
       "cityeobbu                 1\n",
       "\n",
       "[159 rows x 1 columns]"
      ]
     },
     "execution_count": 190,
     "metadata": {},
     "output_type": "execute_result"
    }
   ],
   "source": [
    "list_df.groupby(list_df['id']).sum().sort_values(by='like',ascending=False)"
   ]
  },
  {
   "cell_type": "code",
   "execution_count": 185,
   "id": "e50e1f1b",
   "metadata": {},
   "outputs": [],
   "source": [
    "grouped2=list_df.groupby(list_df['id'])['like'].sum().sort_values(ascending=False)"
   ]
  },
  {
   "cell_type": "code",
   "execution_count": 206,
   "id": "23e054bf",
   "metadata": {},
   "outputs": [
    {
     "name": "stdout",
     "output_type": "stream",
     "text": [
      "id\n",
      "grassland1980             30042\n",
      "menyasandaime_hyehwa       6075\n",
      "caffe_slowstep             3385\n",
      "mystikotita                 639\n",
      "joojamanru                  525\n",
      "meisterflorist_academy      442\n",
      "lym1004567                  368\n",
      "dnlwkgus                    271\n",
      "hisshe                      221\n",
      "kim_valentino21             215\n",
      "youngjoon2908               184\n",
      "thx_er                      173\n",
      "sihyoojjang                 162\n",
      "eun.ko99                    161\n",
      "leegune                     147\n",
      "daehanbeer00                143\n",
      "totorobus_                  134\n",
      "songi_k                     129\n",
      "wwwvitaminnet               129\n",
      "piddam33                    127\n",
      "yunju._.luda                127\n",
      "changsukjin                 117\n",
      "the_side_table              116\n",
      "hyeins                      116\n",
      "im.jjeen___                 103\n",
      "joshbaek                    101\n",
      "only__j_na                   98\n",
      "j_hees3                      86\n",
      "jesus_clive                  85\n",
      "limseongheekorea             82\n",
      "slowstep_hongdae             80\n",
      "clara_nyangee                79\n",
      "eunyeong7979                 74\n",
      "eeeeedin_                    74\n",
      "zoo2hi                       72\n",
      "illust_sungho                72\n",
      "kmjin226                     64\n",
      "hi_jykm_                     62\n",
      "kd9040                       62\n",
      "thealchan01                  55\n",
      "goodhope70                   55\n",
      "hamacompany                  53\n",
      "ha_jing.jing                 52\n",
      "88_12_25                     52\n",
      "together1001999              51\n",
      "comma_atelier                50\n",
      "_musicalholic                50\n",
      "shalom_df                    50\n",
      "goodhope70_books             48\n",
      "dadam_da                     47\n",
      "Name: like, dtype: int64\n"
     ]
    }
   ],
   "source": [
    "print(grouped2[:50])"
   ]
  },
  {
   "cell_type": "code",
   "execution_count": 229,
   "id": "dc5b985f",
   "metadata": {},
   "outputs": [
    {
     "data": {
      "image/png": "[encoded data removed]",
      "text/plain": [
       "<Figure size 432x288 with 1 Axes>"
      ]
     },
     "metadata": {
      "needs_background": "light"
     },
     "output_type": "display_data"
    }
   ],
   "source": [
    "grouped2[:10].plot(kind='barh',fontsize='15')\n",
    "plt.xlim(500,6000)\n",
    "plt.ylabel('id')\n",
    "plt.xlabel('like')\n",
    "\n",
    "plt.show()"
   ]
  },
  {
   "cell_type": "code",
   "execution_count": 127,
   "id": "a1246e13",
   "metadata": {},
   "outputs": [
    {
     "data": {
      "text/plain": [
       "{'122_l22': [115], '203.page': [31, 47], '2yeoli': [448], '88_12_25': [69], '_musicalholic': [53], 'aeri12222': [14], 'areutemireuseu': [393], 'baeke_hina': [419], 'bk.luv.0918': [382, 390, 391, 402], 'bly_ldh.88': [447], 'brave.kary': [3], 'cafetravelsisters': [232], 'caffe_slowstep': [109, 159, 176, 230, 237, 239, 252, 253, 267, 272, 279, 280, 284, 287, 312, 313, 314, 322, 330, 331, 353], 'calli.hwa_i': [235], 'changsukjin': [264], 'cityeobbu': [46], 'clara_nyangee': [368, 369], 'comma_atelier': [171], 'dadam_da': [19], 'daehanbeer00': [89], 'dalwoori': [70], 'dmswjd2196224': [52], 'dnlwkgus': [36, 51], 'do_it_acappella': [323], 'donghunss': [363], 'ds_gggbbb': [329], 'dsj__7027': [15], 'eeeeedin_': [110], 'elkkgj415': [92], 'emotionalholic': [458, 459], 'eun.ko99': [5], 'eunmi__diary': [444], 'eunyeong7979': [32], 'faghfkfk': [380], 'g.won_55': [234], 'ggomenni_0': [375], 'ggxn_chelin': [45], 'gnar_s2': [43], 'goodhope70': [153], 'goodhope70_books': [25], 'grassland1980': [65, 90, 93, 95, 96, 98, 99, 100, 101, 102, 103, 104, 105, 106, 107, 113, 114, 116, 119, 120, 121, 122, 123, 124, 125, 126, 127, 128, 129, 130, 131, 132, 133, 134, 135, 136, 137, 138, 139, 140, 141, 142, 143, 144, 145, 146, 147, 148, 149, 150, 151, 152, 155, 156, 157, 160, 162, 163, 164, 165, 166, 167, 168, 169, 170, 173, 174, 175, 177, 178, 179, 180, 182, 183, 184, 185, 186, 187, 189, 190, 191, 192, 193, 194, 195, 196, 197, 199, 201, 202, 203, 204, 205, 206, 207, 208, 209, 210, 211, 212, ...], 'h__ghwa9309': [27], 'ha_jing.jing': [337], 'hamacompany': [449, 450], 'han.harley': [255], 'hi_jykm_': [318, 365, 370], 'hicomfunny1015': [67], 'hisshe': [172], 'hivervent': [108, 158], 'ho.neylover': [453], 'huiya12100': [214], 'hyehwa_leejoo': [16, 18, 21, 22], 'hyehwa_pharmacy': [35], 'hyeins': [357], 'hyuni47': [2], 'illust_sungho': [8], 'im.jjeen___': [435], 'imkyeong7751': [42], 'inwoo_1108': [13], 'isabella_mijin': [385], 'j_hees3': [1], 'jabari.jh': [392], 'jakjung_2012': [37], 'james.bang.754': [85], 'jby1021': [452], 'jeonheebog': [9], 'jesus_clive': [364], 'jh.stagram': [451], 'jhnm_in_star': [68], 'jhp_15': [56], 'jiguin_donggyu': [10], 'jinogram': [181], 'jinyoung0918': [4], 'joojamanru': [38], 'joshbaek': [460], 'jungminroh77': [291], 'jungnam_woo': [24], 'jungtnmh07': [260], 'junykuku': [233, 288, 289, 293], 'kainos2011': [55], 'katja_gruenewald95': [20], 'kd9040': [48], 'kim4u23': [39], 'kim_valentino21': [57, 74, 75, 78, 79, 81, 112, 117, 188, 198, 200, 216, 219], 'kmjin226': [371], 'kone1304': [33], 'koojihee': [87], 'kweon_hyuk': [437], 'kyung_s90': [49], 'lee_yu_kyung_': [154], 'leegune': [389], 'leejin_suk': [61], 'leeyoonmi7': [83], 'limseongheekorea': [72], 'lym1004567': [30], 'ma___ng2': [426], 'meisterflorist_academy': [274, 416], 'menyasandaime_hyehwa': [339, 345, 348], 'metalhead_the_dog': [440], 'metro_masjib': [40], ...}"
      ]
     },
     "execution_count": 127,
     "metadata": {},
     "output_type": "execute_result"
    }
   ],
   "source": [
    "grouped.groups"
   ]
  },
  {
   "cell_type": "code",
   "execution_count": 149,
   "id": "28e9d2be",
   "metadata": {},
   "outputs": [
    {
     "ename": "TypeError",
     "evalue": "'numpy.int64' object is not callable",
     "output_type": "error",
     "traceback": [
      "\u001b[1;31m---------------------------------------------------------------------------\u001b[0m",
      "\u001b[1;31mTypeError\u001b[0m                                 Traceback (most recent call last)",
      "\u001b[1;32m~\\anaconda3\\lib\\site-packages\\pandas\\core\\groupby\\groupby.py\u001b[0m in \u001b[0;36mapply\u001b[1;34m(self, func, *args, **kwargs)\u001b[0m\n\u001b[0;32m    893\u001b[0m             \u001b[1;32mtry\u001b[0m\u001b[1;33m:\u001b[0m\u001b[1;33m\u001b[0m\u001b[1;33m\u001b[0m\u001b[0m\n\u001b[1;32m--> 894\u001b[1;33m                 \u001b[0mresult\u001b[0m \u001b[1;33m=\u001b[0m \u001b[0mself\u001b[0m\u001b[1;33m.\u001b[0m\u001b[0m_python_apply_general\u001b[0m\u001b[1;33m(\u001b[0m\u001b[0mf\u001b[0m\u001b[1;33m,\u001b[0m \u001b[0mself\u001b[0m\u001b[1;33m.\u001b[0m\u001b[0m_selected_obj\u001b[0m\u001b[1;33m)\u001b[0m\u001b[1;33m\u001b[0m\u001b[1;33m\u001b[0m\u001b[0m\n\u001b[0m\u001b[0;32m    895\u001b[0m             \u001b[1;32mexcept\u001b[0m \u001b[0mTypeError\u001b[0m\u001b[1;33m:\u001b[0m\u001b[1;33m\u001b[0m\u001b[1;33m\u001b[0m\u001b[0m\n",
      "\u001b[1;32m~\\anaconda3\\lib\\site-packages\\pandas\\core\\groupby\\groupby.py\u001b[0m in \u001b[0;36m_python_apply_general\u001b[1;34m(self, f, data)\u001b[0m\n\u001b[0;32m    927\u001b[0m         \"\"\"\n\u001b[1;32m--> 928\u001b[1;33m         \u001b[0mkeys\u001b[0m\u001b[1;33m,\u001b[0m \u001b[0mvalues\u001b[0m\u001b[1;33m,\u001b[0m \u001b[0mmutated\u001b[0m \u001b[1;33m=\u001b[0m \u001b[0mself\u001b[0m\u001b[1;33m.\u001b[0m\u001b[0mgrouper\u001b[0m\u001b[1;33m.\u001b[0m\u001b[0mapply\u001b[0m\u001b[1;33m(\u001b[0m\u001b[0mf\u001b[0m\u001b[1;33m,\u001b[0m \u001b[0mdata\u001b[0m\u001b[1;33m,\u001b[0m \u001b[0mself\u001b[0m\u001b[1;33m.\u001b[0m\u001b[0maxis\u001b[0m\u001b[1;33m)\u001b[0m\u001b[1;33m\u001b[0m\u001b[1;33m\u001b[0m\u001b[0m\n\u001b[0m\u001b[0;32m    929\u001b[0m \u001b[1;33m\u001b[0m\u001b[0m\n",
      "\u001b[1;32m~\\anaconda3\\lib\\site-packages\\pandas\\core\\groupby\\ops.py\u001b[0m in \u001b[0;36mapply\u001b[1;34m(self, f, data, axis)\u001b[0m\n\u001b[0;32m    237\u001b[0m             \u001b[0mgroup_axes\u001b[0m \u001b[1;33m=\u001b[0m \u001b[0mgroup\u001b[0m\u001b[1;33m.\u001b[0m\u001b[0maxes\u001b[0m\u001b[1;33m\u001b[0m\u001b[1;33m\u001b[0m\u001b[0m\n\u001b[1;32m--> 238\u001b[1;33m             \u001b[0mres\u001b[0m \u001b[1;33m=\u001b[0m \u001b[0mf\u001b[0m\u001b[1;33m(\u001b[0m\u001b[0mgroup\u001b[0m\u001b[1;33m)\u001b[0m\u001b[1;33m\u001b[0m\u001b[1;33m\u001b[0m\u001b[0m\n\u001b[0m\u001b[0;32m    239\u001b[0m             \u001b[1;32mif\u001b[0m \u001b[1;32mnot\u001b[0m \u001b[0m_is_indexed_like\u001b[0m\u001b[1;33m(\u001b[0m\u001b[0mres\u001b[0m\u001b[1;33m,\u001b[0m \u001b[0mgroup_axes\u001b[0m\u001b[1;33m,\u001b[0m \u001b[0maxis\u001b[0m\u001b[1;33m)\u001b[0m\u001b[1;33m:\u001b[0m\u001b[1;33m\u001b[0m\u001b[1;33m\u001b[0m\u001b[0m\n",
      "\u001b[1;31mTypeError\u001b[0m: 'numpy.int64' object is not callable",
      "\nDuring handling of the above exception, another exception occurred:\n",
      "\u001b[1;31mTypeError\u001b[0m                                 Traceback (most recent call last)",
      "\u001b[1;32m<ipython-input-149-7e27769f8ada>\u001b[0m in \u001b[0;36m<module>\u001b[1;34m\u001b[0m\n\u001b[1;32m----> 1\u001b[1;33m \u001b[0mlist_df\u001b[0m\u001b[1;33m.\u001b[0m\u001b[0mgroupby\u001b[0m\u001b[1;33m(\u001b[0m\u001b[1;33m[\u001b[0m\u001b[1;34m'id'\u001b[0m\u001b[1;33m]\u001b[0m\u001b[1;33m,\u001b[0m \u001b[0mas_index\u001b[0m\u001b[1;33m=\u001b[0m\u001b[1;32mFalse\u001b[0m\u001b[1;33m)\u001b[0m\u001b[1;33m.\u001b[0m\u001b[0mapply\u001b[0m\u001b[1;33m(\u001b[0m\u001b[0mlist_df\u001b[0m\u001b[1;33m.\u001b[0m\u001b[0mlike\u001b[0m\u001b[1;33m.\u001b[0m\u001b[0msum\u001b[0m\u001b[1;33m(\u001b[0m\u001b[1;33m)\u001b[0m\u001b[1;33m)\u001b[0m\u001b[1;33m\u001b[0m\u001b[1;33m\u001b[0m\u001b[0m\n\u001b[0m",
      "\u001b[1;32m~\\anaconda3\\lib\\site-packages\\pandas\\core\\groupby\\groupby.py\u001b[0m in \u001b[0;36mapply\u001b[1;34m(self, func, *args, **kwargs)\u001b[0m\n\u001b[0;32m    903\u001b[0m \u001b[1;33m\u001b[0m\u001b[0m\n\u001b[0;32m    904\u001b[0m                 \u001b[1;32mwith\u001b[0m \u001b[0mgroup_selection_context\u001b[0m\u001b[1;33m(\u001b[0m\u001b[0mself\u001b[0m\u001b[1;33m)\u001b[0m\u001b[1;33m:\u001b[0m\u001b[1;33m\u001b[0m\u001b[1;33m\u001b[0m\u001b[0m\n\u001b[1;32m--> 905\u001b[1;33m                     \u001b[1;32mreturn\u001b[0m \u001b[0mself\u001b[0m\u001b[1;33m.\u001b[0m\u001b[0m_python_apply_general\u001b[0m\u001b[1;33m(\u001b[0m\u001b[0mf\u001b[0m\u001b[1;33m,\u001b[0m \u001b[0mself\u001b[0m\u001b[1;33m.\u001b[0m\u001b[0m_selected_obj\u001b[0m\u001b[1;33m)\u001b[0m\u001b[1;33m\u001b[0m\u001b[1;33m\u001b[0m\u001b[0m\n\u001b[0m\u001b[0;32m    906\u001b[0m \u001b[1;33m\u001b[0m\u001b[0m\n\u001b[0;32m    907\u001b[0m         \u001b[1;32mreturn\u001b[0m \u001b[0mresult\u001b[0m\u001b[1;33m\u001b[0m\u001b[1;33m\u001b[0m\u001b[0m\n",
      "\u001b[1;32m~\\anaconda3\\lib\\site-packages\\pandas\\core\\groupby\\groupby.py\u001b[0m in \u001b[0;36m_python_apply_general\u001b[1;34m(self, f, data)\u001b[0m\n\u001b[0;32m    926\u001b[0m             \u001b[0mdata\u001b[0m \u001b[0mafter\u001b[0m \u001b[0mapplying\u001b[0m \u001b[0mf\u001b[0m\u001b[1;33m\u001b[0m\u001b[1;33m\u001b[0m\u001b[0m\n\u001b[0;32m    927\u001b[0m         \"\"\"\n\u001b[1;32m--> 928\u001b[1;33m         \u001b[0mkeys\u001b[0m\u001b[1;33m,\u001b[0m \u001b[0mvalues\u001b[0m\u001b[1;33m,\u001b[0m \u001b[0mmutated\u001b[0m \u001b[1;33m=\u001b[0m \u001b[0mself\u001b[0m\u001b[1;33m.\u001b[0m\u001b[0mgrouper\u001b[0m\u001b[1;33m.\u001b[0m\u001b[0mapply\u001b[0m\u001b[1;33m(\u001b[0m\u001b[0mf\u001b[0m\u001b[1;33m,\u001b[0m \u001b[0mdata\u001b[0m\u001b[1;33m,\u001b[0m \u001b[0mself\u001b[0m\u001b[1;33m.\u001b[0m\u001b[0maxis\u001b[0m\u001b[1;33m)\u001b[0m\u001b[1;33m\u001b[0m\u001b[1;33m\u001b[0m\u001b[0m\n\u001b[0m\u001b[0;32m    929\u001b[0m \u001b[1;33m\u001b[0m\u001b[0m\n\u001b[0;32m    930\u001b[0m         return self._wrap_applied_output(\n",
      "\u001b[1;32m~\\anaconda3\\lib\\site-packages\\pandas\\core\\groupby\\ops.py\u001b[0m in \u001b[0;36mapply\u001b[1;34m(self, f, data, axis)\u001b[0m\n\u001b[0;32m    236\u001b[0m             \u001b[1;31m# group might be modified\u001b[0m\u001b[1;33m\u001b[0m\u001b[1;33m\u001b[0m\u001b[1;33m\u001b[0m\u001b[0m\n\u001b[0;32m    237\u001b[0m             \u001b[0mgroup_axes\u001b[0m \u001b[1;33m=\u001b[0m \u001b[0mgroup\u001b[0m\u001b[1;33m.\u001b[0m\u001b[0maxes\u001b[0m\u001b[1;33m\u001b[0m\u001b[1;33m\u001b[0m\u001b[0m\n\u001b[1;32m--> 238\u001b[1;33m             \u001b[0mres\u001b[0m \u001b[1;33m=\u001b[0m \u001b[0mf\u001b[0m\u001b[1;33m(\u001b[0m\u001b[0mgroup\u001b[0m\u001b[1;33m)\u001b[0m\u001b[1;33m\u001b[0m\u001b[1;33m\u001b[0m\u001b[0m\n\u001b[0m\u001b[0;32m    239\u001b[0m             \u001b[1;32mif\u001b[0m \u001b[1;32mnot\u001b[0m \u001b[0m_is_indexed_like\u001b[0m\u001b[1;33m(\u001b[0m\u001b[0mres\u001b[0m\u001b[1;33m,\u001b[0m \u001b[0mgroup_axes\u001b[0m\u001b[1;33m,\u001b[0m \u001b[0maxis\u001b[0m\u001b[1;33m)\u001b[0m\u001b[1;33m:\u001b[0m\u001b[1;33m\u001b[0m\u001b[1;33m\u001b[0m\u001b[0m\n\u001b[0;32m    240\u001b[0m                 \u001b[0mmutated\u001b[0m \u001b[1;33m=\u001b[0m \u001b[1;32mTrue\u001b[0m\u001b[1;33m\u001b[0m\u001b[1;33m\u001b[0m\u001b[0m\n",
      "\u001b[1;31mTypeError\u001b[0m: 'numpy.int64' object is not callable"
     ]
    }
   ],
   "source": [
    "list_df.groupby(['id'], as_index=False).apply(list_df.like.sum())"
   ]
  },
  {
   "cell_type": "code",
   "execution_count": 91,
   "id": "02b4ffc7",
   "metadata": {},
   "outputs": [],
   "source": [
    "import matplotlib.pyplot as plt"
   ]
  },
  {
   "cell_type": "code",
   "execution_count": 223,
   "id": "1af93df6",
   "metadata": {},
   "outputs": [
    {
     "ename": "ValueError",
     "evalue": "shape mismatch: objects cannot be broadcast to a single shape",
     "output_type": "error",
     "traceback": [
      "\u001b[1;31m---------------------------------------------------------------------------\u001b[0m",
      "\u001b[1;31mValueError\u001b[0m                                Traceback (most recent call last)",
      "\u001b[1;32m<ipython-input-223-5376225e8322>\u001b[0m in \u001b[0;36m<module>\u001b[1;34m\u001b[0m\n\u001b[1;32m----> 1\u001b[1;33m \u001b[0mplt\u001b[0m\u001b[1;33m.\u001b[0m\u001b[0mbar\u001b[0m\u001b[1;33m(\u001b[0m\u001b[0mid_\u001b[0m\u001b[1;33m,\u001b[0m\u001b[0mgrouped2\u001b[0m\u001b[1;33m[\u001b[0m\u001b[1;33m:\u001b[0m\u001b[1;36m40\u001b[0m\u001b[1;33m]\u001b[0m\u001b[1;33m,\u001b[0m\u001b[0mcolor\u001b[0m\u001b[1;33m=\u001b[0m\u001b[1;34m'y'\u001b[0m\u001b[1;33m)\u001b[0m\u001b[1;33m\u001b[0m\u001b[1;33m\u001b[0m\u001b[0m\n\u001b[0m\u001b[0;32m      2\u001b[0m \u001b[0mplt\u001b[0m\u001b[1;33m.\u001b[0m\u001b[0mshow\u001b[0m\u001b[1;33m(\u001b[0m\u001b[1;33m)\u001b[0m\u001b[1;33m\u001b[0m\u001b[1;33m\u001b[0m\u001b[0m\n",
      "\u001b[1;32m~\\anaconda3\\lib\\site-packages\\matplotlib\\pyplot.py\u001b[0m in \u001b[0;36mbar\u001b[1;34m(x, height, width, bottom, align, data, **kwargs)\u001b[0m\n\u001b[0;32m   2485\u001b[0m         \u001b[0mx\u001b[0m\u001b[1;33m,\u001b[0m \u001b[0mheight\u001b[0m\u001b[1;33m,\u001b[0m \u001b[0mwidth\u001b[0m\u001b[1;33m=\u001b[0m\u001b[1;36m0.8\u001b[0m\u001b[1;33m,\u001b[0m \u001b[0mbottom\u001b[0m\u001b[1;33m=\u001b[0m\u001b[1;32mNone\u001b[0m\u001b[1;33m,\u001b[0m \u001b[1;33m*\u001b[0m\u001b[1;33m,\u001b[0m \u001b[0malign\u001b[0m\u001b[1;33m=\u001b[0m\u001b[1;34m'center'\u001b[0m\u001b[1;33m,\u001b[0m\u001b[1;33m\u001b[0m\u001b[1;33m\u001b[0m\u001b[0m\n\u001b[0;32m   2486\u001b[0m         data=None, **kwargs):\n\u001b[1;32m-> 2487\u001b[1;33m     return gca().bar(\n\u001b[0m\u001b[0;32m   2488\u001b[0m         \u001b[0mx\u001b[0m\u001b[1;33m,\u001b[0m \u001b[0mheight\u001b[0m\u001b[1;33m,\u001b[0m \u001b[0mwidth\u001b[0m\u001b[1;33m=\u001b[0m\u001b[0mwidth\u001b[0m\u001b[1;33m,\u001b[0m \u001b[0mbottom\u001b[0m\u001b[1;33m=\u001b[0m\u001b[0mbottom\u001b[0m\u001b[1;33m,\u001b[0m \u001b[0malign\u001b[0m\u001b[1;33m=\u001b[0m\u001b[0malign\u001b[0m\u001b[1;33m,\u001b[0m\u001b[1;33m\u001b[0m\u001b[1;33m\u001b[0m\u001b[0m\n\u001b[0;32m   2489\u001b[0m         **({\"data\": data} if data is not None else {}), **kwargs)\n",
      "\u001b[1;32m~\\anaconda3\\lib\\site-packages\\matplotlib\\__init__.py\u001b[0m in \u001b[0;36minner\u001b[1;34m(ax, data, *args, **kwargs)\u001b[0m\n\u001b[0;32m   1445\u001b[0m     \u001b[1;32mdef\u001b[0m \u001b[0minner\u001b[0m\u001b[1;33m(\u001b[0m\u001b[0max\u001b[0m\u001b[1;33m,\u001b[0m \u001b[1;33m*\u001b[0m\u001b[0margs\u001b[0m\u001b[1;33m,\u001b[0m \u001b[0mdata\u001b[0m\u001b[1;33m=\u001b[0m\u001b[1;32mNone\u001b[0m\u001b[1;33m,\u001b[0m \u001b[1;33m**\u001b[0m\u001b[0mkwargs\u001b[0m\u001b[1;33m)\u001b[0m\u001b[1;33m:\u001b[0m\u001b[1;33m\u001b[0m\u001b[1;33m\u001b[0m\u001b[0m\n\u001b[0;32m   1446\u001b[0m         \u001b[1;32mif\u001b[0m \u001b[0mdata\u001b[0m \u001b[1;32mis\u001b[0m \u001b[1;32mNone\u001b[0m\u001b[1;33m:\u001b[0m\u001b[1;33m\u001b[0m\u001b[1;33m\u001b[0m\u001b[0m\n\u001b[1;32m-> 1447\u001b[1;33m             \u001b[1;32mreturn\u001b[0m \u001b[0mfunc\u001b[0m\u001b[1;33m(\u001b[0m\u001b[0max\u001b[0m\u001b[1;33m,\u001b[0m \u001b[1;33m*\u001b[0m\u001b[0mmap\u001b[0m\u001b[1;33m(\u001b[0m\u001b[0msanitize_sequence\u001b[0m\u001b[1;33m,\u001b[0m \u001b[0margs\u001b[0m\u001b[1;33m)\u001b[0m\u001b[1;33m,\u001b[0m \u001b[1;33m**\u001b[0m\u001b[0mkwargs\u001b[0m\u001b[1;33m)\u001b[0m\u001b[1;33m\u001b[0m\u001b[1;33m\u001b[0m\u001b[0m\n\u001b[0m\u001b[0;32m   1448\u001b[0m \u001b[1;33m\u001b[0m\u001b[0m\n\u001b[0;32m   1449\u001b[0m         \u001b[0mbound\u001b[0m \u001b[1;33m=\u001b[0m \u001b[0mnew_sig\u001b[0m\u001b[1;33m.\u001b[0m\u001b[0mbind\u001b[0m\u001b[1;33m(\u001b[0m\u001b[0max\u001b[0m\u001b[1;33m,\u001b[0m \u001b[1;33m*\u001b[0m\u001b[0margs\u001b[0m\u001b[1;33m,\u001b[0m \u001b[1;33m**\u001b[0m\u001b[0mkwargs\u001b[0m\u001b[1;33m)\u001b[0m\u001b[1;33m\u001b[0m\u001b[1;33m\u001b[0m\u001b[0m\n",
      "\u001b[1;32m~\\anaconda3\\lib\\site-packages\\matplotlib\\axes\\_axes.py\u001b[0m in \u001b[0;36mbar\u001b[1;34m(self, x, height, width, bottom, align, **kwargs)\u001b[0m\n\u001b[0;32m   2428\u001b[0m                 \u001b[0myerr\u001b[0m \u001b[1;33m=\u001b[0m \u001b[0mself\u001b[0m\u001b[1;33m.\u001b[0m\u001b[0m_convert_dx\u001b[0m\u001b[1;33m(\u001b[0m\u001b[0myerr\u001b[0m\u001b[1;33m,\u001b[0m \u001b[0my0\u001b[0m\u001b[1;33m,\u001b[0m \u001b[0my\u001b[0m\u001b[1;33m,\u001b[0m \u001b[0mself\u001b[0m\u001b[1;33m.\u001b[0m\u001b[0mconvert_yunits\u001b[0m\u001b[1;33m)\u001b[0m\u001b[1;33m\u001b[0m\u001b[1;33m\u001b[0m\u001b[0m\n\u001b[0;32m   2429\u001b[0m \u001b[1;33m\u001b[0m\u001b[0m\n\u001b[1;32m-> 2430\u001b[1;33m         x, height, width, y, linewidth = np.broadcast_arrays(\n\u001b[0m\u001b[0;32m   2431\u001b[0m             \u001b[1;31m# Make args iterable too.\u001b[0m\u001b[1;33m\u001b[0m\u001b[1;33m\u001b[0m\u001b[1;33m\u001b[0m\u001b[0m\n\u001b[0;32m   2432\u001b[0m             np.atleast_1d(x), height, width, y, linewidth)\n",
      "\u001b[1;32m<__array_function__ internals>\u001b[0m in \u001b[0;36mbroadcast_arrays\u001b[1;34m(*args, **kwargs)\u001b[0m\n",
      "\u001b[1;32m~\\anaconda3\\lib\\site-packages\\numpy\\lib\\stride_tricks.py\u001b[0m in \u001b[0;36mbroadcast_arrays\u001b[1;34m(subok, *args)\u001b[0m\n\u001b[0;32m    256\u001b[0m     \u001b[0margs\u001b[0m \u001b[1;33m=\u001b[0m \u001b[1;33m[\u001b[0m\u001b[0mnp\u001b[0m\u001b[1;33m.\u001b[0m\u001b[0marray\u001b[0m\u001b[1;33m(\u001b[0m\u001b[0m_m\u001b[0m\u001b[1;33m,\u001b[0m \u001b[0mcopy\u001b[0m\u001b[1;33m=\u001b[0m\u001b[1;32mFalse\u001b[0m\u001b[1;33m,\u001b[0m \u001b[0msubok\u001b[0m\u001b[1;33m=\u001b[0m\u001b[0msubok\u001b[0m\u001b[1;33m)\u001b[0m \u001b[1;32mfor\u001b[0m \u001b[0m_m\u001b[0m \u001b[1;32min\u001b[0m \u001b[0margs\u001b[0m\u001b[1;33m]\u001b[0m\u001b[1;33m\u001b[0m\u001b[1;33m\u001b[0m\u001b[0m\n\u001b[0;32m    257\u001b[0m \u001b[1;33m\u001b[0m\u001b[0m\n\u001b[1;32m--> 258\u001b[1;33m     \u001b[0mshape\u001b[0m \u001b[1;33m=\u001b[0m \u001b[0m_broadcast_shape\u001b[0m\u001b[1;33m(\u001b[0m\u001b[1;33m*\u001b[0m\u001b[0margs\u001b[0m\u001b[1;33m)\u001b[0m\u001b[1;33m\u001b[0m\u001b[1;33m\u001b[0m\u001b[0m\n\u001b[0m\u001b[0;32m    259\u001b[0m \u001b[1;33m\u001b[0m\u001b[0m\n\u001b[0;32m    260\u001b[0m     \u001b[1;32mif\u001b[0m \u001b[0mall\u001b[0m\u001b[1;33m(\u001b[0m\u001b[0marray\u001b[0m\u001b[1;33m.\u001b[0m\u001b[0mshape\u001b[0m \u001b[1;33m==\u001b[0m \u001b[0mshape\u001b[0m \u001b[1;32mfor\u001b[0m \u001b[0marray\u001b[0m \u001b[1;32min\u001b[0m \u001b[0margs\u001b[0m\u001b[1;33m)\u001b[0m\u001b[1;33m:\u001b[0m\u001b[1;33m\u001b[0m\u001b[1;33m\u001b[0m\u001b[0m\n",
      "\u001b[1;32m~\\anaconda3\\lib\\site-packages\\numpy\\lib\\stride_tricks.py\u001b[0m in \u001b[0;36m_broadcast_shape\u001b[1;34m(*args)\u001b[0m\n\u001b[0;32m    187\u001b[0m     \u001b[1;31m# use the old-iterator because np.nditer does not handle size 0 arrays\u001b[0m\u001b[1;33m\u001b[0m\u001b[1;33m\u001b[0m\u001b[1;33m\u001b[0m\u001b[0m\n\u001b[0;32m    188\u001b[0m     \u001b[1;31m# consistently\u001b[0m\u001b[1;33m\u001b[0m\u001b[1;33m\u001b[0m\u001b[1;33m\u001b[0m\u001b[0m\n\u001b[1;32m--> 189\u001b[1;33m     \u001b[0mb\u001b[0m \u001b[1;33m=\u001b[0m \u001b[0mnp\u001b[0m\u001b[1;33m.\u001b[0m\u001b[0mbroadcast\u001b[0m\u001b[1;33m(\u001b[0m\u001b[1;33m*\u001b[0m\u001b[0margs\u001b[0m\u001b[1;33m[\u001b[0m\u001b[1;33m:\u001b[0m\u001b[1;36m32\u001b[0m\u001b[1;33m]\u001b[0m\u001b[1;33m)\u001b[0m\u001b[1;33m\u001b[0m\u001b[1;33m\u001b[0m\u001b[0m\n\u001b[0m\u001b[0;32m    190\u001b[0m     \u001b[1;31m# unfortunately, it cannot handle 32 or more arguments directly\u001b[0m\u001b[1;33m\u001b[0m\u001b[1;33m\u001b[0m\u001b[1;33m\u001b[0m\u001b[0m\n\u001b[0;32m    191\u001b[0m     \u001b[1;32mfor\u001b[0m \u001b[0mpos\u001b[0m \u001b[1;32min\u001b[0m \u001b[0mrange\u001b[0m\u001b[1;33m(\u001b[0m\u001b[1;36m32\u001b[0m\u001b[1;33m,\u001b[0m \u001b[0mlen\u001b[0m\u001b[1;33m(\u001b[0m\u001b[0margs\u001b[0m\u001b[1;33m)\u001b[0m\u001b[1;33m,\u001b[0m \u001b[1;36m31\u001b[0m\u001b[1;33m)\u001b[0m\u001b[1;33m:\u001b[0m\u001b[1;33m\u001b[0m\u001b[1;33m\u001b[0m\u001b[0m\n",
      "\u001b[1;31mValueError\u001b[0m: shape mismatch: objects cannot be broadcast to a single shape"
     ]
    },
    {
     "data": {
      "image/png": "[encoded data removed]",
      "text/plain": [
       "<Figure size 432x288 with 1 Axes>"
      ]
     },
     "metadata": {
      "needs_background": "light"
     },
     "output_type": "display_data"
    }
   ],
   "source": [
    "plt.bar(id_,grouped2[:40],color='y')\n",
    "plt.show()"
   ]
  }
 ],
 "metadata": {
  "kernelspec": {
   "display_name": "Python 3",
   "language": "python",
   "name": "python3"
  },
  "language_info": {
   "codemirror_mode": {
    "name": "ipython",
    "version": 3
   },
   "file_extension": ".py",
   "mimetype": "text/x-python",
   "name": "python",
   "nbconvert_exporter": "python",
   "pygments_lexer": "ipython3",
   "version": "3.8.8"
  }
 },
 "nbformat": 4,
 "nbformat_minor": 5
}
