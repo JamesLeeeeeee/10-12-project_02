{
 "cells": [
  {
   "cell_type": "code",
   "execution_count": 23,
   "id": "0fd76afc",
   "metadata": {},
   "outputs": [],
   "source": [
    "import json\n",
    "from tqdm import tqdm\n",
    "from collections import Counter\n",
    "import matplotlib\n",
    "from matplotlib import font_manager, rc\n",
    "import matplotlib.pyplot as plt"
   ]
  },
  {
   "cell_type": "code",
   "execution_count": 7,
   "id": "f4f079a4",
   "metadata": {},
   "outputs": [],
   "source": [
    "gate1 = json.load(open('2.JSON자료\\혜화역1번출구_.json', 'rb'))\n",
    "gate2 = json.load(open('2.JSON자료\\혜화역2번출구_.json', 'rb'))\n",
    "gate3 = json.load(open('2.JSON자료\\혜화역3번출구_.json', 'rb'))\n",
    "gate4 = json.load(open('2.JSON자료\\혜화역4번출구_.json', 'rb'))"
   ]
  },
  {
   "cell_type": "code",
   "execution_count": 8,
   "id": "6fa8efb0",
   "metadata": {},
   "outputs": [],
   "source": [
    "dates1 = gate1['date']\n",
    "dates2 = gate2['date']\n",
    "dates3 = gate3['date']\n",
    "dates4 = gate4['date']"
   ]
  },
  {
   "cell_type": "code",
   "execution_count": 13,
   "id": "99a54c8e",
   "metadata": {},
   "outputs": [
    {
     "name": "stderr",
     "output_type": "stream",
     "text": [
      "100%|█████████████████████████████████████████████████████████████████████████| 2435/2435 [00:00<00:00, 2421894.77it/s]"
     ]
    },
    {
     "name": "stdout",
     "output_type": "stream",
     "text": [
      "Counter({'08': 205, '09': 170, '10': 170, '05': 164, '13': 157, '04': 150, '14': 149, '06': 144, '11': 142, '03': 142, '07': 127, '12': 124, '15': 123, '02': 96, '01': 92, '00': 62, '16': 61, '23': 37, '21': 35, '17': 27, '18': 25, '22': 22, '19': 7, '20': 4})\n"
     ]
    },
    {
     "name": "stderr",
     "output_type": "stream",
     "text": [
      "\n"
     ]
    },
    {
     "data": {
      "text/plain": [
       "2435"
      ]
     },
     "execution_count": 13,
     "metadata": {},
     "output_type": "execute_result"
    }
   ],
   "source": [
    "hour_l1 = []\n",
    "for i in tqdm(range(len(dates1))):\n",
    "    hour_l1.append(dates1[i][-8:-6])\n",
    "    \n",
    "count_hours1 = Counter(hour_l1)\n",
    "print(count_hours1)\n",
    "sum(list(count_hours1.values()))"
   ]
  },
  {
   "cell_type": "code",
   "execution_count": 18,
   "id": "c5f8170f",
   "metadata": {},
   "outputs": [
    {
     "name": "stdout",
     "output_type": "stream",
     "text": [
      "{'0-2': 154, '2-4': 238, '4-6': 314, '6-8': 271, '8-10': 375, '10-12': 312, '12-14': 281, '14-16': 272, '16-18': 88, '18-20': 32, '20-22': 39, '22-24': 59}\n"
     ]
    },
    {
     "data": {
      "text/plain": [
       "2435"
      ]
     },
     "execution_count": 18,
     "metadata": {},
     "output_type": "execute_result"
    }
   ],
   "source": [
    "# 2시간 주기\n",
    "hours1 = count_hours1.keys()\n",
    "count_2hour1 = {}\n",
    "for i in range(0, 23, 2):\n",
    "    total1 = []\n",
    "    for j in range(i, i+2):\n",
    "        if j < 10:\n",
    "            hour1 = count_hours1[\"0{}\" .format(j)]\n",
    "            total1.append(hour1)\n",
    "        else:\n",
    "            hour1 = count_hours1[\"{}\" .format(j)]\n",
    "            total1.append(hour1)\n",
    "\n",
    "    count_2hour1[\"{}-{}\" .format(i, i+2)] = sum(total1)\n",
    "                                \n",
    "print(count_2hour1)\n",
    "sum(list(count_2hour1.values()))"
   ]
  },
  {
   "cell_type": "code",
   "execution_count": 14,
   "id": "92b461a2",
   "metadata": {},
   "outputs": [
    {
     "name": "stderr",
     "output_type": "stream",
     "text": [
      "100%|██████████████████████████████████████████████████████████████████████████| 1988/1988 [00:00<00:00, 996209.84it/s]"
     ]
    },
    {
     "name": "stdout",
     "output_type": "stream",
     "text": [
      "Counter({'13': 175, '10': 162, '11': 144, '09': 142, '12': 140, '14': 134, '08': 132, '04': 103, '03': 100, '15': 96, '05': 95, '07': 91, '06': 85, '00': 66, '16': 61, '01': 55, '02': 52, '23': 40, '17': 39, '18': 20, '19': 18, '22': 16, '21': 13, '20': 9})\n"
     ]
    },
    {
     "name": "stderr",
     "output_type": "stream",
     "text": [
      "\n"
     ]
    },
    {
     "data": {
      "text/plain": [
       "1988"
      ]
     },
     "execution_count": 14,
     "metadata": {},
     "output_type": "execute_result"
    }
   ],
   "source": [
    "hour_l2 = []\n",
    "for i in tqdm(range(len(dates2))):\n",
    "    hour_l2.append(dates2[i][-8:-6])\n",
    "    \n",
    "count_hours2 = Counter(hour_l2)\n",
    "print(count_hours2)\n",
    "sum(list(count_hours2.values()))"
   ]
  },
  {
   "cell_type": "code",
   "execution_count": 19,
   "id": "2dea854e",
   "metadata": {},
   "outputs": [
    {
     "name": "stdout",
     "output_type": "stream",
     "text": [
      "{'0-2': 121, '2-4': 152, '4-6': 198, '6-8': 176, '8-10': 274, '10-12': 306, '12-14': 315, '14-16': 230, '16-18': 100, '18-20': 38, '20-22': 22, '22-24': 56}\n"
     ]
    },
    {
     "data": {
      "text/plain": [
       "1988"
      ]
     },
     "execution_count": 19,
     "metadata": {},
     "output_type": "execute_result"
    }
   ],
   "source": [
    "# 2시간 주기\n",
    "hours2 = count_hours2.keys()\n",
    "count_2hour2 = {}\n",
    "for i in range(0, 23, 2):\n",
    "    total2 = []\n",
    "    for j in range(i, i+2):\n",
    "        if j < 10:\n",
    "            hour2 = count_hours2[\"0{}\" .format(j)]\n",
    "            total2.append(hour2)\n",
    "        else:\n",
    "            hour2 = count_hours2[\"{}\" .format(j)]\n",
    "            total2.append(hour2)\n",
    "\n",
    "    count_2hour2[\"{}-{}\" .format(i, i+2)] = sum(total2)\n",
    "                                \n",
    "print(count_2hour2)\n",
    "sum(list(count_2hour2.values()))"
   ]
  },
  {
   "cell_type": "code",
   "execution_count": 15,
   "id": "35151bdc",
   "metadata": {},
   "outputs": [
    {
     "name": "stderr",
     "output_type": "stream",
     "text": [
      "100%|████████████████████████████████████████████████████████████████████████████████████████| 461/461 [00:00<?, ?it/s]"
     ]
    },
    {
     "name": "stdout",
     "output_type": "stream",
     "text": [
      "Counter({'08': 36, '13': 36, '14': 35, '10': 35, '11': 32, '16': 30, '09': 28, '06': 24, '12': 22, '07': 22, '04': 21, '03': 19, '15': 19, '05': 18, '17': 18, '01': 12, '18': 12, '19': 11, '02': 9, '20': 9, '23': 4, '22': 4, '00': 3, '21': 2})\n"
     ]
    },
    {
     "name": "stderr",
     "output_type": "stream",
     "text": [
      "\n"
     ]
    },
    {
     "data": {
      "text/plain": [
       "461"
      ]
     },
     "execution_count": 15,
     "metadata": {},
     "output_type": "execute_result"
    }
   ],
   "source": [
    "hour_l3 = []\n",
    "for i in tqdm(range(len(dates3))):\n",
    "    hour_l3.append(dates3[i][-8:-6])\n",
    "    \n",
    "count_hours3 = Counter(hour_l3)\n",
    "print(count_hours3)\n",
    "sum(list(count_hours3.values()))"
   ]
  },
  {
   "cell_type": "code",
   "execution_count": 20,
   "id": "c0923296",
   "metadata": {},
   "outputs": [
    {
     "name": "stdout",
     "output_type": "stream",
     "text": [
      "{'0-2': 15, '2-4': 28, '4-6': 39, '6-8': 46, '8-10': 64, '10-12': 67, '12-14': 58, '14-16': 54, '16-18': 48, '18-20': 23, '20-22': 11, '22-24': 8}\n"
     ]
    },
    {
     "data": {
      "text/plain": [
       "461"
      ]
     },
     "execution_count": 20,
     "metadata": {},
     "output_type": "execute_result"
    }
   ],
   "source": [
    "# 2시간 주기\n",
    "hours3 = count_hours3.keys()\n",
    "count_2hour3 = {}\n",
    "for i in range(0, 23, 2):\n",
    "    total3 = []\n",
    "    for j in range(i, i+2):\n",
    "        if j < 10:\n",
    "            hour3 = count_hours3[\"0{}\" .format(j)]\n",
    "            total3.append(hour3)\n",
    "        else:\n",
    "            hour3 = count_hours3[\"{}\" .format(j)]\n",
    "            total3.append(hour3)\n",
    "\n",
    "    count_2hour3[\"{}-{}\" .format(i, i+2)] = sum(total3)\n",
    "                                \n",
    "print(count_2hour3)\n",
    "sum(list(count_2hour3.values()))"
   ]
  },
  {
   "cell_type": "code",
   "execution_count": 16,
   "id": "c9f82889",
   "metadata": {},
   "outputs": [
    {
     "name": "stderr",
     "output_type": "stream",
     "text": [
      "100%|█████████████████████████████████████████████████████████████████████████| 2502/2502 [00:00<00:00, 1254830.64it/s]"
     ]
    },
    {
     "name": "stdout",
     "output_type": "stream",
     "text": [
      "Counter({'13': 181, '11': 169, '12': 164, '14': 158, '10': 154, '08': 150, '03': 144, '06': 144, '09': 144, '07': 134, '05': 134, '23': 126, '04': 123, '15': 120, '02': 104, '01': 81, '00': 75, '16': 73, '17': 35, '22': 30, '21': 20, '18': 18, '19': 11, '20': 10})\n"
     ]
    },
    {
     "name": "stderr",
     "output_type": "stream",
     "text": [
      "\n"
     ]
    },
    {
     "data": {
      "text/plain": [
       "2502"
      ]
     },
     "execution_count": 16,
     "metadata": {},
     "output_type": "execute_result"
    }
   ],
   "source": [
    "hour_l4 = []\n",
    "for i in tqdm(range(len(dates4))):\n",
    "    hour_l4.append(dates4[i][-8:-6])\n",
    "    \n",
    "count_hours4 = Counter(hour_l4)\n",
    "print(count_hours4)\n",
    "sum(list(count_hours4.values()))"
   ]
  },
  {
   "cell_type": "code",
   "execution_count": 21,
   "id": "df4c699d",
   "metadata": {},
   "outputs": [
    {
     "name": "stdout",
     "output_type": "stream",
     "text": [
      "{'0-2': 156, '2-4': 248, '4-6': 257, '6-8': 278, '8-10': 294, '10-12': 323, '12-14': 345, '14-16': 278, '16-18': 108, '18-20': 29, '20-22': 30, '22-24': 156}\n"
     ]
    },
    {
     "data": {
      "text/plain": [
       "2502"
      ]
     },
     "execution_count": 21,
     "metadata": {},
     "output_type": "execute_result"
    }
   ],
   "source": [
    "# 2시간 주기\n",
    "hours4 = count_hours1.keys()\n",
    "count_2hour4 = {}\n",
    "for i in range(0, 23, 2):\n",
    "    total4 = []\n",
    "    for j in range(i, i+2):\n",
    "        if j < 10:\n",
    "            hour4 = count_hours4[\"0{}\" .format(j)]\n",
    "            total4.append(hour4)\n",
    "        else:\n",
    "            hour4 = count_hours4[\"{}\" .format(j)]\n",
    "            total4.append(hour4)\n",
    "\n",
    "    count_2hour4[\"{}-{}\" .format(i, i+2)] = sum(total4)\n",
    "                                \n",
    "print(count_2hour4)\n",
    "sum(list(count_2hour4.values()))"
   ]
  },
  {
   "cell_type": "code",
   "execution_count": 26,
   "id": "02698380",
   "metadata": {
    "scrolled": true
   },
   "outputs": [
    {
     "data": {
      "image/png": "[encoded data removed]",
      "text/plain": [
       "<Figure size 720x360 with 1 Axes>"
      ]
     },
     "metadata": {
      "needs_background": "light"
     },
     "output_type": "display_data"
    }
   ],
   "source": [
    "#한글 폰트 설정\n",
    "\n",
    "font_name = font_manager.FontProperties(fname=\"1.font\\malgunbd.ttf\").get_name()\n",
    "matplotlib.rc('font', family=font_name)\n",
    "\n",
    "#년 게시물 빈도수 그래프 그리기\n",
    "#그래프 사이즈 지정\n",
    "plt.figure(figsize=(10, 5))\n",
    "#x,y축 네이밍\n",
    "plt.xlabel('TIME')\n",
    "plt.ylabel('CONTENTS')\n",
    "\n",
    "# x,y축 데이터\n",
    "x_label1 = count_2hour1.keys()\n",
    "y_label1 = count_2hour1.values()\n",
    "x_label2 = count_2hour2.keys()\n",
    "y_label2 = count_2hour2.values()\n",
    "x_label3 = count_2hour3.keys()\n",
    "y_label3 = count_2hour3.values()\n",
    "x_label4 = count_2hour4.keys()\n",
    "y_label4 = count_2hour4.values()\n",
    "\n",
    "plt.plot(x_label1, y_label1, \"red\", x_label2, y_label2, \"green\", \n",
    "         x_label3, y_label3, \"blue\", x_label4, y_label4, \"orange\")\n",
    "plt.show()"
   ]
  },
  {
   "cell_type": "code",
   "execution_count": null,
   "id": "f8887ed5",
   "metadata": {},
   "outputs": [],
   "source": []
  }
 ],
 "metadata": {
  "kernelspec": {
   "display_name": "Python 3",
   "language": "python",
   "name": "python3"
  },
  "language_info": {
   "codemirror_mode": {
    "name": "ipython",
    "version": 3
   },
   "file_extension": ".py",
   "mimetype": "text/x-python",
   "name": "python",
   "nbconvert_exporter": "python",
   "pygments_lexer": "ipython3",
   "version": "3.8.8"
  }
 },
 "nbformat": 4,
 "nbformat_minor": 5
}
