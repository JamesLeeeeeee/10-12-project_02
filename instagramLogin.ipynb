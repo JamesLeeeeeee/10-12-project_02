{
 "cells": [
  {
   "cell_type": "code",
   "execution_count": 7,
   "id": "381b9d4e",
   "metadata": {},
   "outputs": [
    {
     "name": "stderr",
     "output_type": "stream",
     "text": [
      "<ipython-input-7-b59f70b3df08>:35: DeprecationWarning: use options instead of chrome_options\n",
      "  self.driver=webdriver.Chrome(chrome_options=chrome_options,executable_path=path)\n"
     ]
    }
   ],
   "source": [
    "import pandas as pd\n",
    "import random\n",
    "from random_user_agent.params import SoftwareName, OperatingSystem\n",
    "from random_user_agent.user_agent import UserAgent\n",
    "from selenium import webdriver\n",
    "from selenium.webdriver.chrome.options import Options\n",
    "from selenium.common.exceptions import NoSuchElementException\n",
    "from selenium.common.exceptions import ElementClickInterceptedException\n",
    "import time\n",
    "import json\n",
    "\n",
    "class IG_Bot:\n",
    "    '''creating a Bot that acts like me.'''\n",
    "    \n",
    "    def __init__(self, username, password):\n",
    "        software_names= [SoftwareName.CHROME.value]\n",
    "        operating_systems=[OperatingSystem.WINDOWS.value]\n",
    "        \n",
    "        #Randomized User ID\n",
    "        user_agent_rotator= UserAgent(software_name = software_names,\n",
    "                                     operating_systems=operating_systems,\n",
    "                                     limit=100)\n",
    "        user_agent= user_agent_rotator.get_random_user_agent()\n",
    "        chrome_options=Options()\n",
    "#        chrome_options.add_argument(\"--headless\")\n",
    "        chrome_options.add_argument(\"--no-sendbox\")\n",
    "        chrome_options.add_argument(\"--disable-gpu\")\n",
    "        chrome_options.add_argument(f'user-agent={user_agent}')\n",
    "        path='c:\\python_temp\\chromedriver.exe'\n",
    "        \n",
    "        cookies_file_path='c:\\IG\\cookies.json'\n",
    "        cookie_websites=['https://instagram.com']\n",
    "        self.cookies_file_path= cookies_file_path\n",
    "        self.cookie_websites= cookie_websites\n",
    "        self.driver=webdriver.Chrome(chrome_options=chrome_options,executable_path=path)\n",
    "        \n",
    "        self.driver.get('https://instagram.com')\n",
    "        time.sleep(3)\n",
    "\n",
    "        try:\n",
    "            cookies=json.load(open(self.cookies_file_path,'rb'))\n",
    "            for website in self.cookie_websites:\n",
    "                for cookie in cookies:\n",
    "                    self.driver.add_cookie(cookie)\n",
    "                    \n",
    "        except Exceptions as e:\n",
    "            print(str(e))\n",
    "        \n",
    "    def save_cookie(self):\n",
    "        '''Save cookie'''\n",
    "        json.dump(self.driver.get_cookies(),open('c:\\IG\\cookies.json','w'))\n",
    "    \n",
    "    def load_cookies(self):\n",
    "        '''Load cookies into browser'''\n",
    "        cookies= json.load(open('cookies.json','rb'))\n",
    "        for cookie in cookies:\n",
    "            self.driver.add_cookie(cookie)\n",
    "    \n",
    "    def login(self):\n",
    "        '''Login to Instagram'''\n",
    "        self.driver.find_element_by_xpath('//*[@id=\"loginForm\"]/div/div[1]/div/label/input').send_keys(username)\n",
    "        self.driver.find_element_by_xpath('//*[@id=\"loginForm\"]/div/div[2]/div/label/input').send_keys(password)\n",
    "        time.sleep(0.3)\n",
    "        self.driver.find_element_by_xpath('//*[@id=\"loginForm\"]/div/div[3]').click()\n",
    "        time.sleep(3)\n",
    "        self.driver.find_element_by_xpath('//*[@id=\"react-root\"]/section/main/div/div/div/div/button').click()\n",
    "        time.sleep(0.5)\n",
    "        self.driver.find_element_by_xpath('/html/body/div[5]/div/div/div/div[3]/button[2]').click()\n",
    "        \n",
    "if __name__=='__main__':\n",
    "    \"Main (runs thr classes/functions)\"\n",
    "    data=pd.read_csv('c:\\IG\\secret.txt',header=None)\n",
    "    username=data.iloc[0][0]\n",
    "    password=data.iloc[1][0]\n",
    "    \n",
    "    bot=IG_Bot(username,password)\n",
    "    bot.login()"
   ]
  },
  {
   "cell_type": "code",
   "execution_count": 13,
   "id": "086606cf",
   "metadata": {
    "scrolled": false
   },
   "outputs": [
    {
     "name": "stdout",
     "output_type": "stream",
     "text": [
      "__teamproject2__\n"
     ]
    }
   ],
   "source": [
    "data=pd.read_csv('c:\\IG\\secret.txt',header=None)\n",
    "print(data.iloc[0][0])\n"
   ]
  },
  {
   "cell_type": "code",
   "execution_count": 55,
   "id": "7bf5dbd8",
   "metadata": {},
   "outputs": [],
   "source": [
    "def save_cookie(self):\n",
    "        '''Save cookie'''\n",
    "        json.dump(self.driver.get_cookies(),open('c:\\IG\\cookies.json','w'))\n",
    "save_cookie(bot)"
   ]
  }
 ],
 "metadata": {
  "kernelspec": {
   "display_name": "Python 3",
   "language": "python",
   "name": "python3"
  },
  "language_info": {
   "codemirror_mode": {
    "name": "ipython",
    "version": 3
   },
   "file_extension": ".py",
   "mimetype": "text/x-python",
   "name": "python",
   "nbconvert_exporter": "python",
   "pygments_lexer": "ipython3",
   "version": "3.8.8"
  }
 },
 "nbformat": 4,
 "nbformat_minor": 5
}
