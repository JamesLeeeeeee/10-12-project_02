{
 "cells": [
  {
   "cell_type": "code",
   "execution_count": 1,
   "id": "e540419b",
   "metadata": {},
   "outputs": [],
   "source": [
    "import instagram_jamin as jm\n",
    "from selenium import webdriver\n",
    "from bs4 import BeautifulSoup\n",
    "from selenium.webdriver.support.ui import WebDriverWait\n",
    "from selenium.webdriver.common.by import By\n",
    "from selenium.webdriver.support import expected_conditions as EC\n",
    "from selenium.common.exceptions import NoSuchElementException, ElementClickInterceptedException\n",
    "from selenium.webdriver.common.keys import Keys\n",
    "import json\n",
    "import random\n",
    "import time"
   ]
  },
  {
   "cell_type": "code",
   "execution_count": 2,
   "id": "b874d0a1",
   "metadata": {},
   "outputs": [],
   "source": [
    "def run():\n",
    "    # 브라우저 열기\n",
    "    path = \"/Users/jaminkim/python/chromedriver\"\n",
    "    driver = webdriver.Chrome(path)\n",
    "\n",
    "    html = driver.page_source\n",
    "    soup = BeautifulSoup(html, \"html.parser\")\n",
    "\n",
    "    jm.insta_open(driver)\n",
    "    jm.insta_login(driver)\n",
    "    \n",
    "    while True:\n",
    "        # 검색어 입력받기\n",
    "        kwd = input(\"검색어를 입력해주세요 : \")\n",
    "        if bool(kwd) == False:\n",
    "            print(\"다시 입력해주세요.\")\n",
    "            continue\n",
    "        else:\n",
    "            break\n",
    "    # 검색 화면 이동\n",
    "    driver.get(\"https://www.instagram.com/explore/tags/\"+kwd)\n",
    "    \n",
    "    try:\n",
    "        # 화면이 뜰 때까지 대기\n",
    "        WebDriverWait(driver, 10).until(EC.presence_of_element_located((By.XPATH, '//*[@id=\"react-root\"]/section/main/article/div[1]/div/div/div[1]/div[1]/a/div')))\n",
    "    except TimeoutError:\n",
    "        pass\n",
    "    else:\n",
    "        no = 1\n",
    "        # 첫번 째 게시글 클릭\n",
    "        driver.find_element_by_xpath('//*[@id=\"react-root\"]/section/main/article/div[1]/div/div/div[1]/div[1]/a/div').click()\n",
    "        # 편의를 위해 10으로 임시 지정\n",
    "        while no < 10:\n",
    "            try:\n",
    "                # 각 항목 크롤링\n",
    "                jm.img_crawl(driver)\n",
    "                jm.id_crawl(driver)\n",
    "                jm.text_crawl(driver)\n",
    "                jm.hashtag_crawl(driver)\n",
    "                jm.like_crawl(driver)\n",
    "                jm.location_crawl(driver)\n",
    "                jm.date_crawl(driver)\n",
    "                # 랜덤으로 타임슬립\n",
    "                time.sleep(1+ random.randrange(1,7))             \n",
    "            except NoSuchElementException:\n",
    "                continue    \n",
    "            else:\n",
    "                # 다음 게시글 이동\n",
    "                driver.find_element_by_xpath('/html/body').send_keys(Keys.RIGHT)\n",
    "                no += 1\n",
    "\n",
    "        # 데이터 저장\n",
    "        jm.save_data(kwd)\n",
    "        print(no)\n"
   ]
  },
  {
   "cell_type": "code",
   "execution_count": 3,
   "id": "9b227b38",
   "metadata": {},
   "outputs": [
    {
     "name": "stdout",
     "output_type": "stream",
     "text": [
      "검색어를 입력해주세요 : 혜화역1번출구\n",
      "{'id': ['joo_suk_park_', 'hyuneesera', 'for_riha', 'yusunny26', 'beerpub', 'orenokatsu', 'sunshine_hwang', 'actressunhye', 'mondforet'], 'location': ['동양예술극장', '혜화역', '대학로/혜화', '', '대학로/혜화', '대학로/혜화', '', '', '혜화역'], 'date': ['2020-12-23', '2021-06-01', '2019-08-26', '2019-09-06', '2020-12-06', '2020-07-16', '2021-09-11', '2019-10-06', '2019-11-12'], 'like': ['좋아요 72개', '좋아요 40개', '좋아요 30개', '좋아요 24개', '좋아요 124개', '좋아요 155개', '좋아요 19개', '좋아요 196개', '좋아요 32개'], 'text': ['#서울 #동숭동 #혜화역1번출구\\n#참기름톡 #연극 #12월19일..1월3일\\n#볼만한연극 #20년차이상부부에게..\\n#코로나19물라가라 #좋은공연 #그나마웃는다 #연극스타그램\\n#황근생대표님과함께\\n\\n코로나19가 격상된 지금..\\n멘탈잡기가 쉽지 않는 요즘..\\n\\n황대표님에 추천연극..\\n참기름톡!\\n20년12월19일..21년1월3일 까지..\\n\\n짧은 공연이라..부랴부랴 달려갔다.\\n\\n코로나19 때문에..\\n소중함을 잠시 잊고 있던,\\n나에게..큰 교훈을 주기에는 충분했다.\\n\\n소중한것을..지키기 위해..\\n힘내자..아자..👍\\n\\n20.12.23', '#혜화역1번출구 본진 전광판\\n생일기념 데뷔기념\\n예쁘다♥️💜😍😍😍\\n.\\n.\\n.\\n#HAPPY_HOONSDAY\\n#고훈정_노래해_평생_노래해\\n#훉광판_웰컴달링_나를_기다렸나\\n.\\n.\\n.\\n#고훈정 #뮤지컬배우고훈정\\n#포디콰고훈정\\n#훈레옹 #훈홍규 #훈고지 #훈냥이 #훈백작 #훈아더 #훈화엑 #훈빈치 #훈킬레스 #훈루카 #훈랖 #훈맆랖 #그리고내가보지못한모든훈들', '오늘 아름다운 것을 보았네🤩\\n나를위한 선물💝\\n#서울대졸업식\\n#꽃다발득템\\n#아프지말고행복하자\\n#혜화역1번출구\\n#미란아고마워💛', '9월5일.\\n\\n어제 댕로온 김지민이와.\\n퇴근 하였으나, 계속 회사 주변 어슬렁.\\n\\n라공방, 타이거슈가.\\n밀크폼을 얹어야 덜달다고 하길래,\\n먹어봤는데, 덜단것 같긴하지만,\\n댕로점이 유독 단걸로...\\n씨어터카페 뒷쪽에서 만난 냥이.\\n\\n#직장인퇴근후일상 #마라탕 #꿔바로우 #라공방 #대학로맛집 #혜화역2번출구 #타이거슈가 #혜화역1번출구', '결국 코로나 2.5단계 격상 되었네요 ㅜㅜ\\n코로나가 종식되고 훗날 이 글을 보면 어떤 기분이 들까 잠시 생각에 잠기네요.\\n\\n피할 수 없다면 이겨내야죠!\\n\\n5km 근방에 계신분은 배민과 쿠팡이츠를 통해서\\n음식과 주류를 받아 보실 수 있습니다(12시 까지)\\n\\n#대학로에취하다 #혜화역1번출구 #수제맥주 #치즈 #와인 #하몽 #계절과일 #브라타치즈샐러드 #수도원맥주\\n#crafrbeer #배민라이더스 #배달의민족 #배민 #쿠팡 #쿠팡이츠 #배달 #음식배달 #배달음식 #배달맛집\\n#피할수없다면이겨내자 #코로나나쁜놈 #ㅜㅜ', '#오레노카츠_대학로점 #D-day!\\n\\n아직 여러가지로 정리할게 많지만\\n오늘 저녁 오레노카츠 대학로점 #첫오픈 합니다!🙆🏻\\u200d♀️\\n\\n#혜화역1번출구 맥도날드 옆이예요\\n대학로점도 잘 부탁드립니다🙌', '몇년만에 연극보러 혜화역 나들이.\\n아이들도 볼수있는\\n\"시간을 파는 상점\"\\n\\n감동도 있고.잼나고\\n애들이 조금더 커서 다시 보면\\n더 좋았겠다 싶었던..\\n\\n책을 봐야겠다.\\n원작과 살짝 다르다곤 하는데\\n책보고 아이들과 얘기나누면\\n더 뜻깊겠다 싶은 연극^^\\n\\n추천드립니다~^-^\\n\\n#시간을파는상점#파랑씨어터#혜화역1번출구#오랫만에연극관람#애들은오늘많이걸은것만생각난댄다#이럴꺼면담엔혼자가고싶다', '#대학로코난카페#혜화역1번출구 #카페구경은 담에 와서 찬찬히 하는걸로 #성우김선혜 #팬들이주신선물 정말 감사합니다♡♡ #코난굿즈 오늘 사인회에 와주신 모든 분들 넘 감사해요♡날씨가 좋아서 또 한 번 감사한 하루 #나의지구를지켜줘 #슈스란 #배틀짱 #제랄드 기억하시는 팬이 계셔서 감동. 코난을 보며 힘든 일들을 잊고 눈물을 멈췄다는 말씀에 또 감동. 더 열심히 연습하고 연습하자. 그 누군가에게 나의 목소리가 위로가 될 수 있다니 난 정말 행복한 사람이다 #사진제공 미래의 한국최고의프로파일러 eileen_liel_choe.hjc님', '우리가 사랑하는 작은 숲 . mondforêt\\n혜화동 로터리 한 골목 오랜 역사가 있는 곳에서 ,\\n제가 좋아하는 꽃과 식물들을 보여 드릴 수 있는 공간을 오픈합니다\\n꽃을 처음 만질 때 부터 키워왔던 꿈을 좋은 기회로 이루게 되서 떨리고 설레네요..\\n-\\n🧡🌲 우리, 몬드포레에서 만나요 !\\n-\\n-\\n종로구 창경궁로 35길 21 1F\\n꽃 주문 및 문의 010 2415 8040\\n\\n#꽃집#오픈#오픈이벤트중#혜화역1번출구#도보5분#헤화동맛집#혜화역데이트#대학로데이트#대학로꽃집#혜화꽃집#성북동꽃집#배우꽃다발#연극#연우소극장#연우무대#jcc아트센터#연주회꽃다발#몬드포레#mondforet'], 'hashtag': ['#서울', '#동숭동', '#혜화역1번출구', '#참기름톡', '#연극', '#12월19일', '#볼만한연극', '#20년차이상부부에게', '#코로나19물라가라', '#좋은공연', '#그나마웃는다', '#연극스타그램', '#황근생대표님과함께', '#혜화역1번출구', '#HAPPY_HOONSDAY', '#고훈정_노래해_평생_노래해', '#훉광판_웰컴달링_나를_기다렸나', '#고훈정', '#뮤지컬배우고훈정', '#포디콰고훈정', '#훈레옹', '#훈홍규', '#훈고지', '#훈냥이', '#훈백작', '#훈아더', '#훈화엑', '#훈빈치', '#훈킬레스', '#훈루카', '#훈랖', '#훈맆랖', '#그리고내가보지못한모든훈들', '#서울대졸업식', '#꽃다발득템', '#아프지말고행복하자', '#혜화역1번출구', '#미란아고마워💛', '#직장인퇴근후일상', '#마라탕', '#꿔바로우', '#라공방', '#대학로맛집', '#혜화역2번출구', '#타이거슈가', '#혜화역1번출구', '#대학로에취하다', '#혜화역1번출구', '#수제맥주', '#치즈', '#와인', '#하몽', '#계절과일', '#브라타치즈샐러드', '#수도원맥주', '#crafrbeer', '#배민라이더스', '#배달의민족', '#배민', '#쿠팡', '#쿠팡이츠', '#배달', '#음식배달', '#배달음식', '#배달맛집', '#피할수없다면이겨내자', '#코로나나쁜놈', '#ㅜㅜ', '#오레노카츠_대학로점', '#D', '#첫오픈', '#혜화역1번출구', '#혜화', '#오픈', '#혜화맛집', '#데이트맛집', '#대학로맛집', '#연극맛집', '#성수', '#성수맛집', '#돈까스맛집', '#돈카츠맛집', '#성곽길데이트', '#성균관대맛집', '#서울대병원', '#성대맛집', '#일상', '#소통', '#시간을파는상점', '#파랑씨어터', '#혜화역1번출구', '#오랫만에연극관람', '#애들은오늘많이걸은것만생각난댄다', '#이럴꺼면담엔혼자가고싶다', '#대학로코난카페', '#혜화역1번출구', '#카페구경은', '#성우김선혜', '#팬들이주신선물', '#코난굿즈', '#나의지구를지켜줘', '#슈스란', '#배틀짱', '#제랄드', '#사진제공', '#꽃집', '#오픈', '#오픈이벤트중', '#혜화역1번출구', '#도보5분', '#헤화동맛집', '#혜화역데이트', '#대학로데이트', '#대학로꽃집', '#혜화꽃집', '#성북동꽃집', '#배우꽃다발', '#연극', '#연우소극장', '#연우무대', '#jcc아트센터', '#연주회꽃다발', '#몬드포레', '#mondforet'], 'img': ['https://scontent-ssn1-1.cdninstagram.com/v/t51.2885-15/e35/133029078_3926187714072579_513655182023301289_n.jpg?_nc_ht=scontent-ssn1-1.cdninstagram.com&_nc_cat=103&_nc_ohc=Kh8yj7x8DvkAX9DpvQy&edm=ABZsPhsBAAAA&ccb=7-4&oh=6c127f6afc1a7297c24ed3a103b42d9a&oe=61876CD7&_nc_sid=4efc9f&ig_cache_key=MjQ3MDUwMjUxMjU5NzYwMjgyNA%3D%3D.2-ccb7-4', 'https://scontent-ssn1-1.cdninstagram.com/v/t51.2885-15/e35/133029078_3926187714072579_513655182023301289_n.jpg?_nc_ht=scontent-ssn1-1.cdninstagram.com&_nc_cat=103&_nc_ohc=Kh8yj7x8DvkAX9DpvQy&edm=ABZsPhsBAAAA&ccb=7-4&oh=6c127f6afc1a7297c24ed3a103b42d9a&oe=61876CD7&_nc_sid=4efc9f&ig_cache_key=MjQ3MDUwMjUxMjU5NzYwMjgyNA%3D%3D.2-ccb7-4', 'https://scontent-ssn1-1.cdninstagram.com/v/t51.2885-15/e35/s1080x1080/133029078_3926187714072579_513655182023301289_n.jpg?_nc_ht=scontent-ssn1-1.cdninstagram.com&_nc_cat=103&_nc_ohc=Kh8yj7x8DvkAX9DpvQy&edm=AP_V10EBAAAA&ccb=7-4&oh=40feb7ae512487fdb5c8c426532127f9&oe=6186E229&_nc_sid=4f375e', 'https://scontent-ssn1-1.cdninstagram.com/v/t51.2885-15/e35/s1080x1080/133029078_3926187714072579_513655182023301289_n.jpg?_nc_ht=scontent-ssn1-1.cdninstagram.com&_nc_cat=103&_nc_ohc=Kh8yj7x8DvkAX9DpvQy&edm=AP_V10EBAAAA&ccb=7-4&oh=40feb7ae512487fdb5c8c426532127f9&oe=6186E229&_nc_sid=4f375e', 'https://scontent-ssn1-1.cdninstagram.com/v/t51.2885-15/e35/s1080x1080/133029078_3926187714072579_513655182023301289_n.jpg?_nc_ht=scontent-ssn1-1.cdninstagram.com&_nc_cat=103&_nc_ohc=Kh8yj7x8DvkAX9DpvQy&edm=AP_V10EBAAAA&ccb=7-4&oh=40feb7ae512487fdb5c8c426532127f9&oe=6186E229&_nc_sid=4f375e', 'https://scontent-ssn1-1.cdninstagram.com/v/t51.2885-15/e35/s1080x1080/133029078_3926187714072579_513655182023301289_n.jpg?_nc_ht=scontent-ssn1-1.cdninstagram.com&_nc_cat=103&_nc_ohc=Kh8yj7x8DvkAX9DpvQy&edm=AP_V10EBAAAA&ccb=7-4&oh=40feb7ae512487fdb5c8c426532127f9&oe=6186E229&_nc_sid=4f375e', 'https://scontent-ssn1-1.cdninstagram.com/v/t51.2885-15/e35/s1080x1080/133029078_3926187714072579_513655182023301289_n.jpg?_nc_ht=scontent-ssn1-1.cdninstagram.com&_nc_cat=103&_nc_ohc=Kh8yj7x8DvkAX9DpvQy&edm=AP_V10EBAAAA&ccb=7-4&oh=40feb7ae512487fdb5c8c426532127f9&oe=6186E229&_nc_sid=4f375e', 'https://scontent-ssn1-1.cdninstagram.com/v/t51.2885-15/e35/s1080x1080/133029078_3926187714072579_513655182023301289_n.jpg?_nc_ht=scontent-ssn1-1.cdninstagram.com&_nc_cat=103&_nc_ohc=Kh8yj7x8DvkAX9DpvQy&edm=AP_V10EBAAAA&ccb=7-4&oh=40feb7ae512487fdb5c8c426532127f9&oe=6186E229&_nc_sid=4f375e', 'https://scontent-ssn1-1.cdninstagram.com/v/t51.2885-15/e35/s1080x1080/133029078_3926187714072579_513655182023301289_n.jpg?_nc_ht=scontent-ssn1-1.cdninstagram.com&_nc_cat=103&_nc_ohc=Kh8yj7x8DvkAX9DpvQy&edm=AP_V10EBAAAA&ccb=7-4&oh=40feb7ae512487fdb5c8c426532127f9&oe=6186E229&_nc_sid=4f375e', 'https://scontent-ssn1-1.cdninstagram.com/v/t51.2885-15/e35/s1080x1080/133029078_3926187714072579_513655182023301289_n.jpg?_nc_ht=scontent-ssn1-1.cdninstagram.com&_nc_cat=103&_nc_ohc=Kh8yj7x8DvkAX9DpvQy&edm=AP_V10EBAAAA&ccb=7-4&oh=40feb7ae512487fdb5c8c426532127f9&oe=6186E229&_nc_sid=4f375e', 'https://scontent-ssn1-1.cdninstagram.com/v/t51.2885-15/e35/s1080x1080/133029078_3926187714072579_513655182023301289_n.jpg?_nc_ht=scontent-ssn1-1.cdninstagram.com&_nc_cat=103&_nc_ohc=Kh8yj7x8DvkAX9DpvQy&edm=AP_V10EBAAAA&ccb=7-4&oh=40feb7ae512487fdb5c8c426532127f9&oe=6186E229&_nc_sid=4f375e', 'https://scontent-ssn1-1.cdninstagram.com/v/t51.2885-15/e35/s1080x1080/133029078_3926187714072579_513655182023301289_n.jpg?_nc_ht=scontent-ssn1-1.cdninstagram.com&_nc_cat=103&_nc_ohc=Kh8yj7x8DvkAX9DpvQy&edm=AP_V10EBAAAA&ccb=7-4&oh=40feb7ae512487fdb5c8c426532127f9&oe=6186E229&_nc_sid=4f375e', 'https://scontent-ssn1-1.cdninstagram.com/v/t51.2885-15/e35/s1080x1080/133029078_3926187714072579_513655182023301289_n.jpg?_nc_ht=scontent-ssn1-1.cdninstagram.com&_nc_cat=103&_nc_ohc=Kh8yj7x8DvkAX9DpvQy&edm=AP_V10EBAAAA&ccb=7-4&oh=40feb7ae512487fdb5c8c426532127f9&oe=6186E229&_nc_sid=4f375e', 'https://scontent-ssn1-1.cdninstagram.com/v/t51.2885-15/e35/s1080x1080/133029078_3926187714072579_513655182023301289_n.jpg?_nc_ht=scontent-ssn1-1.cdninstagram.com&_nc_cat=103&_nc_ohc=Kh8yj7x8DvkAX9DpvQy&edm=AP_V10EBAAAA&ccb=7-4&oh=40feb7ae512487fdb5c8c426532127f9&oe=6186E229&_nc_sid=4f375e', 'https://scontent-ssn1-1.cdninstagram.com/v/t51.2885-15/e35/s1080x1080/133029078_3926187714072579_513655182023301289_n.jpg?_nc_ht=scontent-ssn1-1.cdninstagram.com&_nc_cat=103&_nc_ohc=Kh8yj7x8DvkAX9DpvQy&edm=AP_V10EBAAAA&ccb=7-4&oh=40feb7ae512487fdb5c8c426532127f9&oe=6186E229&_nc_sid=4f375e', 'https://scontent-ssn1-1.cdninstagram.com/v/t51.2885-15/e35/s1080x1080/133029078_3926187714072579_513655182023301289_n.jpg?_nc_ht=scontent-ssn1-1.cdninstagram.com&_nc_cat=103&_nc_ohc=Kh8yj7x8DvkAX9DpvQy&edm=AP_V10EBAAAA&ccb=7-4&oh=40feb7ae512487fdb5c8c426532127f9&oe=6186E229&_nc_sid=4f375e', 'https://scontent-ssn1-1.cdninstagram.com/v/t51.2885-15/e35/s1080x1080/133029078_3926187714072579_513655182023301289_n.jpg?_nc_ht=scontent-ssn1-1.cdninstagram.com&_nc_cat=103&_nc_ohc=Kh8yj7x8DvkAX9DpvQy&edm=AP_V10EBAAAA&ccb=7-4&oh=40feb7ae512487fdb5c8c426532127f9&oe=6186E229&_nc_sid=4f375e', 'https://scontent-ssn1-1.cdninstagram.com/v/t51.2885-15/e35/s1080x1080/133029078_3926187714072579_513655182023301289_n.jpg?_nc_ht=scontent-ssn1-1.cdninstagram.com&_nc_cat=103&_nc_ohc=Kh8yj7x8DvkAX9DpvQy&edm=AP_V10EBAAAA&ccb=7-4&oh=40feb7ae512487fdb5c8c426532127f9&oe=6186E229&_nc_sid=4f375e']}\n",
      "10\n"
     ]
    }
   ],
   "source": [
    "run()"
   ]
  },
  {
   "cell_type": "code",
   "execution_count": null,
   "id": "c373af12",
   "metadata": {},
   "outputs": [],
   "source": []
  }
 ],
 "metadata": {
  "kernelspec": {
   "display_name": "Python 3",
   "language": "python",
   "name": "python3"
  },
  "language_info": {
   "codemirror_mode": {
    "name": "ipython",
    "version": 3
   },
   "file_extension": ".py",
   "mimetype": "text/x-python",
   "name": "python",
   "nbconvert_exporter": "python",
   "pygments_lexer": "ipython3",
   "version": "3.8.8"
  }
 },
 "nbformat": 4,
 "nbformat_minor": 5
}
